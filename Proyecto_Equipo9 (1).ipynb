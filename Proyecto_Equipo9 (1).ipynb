{
  "nbformat": 4,
  "nbformat_minor": 0,
  "metadata": {
    "colab": {
      "provenance": [],
      "collapsed_sections": [
        "4jUxChFk0sDU",
        "NpueWefNyLRV",
        "XGKK9sZczw74",
        "_yRWIYg8z643",
        "6f8lYdss0GlO",
        "ZBWOfzA_0Pik"
      ]
    },
    "kernelspec": {
      "name": "python3",
      "display_name": "Python 3"
    },
    "language_info": {
      "name": "python"
    }
  },
  "cells": [
    {
      "cell_type": "markdown",
      "source": [
        "#**Bedu - Curso: Tecnolochicas**"
      ],
      "metadata": {
        "id": "mOLbYY9p4oBv"
      }
    },
    {
      "cell_type": "markdown",
      "source": [
        "# Proyecto: **Análisis de crimenes reportados en Los Angeles, California en el periodo de 2010 a 2023**\n",
        "\n",
        "### Equipo #9\n",
        "####Integrantes:\n",
        "* Alexa Valentina Sánchez Tamez\n",
        "* Yamitzi Zempoalteca Zecua\n",
        "* Maria Teresa Hernandez\n",
        "* Maria Fernanda Uch Dzib"
      ],
      "metadata": {
        "id": "-yb5-fBwxcQ2"
      }
    },
    {
      "cell_type": "markdown",
      "source": [
        "## Introducción\n",
        "En Los Ángeles California se ha generado y experimentado  de parte de los habitantetes y autoridades un preocupante aumento en la incidencia de crímenes desde el año 2010 hasta el presente año, 2023. Este fenómeno plantea serias preocupaciones para la seguridad pública y la calidad de vida de los residentes.\n"
      ],
      "metadata": {
        "id": "h3EQ73K_x_in"
      }
    },
    {
      "cell_type": "markdown",
      "source": [
        "## Sección 0: Importación de Librerías\n",
        "\n",
        "En esta sección se importan las librerías necesarias para la limpieza del dataset y el desarrollo del proyecto."
      ],
      "metadata": {
        "id": "4jUxChFk0sDU"
      }
    },
    {
      "cell_type": "code",
      "source": [
        "from google.colab import drive\n",
        "drive.mount('/content/drive')"
      ],
      "metadata": {
        "colab": {
          "base_uri": "https://localhost:8080/"
        },
        "id": "-bEAnvxf5TZo",
        "outputId": "e076a1b2-0e56-4290-e2f6-2feaf1b0a5c3"
      },
      "execution_count": null,
      "outputs": [
        {
          "output_type": "stream",
          "name": "stdout",
          "text": [
            "Drive already mounted at /content/drive; to attempt to forcibly remount, call drive.mount(\"/content/drive\", force_remount=True).\n"
          ]
        }
      ]
    },
    {
      "cell_type": "code",
      "source": [
        "import pandas as pd\n",
        "import numpy as np\n",
        "from scipy.stats import skew, kurtosis"
      ],
      "metadata": {
        "id": "eoZkng_u08SH"
      },
      "execution_count": null,
      "outputs": []
    },
    {
      "cell_type": "code",
      "source": [
        "import seaborn as sns\n",
        "import matplotlib.pyplot as plt\n",
        "import altair as alt\n",
        "import plotly.express as px"
      ],
      "metadata": {
        "id": "XMlKfM8Y08gw"
      },
      "execution_count": null,
      "outputs": []
    },
    {
      "cell_type": "code",
      "source": [
        "from sklearn.linear_model import LinearRegression\n",
        "from sklearn.model_selection import train_test_split\n",
        "from sklearn.model_selection import cross_validate"
      ],
      "metadata": {
        "id": "0X1MnA0n8spk"
      },
      "execution_count": null,
      "outputs": []
    },
    {
      "cell_type": "markdown",
      "source": [
        "## Sección 1: Limpieza y Preparación de los Datos"
      ],
      "metadata": {
        "id": "NpueWefNyLRV"
      }
    },
    {
      "cell_type": "markdown",
      "source": [
        "El conjunto de datos contiene información recopilada de informes de delitos e incidentes denunciados en la ciudad de Los Ángeles, California, Estados Unidos. Los datos abarcan desde el año 2010 hasta el 2023 y fueron proporcionados por el departamento de policía de Los Ángeles.\n",
        "\n",
        "Este conjunto de datos proporciona detalles sobre la hora y los lugares en los que se cometieron los crímenes, así como información sobre las víctimas y descripciones de los delitos.\n",
        "\n",
        "La obtención de este conjunto de datos se realizó a través de la plataforma Kaggle, una de las más grandes en el ámbito de la Ciencia de Datos, que ofrece la posibilidad de encontrar y publicar diversos conjuntos de datos.\n",
        "\n"
      ],
      "metadata": {
        "id": "e6hKjpxh_iaP"
      }
    },
    {
      "cell_type": "markdown",
      "source": [
        "La fuente de los archivos proviene del sitio web de datos de la ciudad de Los Ángeles y el enlace de descarga a través de la plataforma Kaggle es la siguiente:\n",
        "\n",
        "[Los Angeles Crime Data - 2010 to 2023\n",
        "](https://www.kaggle.com/datasets/manjitbaishya001/la-crime-data-2010-to-2023/data)"
      ],
      "metadata": {
        "id": "6UK4i3-HGRmZ"
      }
    },
    {
      "cell_type": "code",
      "execution_count": null,
      "metadata": {
        "id": "AgFqlteTxWYM"
      },
      "outputs": [],
      "source": [
        "# Importar los datos (Datasets)\n",
        "# Este primer dataset contiene toda la información respecto a los crímenes reportados.\n",
        "crimenes_reportados = pd.read_csv(\"/content/drive/MyDrive/Proyecto/la_crime_2010_to_2023.csv\", index_col=0)\n",
        "\n",
        "#El segundo dataset, contiene el tipo de modus operandi correspondiente al código que aparece en dicha columna del primer dataset.\n",
        "\n",
        "modus_operandi = pd.read_csv(\"/content/drive/MyDrive/Proyecto/mo_codes.csv\", index_col=0)\n",
        "\n"
      ]
    },
    {
      "cell_type": "code",
      "source": [
        "crimenes_reportados.head()"
      ],
      "metadata": {
        "colab": {
          "base_uri": "https://localhost:8080/",
          "height": 513
        },
        "id": "prxZRJuwbju_",
        "outputId": "68443f12-273e-4d03-cfa8-0f3ec19dc4f2"
      },
      "execution_count": null,
      "outputs": [
        {
          "output_type": "execute_result",
          "data": {
            "text/plain": [
              "                        Date Rptd                DATE OCC  TIME OCC  AREA   \\\n",
              "DR_NO                                                                        \n",
              "1307355    02/20/2010 12:00:00 AM  02/20/2010 12:00:00 AM      1350   13.0   \n",
              "11401303   09/13/2010 12:00:00 AM  09/12/2010 12:00:00 AM        45   14.0   \n",
              "70309629   08/09/2010 12:00:00 AM  08/09/2010 12:00:00 AM      1515   13.0   \n",
              "90631215   01/05/2010 12:00:00 AM  01/05/2010 12:00:00 AM       150    6.0   \n",
              "100100501  01/03/2010 12:00:00 AM  01/02/2010 12:00:00 AM      2100    1.0   \n",
              "\n",
              "           AREA NAME  Rpt Dist No  Part 1-2  Crm Cd  \\\n",
              "DR_NO                                                 \n",
              "1307355       Newton         1385         2     900   \n",
              "11401303     Pacific         1485         2     740   \n",
              "70309629      Newton         1324         2     946   \n",
              "90631215   Hollywood          646         2     900   \n",
              "100100501    Central          176         1     122   \n",
              "\n",
              "                                                 Crm Cd Desc         Mocodes  \\\n",
              "DR_NO                                                                          \n",
              "1307355                             VIOLATION OF COURT ORDER  0913 1814 2000   \n",
              "11401303   VANDALISM - FELONY ($400 & OVER, ALL CHURCH VA...            0329   \n",
              "70309629                           OTHER MISCELLANEOUS CRIME            0344   \n",
              "90631215                            VIOLATION OF COURT ORDER  1100 0400 1402   \n",
              "100100501                                    RAPE, ATTEMPTED            0400   \n",
              "\n",
              "           ...   Status Desc Crm Cd 1 Crm Cd 2  Crm Cd 3 Crm Cd 4  \\\n",
              "DR_NO      ...                                                      \n",
              "1307355    ...  Adult Arrest    900.0      NaN       NaN      NaN   \n",
              "11401303   ...   Invest Cont    740.0      NaN       NaN      NaN   \n",
              "70309629   ...   Invest Cont    946.0      NaN       NaN      NaN   \n",
              "90631215   ...   Invest Cont    900.0    998.0       NaN      NaN   \n",
              "100100501  ...   Invest Cont    122.0      NaN       NaN      NaN   \n",
              "\n",
              "                                          LOCATION  \\\n",
              "DR_NO                                                \n",
              "1307355     300 E  GAGE                         AV   \n",
              "11401303           SEPULVEDA                    BL   \n",
              "70309629   1300 E  21ST                         ST   \n",
              "90631215           CAHUENGA                     BL   \n",
              "100100501          8TH                          ST   \n",
              "\n",
              "                              Cross Street      LAT       LON  AREA  \n",
              "DR_NO                                                                \n",
              "1307355                                NaN  33.9825 -118.2695   NaN  \n",
              "11401303   MANCHESTER                   AV  33.9599 -118.3962   NaN  \n",
              "70309629                               NaN  34.0224 -118.2524   NaN  \n",
              "90631215   HOLLYWOOD                    BL  34.1016 -118.3295   NaN  \n",
              "100100501  SAN PEDRO                    ST  34.0387 -118.2488   NaN  \n",
              "\n",
              "[5 rows x 28 columns]"
            ],
            "text/html": [
              "\n",
              "  <div id=\"df-c0f01003-f426-4d94-b8a4-51a7bfcff503\" class=\"colab-df-container\">\n",
              "    <div>\n",
              "<style scoped>\n",
              "    .dataframe tbody tr th:only-of-type {\n",
              "        vertical-align: middle;\n",
              "    }\n",
              "\n",
              "    .dataframe tbody tr th {\n",
              "        vertical-align: top;\n",
              "    }\n",
              "\n",
              "    .dataframe thead th {\n",
              "        text-align: right;\n",
              "    }\n",
              "</style>\n",
              "<table border=\"1\" class=\"dataframe\">\n",
              "  <thead>\n",
              "    <tr style=\"text-align: right;\">\n",
              "      <th></th>\n",
              "      <th>Date Rptd</th>\n",
              "      <th>DATE OCC</th>\n",
              "      <th>TIME OCC</th>\n",
              "      <th>AREA</th>\n",
              "      <th>AREA NAME</th>\n",
              "      <th>Rpt Dist No</th>\n",
              "      <th>Part 1-2</th>\n",
              "      <th>Crm Cd</th>\n",
              "      <th>Crm Cd Desc</th>\n",
              "      <th>Mocodes</th>\n",
              "      <th>...</th>\n",
              "      <th>Status Desc</th>\n",
              "      <th>Crm Cd 1</th>\n",
              "      <th>Crm Cd 2</th>\n",
              "      <th>Crm Cd 3</th>\n",
              "      <th>Crm Cd 4</th>\n",
              "      <th>LOCATION</th>\n",
              "      <th>Cross Street</th>\n",
              "      <th>LAT</th>\n",
              "      <th>LON</th>\n",
              "      <th>AREA</th>\n",
              "    </tr>\n",
              "    <tr>\n",
              "      <th>DR_NO</th>\n",
              "      <th></th>\n",
              "      <th></th>\n",
              "      <th></th>\n",
              "      <th></th>\n",
              "      <th></th>\n",
              "      <th></th>\n",
              "      <th></th>\n",
              "      <th></th>\n",
              "      <th></th>\n",
              "      <th></th>\n",
              "      <th></th>\n",
              "      <th></th>\n",
              "      <th></th>\n",
              "      <th></th>\n",
              "      <th></th>\n",
              "      <th></th>\n",
              "      <th></th>\n",
              "      <th></th>\n",
              "      <th></th>\n",
              "      <th></th>\n",
              "      <th></th>\n",
              "    </tr>\n",
              "  </thead>\n",
              "  <tbody>\n",
              "    <tr>\n",
              "      <th>1307355</th>\n",
              "      <td>02/20/2010 12:00:00 AM</td>\n",
              "      <td>02/20/2010 12:00:00 AM</td>\n",
              "      <td>1350</td>\n",
              "      <td>13.0</td>\n",
              "      <td>Newton</td>\n",
              "      <td>1385</td>\n",
              "      <td>2</td>\n",
              "      <td>900</td>\n",
              "      <td>VIOLATION OF COURT ORDER</td>\n",
              "      <td>0913 1814 2000</td>\n",
              "      <td>...</td>\n",
              "      <td>Adult Arrest</td>\n",
              "      <td>900.0</td>\n",
              "      <td>NaN</td>\n",
              "      <td>NaN</td>\n",
              "      <td>NaN</td>\n",
              "      <td>300 E  GAGE                         AV</td>\n",
              "      <td>NaN</td>\n",
              "      <td>33.9825</td>\n",
              "      <td>-118.2695</td>\n",
              "      <td>NaN</td>\n",
              "    </tr>\n",
              "    <tr>\n",
              "      <th>11401303</th>\n",
              "      <td>09/13/2010 12:00:00 AM</td>\n",
              "      <td>09/12/2010 12:00:00 AM</td>\n",
              "      <td>45</td>\n",
              "      <td>14.0</td>\n",
              "      <td>Pacific</td>\n",
              "      <td>1485</td>\n",
              "      <td>2</td>\n",
              "      <td>740</td>\n",
              "      <td>VANDALISM - FELONY ($400 &amp; OVER, ALL CHURCH VA...</td>\n",
              "      <td>0329</td>\n",
              "      <td>...</td>\n",
              "      <td>Invest Cont</td>\n",
              "      <td>740.0</td>\n",
              "      <td>NaN</td>\n",
              "      <td>NaN</td>\n",
              "      <td>NaN</td>\n",
              "      <td>SEPULVEDA                    BL</td>\n",
              "      <td>MANCHESTER                   AV</td>\n",
              "      <td>33.9599</td>\n",
              "      <td>-118.3962</td>\n",
              "      <td>NaN</td>\n",
              "    </tr>\n",
              "    <tr>\n",
              "      <th>70309629</th>\n",
              "      <td>08/09/2010 12:00:00 AM</td>\n",
              "      <td>08/09/2010 12:00:00 AM</td>\n",
              "      <td>1515</td>\n",
              "      <td>13.0</td>\n",
              "      <td>Newton</td>\n",
              "      <td>1324</td>\n",
              "      <td>2</td>\n",
              "      <td>946</td>\n",
              "      <td>OTHER MISCELLANEOUS CRIME</td>\n",
              "      <td>0344</td>\n",
              "      <td>...</td>\n",
              "      <td>Invest Cont</td>\n",
              "      <td>946.0</td>\n",
              "      <td>NaN</td>\n",
              "      <td>NaN</td>\n",
              "      <td>NaN</td>\n",
              "      <td>1300 E  21ST                         ST</td>\n",
              "      <td>NaN</td>\n",
              "      <td>34.0224</td>\n",
              "      <td>-118.2524</td>\n",
              "      <td>NaN</td>\n",
              "    </tr>\n",
              "    <tr>\n",
              "      <th>90631215</th>\n",
              "      <td>01/05/2010 12:00:00 AM</td>\n",
              "      <td>01/05/2010 12:00:00 AM</td>\n",
              "      <td>150</td>\n",
              "      <td>6.0</td>\n",
              "      <td>Hollywood</td>\n",
              "      <td>646</td>\n",
              "      <td>2</td>\n",
              "      <td>900</td>\n",
              "      <td>VIOLATION OF COURT ORDER</td>\n",
              "      <td>1100 0400 1402</td>\n",
              "      <td>...</td>\n",
              "      <td>Invest Cont</td>\n",
              "      <td>900.0</td>\n",
              "      <td>998.0</td>\n",
              "      <td>NaN</td>\n",
              "      <td>NaN</td>\n",
              "      <td>CAHUENGA                     BL</td>\n",
              "      <td>HOLLYWOOD                    BL</td>\n",
              "      <td>34.1016</td>\n",
              "      <td>-118.3295</td>\n",
              "      <td>NaN</td>\n",
              "    </tr>\n",
              "    <tr>\n",
              "      <th>100100501</th>\n",
              "      <td>01/03/2010 12:00:00 AM</td>\n",
              "      <td>01/02/2010 12:00:00 AM</td>\n",
              "      <td>2100</td>\n",
              "      <td>1.0</td>\n",
              "      <td>Central</td>\n",
              "      <td>176</td>\n",
              "      <td>1</td>\n",
              "      <td>122</td>\n",
              "      <td>RAPE, ATTEMPTED</td>\n",
              "      <td>0400</td>\n",
              "      <td>...</td>\n",
              "      <td>Invest Cont</td>\n",
              "      <td>122.0</td>\n",
              "      <td>NaN</td>\n",
              "      <td>NaN</td>\n",
              "      <td>NaN</td>\n",
              "      <td>8TH                          ST</td>\n",
              "      <td>SAN PEDRO                    ST</td>\n",
              "      <td>34.0387</td>\n",
              "      <td>-118.2488</td>\n",
              "      <td>NaN</td>\n",
              "    </tr>\n",
              "  </tbody>\n",
              "</table>\n",
              "<p>5 rows × 28 columns</p>\n",
              "</div>\n",
              "    <div class=\"colab-df-buttons\">\n",
              "\n",
              "  <div class=\"colab-df-container\">\n",
              "    <button class=\"colab-df-convert\" onclick=\"convertToInteractive('df-c0f01003-f426-4d94-b8a4-51a7bfcff503')\"\n",
              "            title=\"Convert this dataframe to an interactive table.\"\n",
              "            style=\"display:none;\">\n",
              "\n",
              "  <svg xmlns=\"http://www.w3.org/2000/svg\" height=\"24px\" viewBox=\"0 -960 960 960\">\n",
              "    <path d=\"M120-120v-720h720v720H120Zm60-500h600v-160H180v160Zm220 220h160v-160H400v160Zm0 220h160v-160H400v160ZM180-400h160v-160H180v160Zm440 0h160v-160H620v160ZM180-180h160v-160H180v160Zm440 0h160v-160H620v160Z\"/>\n",
              "  </svg>\n",
              "    </button>\n",
              "\n",
              "  <style>\n",
              "    .colab-df-container {\n",
              "      display:flex;\n",
              "      gap: 12px;\n",
              "    }\n",
              "\n",
              "    .colab-df-convert {\n",
              "      background-color: #E8F0FE;\n",
              "      border: none;\n",
              "      border-radius: 50%;\n",
              "      cursor: pointer;\n",
              "      display: none;\n",
              "      fill: #1967D2;\n",
              "      height: 32px;\n",
              "      padding: 0 0 0 0;\n",
              "      width: 32px;\n",
              "    }\n",
              "\n",
              "    .colab-df-convert:hover {\n",
              "      background-color: #E2EBFA;\n",
              "      box-shadow: 0px 1px 2px rgba(60, 64, 67, 0.3), 0px 1px 3px 1px rgba(60, 64, 67, 0.15);\n",
              "      fill: #174EA6;\n",
              "    }\n",
              "\n",
              "    .colab-df-buttons div {\n",
              "      margin-bottom: 4px;\n",
              "    }\n",
              "\n",
              "    [theme=dark] .colab-df-convert {\n",
              "      background-color: #3B4455;\n",
              "      fill: #D2E3FC;\n",
              "    }\n",
              "\n",
              "    [theme=dark] .colab-df-convert:hover {\n",
              "      background-color: #434B5C;\n",
              "      box-shadow: 0px 1px 3px 1px rgba(0, 0, 0, 0.15);\n",
              "      filter: drop-shadow(0px 1px 2px rgba(0, 0, 0, 0.3));\n",
              "      fill: #FFFFFF;\n",
              "    }\n",
              "  </style>\n",
              "\n",
              "    <script>\n",
              "      const buttonEl =\n",
              "        document.querySelector('#df-c0f01003-f426-4d94-b8a4-51a7bfcff503 button.colab-df-convert');\n",
              "      buttonEl.style.display =\n",
              "        google.colab.kernel.accessAllowed ? 'block' : 'none';\n",
              "\n",
              "      async function convertToInteractive(key) {\n",
              "        const element = document.querySelector('#df-c0f01003-f426-4d94-b8a4-51a7bfcff503');\n",
              "        const dataTable =\n",
              "          await google.colab.kernel.invokeFunction('convertToInteractive',\n",
              "                                                    [key], {});\n",
              "        if (!dataTable) return;\n",
              "\n",
              "        const docLinkHtml = 'Like what you see? Visit the ' +\n",
              "          '<a target=\"_blank\" href=https://colab.research.google.com/notebooks/data_table.ipynb>data table notebook</a>'\n",
              "          + ' to learn more about interactive tables.';\n",
              "        element.innerHTML = '';\n",
              "        dataTable['output_type'] = 'display_data';\n",
              "        await google.colab.output.renderOutput(dataTable, element);\n",
              "        const docLink = document.createElement('div');\n",
              "        docLink.innerHTML = docLinkHtml;\n",
              "        element.appendChild(docLink);\n",
              "      }\n",
              "    </script>\n",
              "  </div>\n",
              "\n",
              "\n",
              "<div id=\"df-30ed34b0-48b1-4961-8cba-763be5fc31b5\">\n",
              "  <button class=\"colab-df-quickchart\" onclick=\"quickchart('df-30ed34b0-48b1-4961-8cba-763be5fc31b5')\"\n",
              "            title=\"Suggest charts\"\n",
              "            style=\"display:none;\">\n",
              "\n",
              "<svg xmlns=\"http://www.w3.org/2000/svg\" height=\"24px\"viewBox=\"0 0 24 24\"\n",
              "     width=\"24px\">\n",
              "    <g>\n",
              "        <path d=\"M19 3H5c-1.1 0-2 .9-2 2v14c0 1.1.9 2 2 2h14c1.1 0 2-.9 2-2V5c0-1.1-.9-2-2-2zM9 17H7v-7h2v7zm4 0h-2V7h2v10zm4 0h-2v-4h2v4z\"/>\n",
              "    </g>\n",
              "</svg>\n",
              "  </button>\n",
              "\n",
              "<style>\n",
              "  .colab-df-quickchart {\n",
              "      --bg-color: #E8F0FE;\n",
              "      --fill-color: #1967D2;\n",
              "      --hover-bg-color: #E2EBFA;\n",
              "      --hover-fill-color: #174EA6;\n",
              "      --disabled-fill-color: #AAA;\n",
              "      --disabled-bg-color: #DDD;\n",
              "  }\n",
              "\n",
              "  [theme=dark] .colab-df-quickchart {\n",
              "      --bg-color: #3B4455;\n",
              "      --fill-color: #D2E3FC;\n",
              "      --hover-bg-color: #434B5C;\n",
              "      --hover-fill-color: #FFFFFF;\n",
              "      --disabled-bg-color: #3B4455;\n",
              "      --disabled-fill-color: #666;\n",
              "  }\n",
              "\n",
              "  .colab-df-quickchart {\n",
              "    background-color: var(--bg-color);\n",
              "    border: none;\n",
              "    border-radius: 50%;\n",
              "    cursor: pointer;\n",
              "    display: none;\n",
              "    fill: var(--fill-color);\n",
              "    height: 32px;\n",
              "    padding: 0;\n",
              "    width: 32px;\n",
              "  }\n",
              "\n",
              "  .colab-df-quickchart:hover {\n",
              "    background-color: var(--hover-bg-color);\n",
              "    box-shadow: 0 1px 2px rgba(60, 64, 67, 0.3), 0 1px 3px 1px rgba(60, 64, 67, 0.15);\n",
              "    fill: var(--button-hover-fill-color);\n",
              "  }\n",
              "\n",
              "  .colab-df-quickchart-complete:disabled,\n",
              "  .colab-df-quickchart-complete:disabled:hover {\n",
              "    background-color: var(--disabled-bg-color);\n",
              "    fill: var(--disabled-fill-color);\n",
              "    box-shadow: none;\n",
              "  }\n",
              "\n",
              "  .colab-df-spinner {\n",
              "    border: 2px solid var(--fill-color);\n",
              "    border-color: transparent;\n",
              "    border-bottom-color: var(--fill-color);\n",
              "    animation:\n",
              "      spin 1s steps(1) infinite;\n",
              "  }\n",
              "\n",
              "  @keyframes spin {\n",
              "    0% {\n",
              "      border-color: transparent;\n",
              "      border-bottom-color: var(--fill-color);\n",
              "      border-left-color: var(--fill-color);\n",
              "    }\n",
              "    20% {\n",
              "      border-color: transparent;\n",
              "      border-left-color: var(--fill-color);\n",
              "      border-top-color: var(--fill-color);\n",
              "    }\n",
              "    30% {\n",
              "      border-color: transparent;\n",
              "      border-left-color: var(--fill-color);\n",
              "      border-top-color: var(--fill-color);\n",
              "      border-right-color: var(--fill-color);\n",
              "    }\n",
              "    40% {\n",
              "      border-color: transparent;\n",
              "      border-right-color: var(--fill-color);\n",
              "      border-top-color: var(--fill-color);\n",
              "    }\n",
              "    60% {\n",
              "      border-color: transparent;\n",
              "      border-right-color: var(--fill-color);\n",
              "    }\n",
              "    80% {\n",
              "      border-color: transparent;\n",
              "      border-right-color: var(--fill-color);\n",
              "      border-bottom-color: var(--fill-color);\n",
              "    }\n",
              "    90% {\n",
              "      border-color: transparent;\n",
              "      border-bottom-color: var(--fill-color);\n",
              "    }\n",
              "  }\n",
              "</style>\n",
              "\n",
              "  <script>\n",
              "    async function quickchart(key) {\n",
              "      const quickchartButtonEl =\n",
              "        document.querySelector('#' + key + ' button');\n",
              "      quickchartButtonEl.disabled = true;  // To prevent multiple clicks.\n",
              "      quickchartButtonEl.classList.add('colab-df-spinner');\n",
              "      try {\n",
              "        const charts = await google.colab.kernel.invokeFunction(\n",
              "            'suggestCharts', [key], {});\n",
              "      } catch (error) {\n",
              "        console.error('Error during call to suggestCharts:', error);\n",
              "      }\n",
              "      quickchartButtonEl.classList.remove('colab-df-spinner');\n",
              "      quickchartButtonEl.classList.add('colab-df-quickchart-complete');\n",
              "    }\n",
              "    (() => {\n",
              "      let quickchartButtonEl =\n",
              "        document.querySelector('#df-30ed34b0-48b1-4961-8cba-763be5fc31b5 button');\n",
              "      quickchartButtonEl.style.display =\n",
              "        google.colab.kernel.accessAllowed ? 'block' : 'none';\n",
              "    })();\n",
              "  </script>\n",
              "</div>\n",
              "\n",
              "    </div>\n",
              "  </div>\n"
            ]
          },
          "metadata": {},
          "execution_count": 13
        }
      ]
    },
    {
      "cell_type": "code",
      "source": [
        "modus_operandi.head()"
      ],
      "metadata": {
        "colab": {
          "base_uri": "https://localhost:8080/",
          "height": 238
        },
        "id": "29tD5u3G9xv9",
        "outputId": "6f300bcc-db99-40fa-e191-c69f9e8d94fb"
      },
      "execution_count": null,
      "outputs": [
        {
          "output_type": "execute_result",
          "data": {
            "text/plain": [
              "              description\n",
              "code                     \n",
              "100   Suspect Impersonate\n",
              "101            Aid victim\n",
              "102                 Blind\n",
              "103              Crippled\n",
              "104              Customer"
            ],
            "text/html": [
              "\n",
              "  <div id=\"df-9318690a-a3b9-47c7-aa9b-f4cfb79b18f8\" class=\"colab-df-container\">\n",
              "    <div>\n",
              "<style scoped>\n",
              "    .dataframe tbody tr th:only-of-type {\n",
              "        vertical-align: middle;\n",
              "    }\n",
              "\n",
              "    .dataframe tbody tr th {\n",
              "        vertical-align: top;\n",
              "    }\n",
              "\n",
              "    .dataframe thead th {\n",
              "        text-align: right;\n",
              "    }\n",
              "</style>\n",
              "<table border=\"1\" class=\"dataframe\">\n",
              "  <thead>\n",
              "    <tr style=\"text-align: right;\">\n",
              "      <th></th>\n",
              "      <th>description</th>\n",
              "    </tr>\n",
              "    <tr>\n",
              "      <th>code</th>\n",
              "      <th></th>\n",
              "    </tr>\n",
              "  </thead>\n",
              "  <tbody>\n",
              "    <tr>\n",
              "      <th>100</th>\n",
              "      <td>Suspect Impersonate</td>\n",
              "    </tr>\n",
              "    <tr>\n",
              "      <th>101</th>\n",
              "      <td>Aid victim</td>\n",
              "    </tr>\n",
              "    <tr>\n",
              "      <th>102</th>\n",
              "      <td>Blind</td>\n",
              "    </tr>\n",
              "    <tr>\n",
              "      <th>103</th>\n",
              "      <td>Crippled</td>\n",
              "    </tr>\n",
              "    <tr>\n",
              "      <th>104</th>\n",
              "      <td>Customer</td>\n",
              "    </tr>\n",
              "  </tbody>\n",
              "</table>\n",
              "</div>\n",
              "    <div class=\"colab-df-buttons\">\n",
              "\n",
              "  <div class=\"colab-df-container\">\n",
              "    <button class=\"colab-df-convert\" onclick=\"convertToInteractive('df-9318690a-a3b9-47c7-aa9b-f4cfb79b18f8')\"\n",
              "            title=\"Convert this dataframe to an interactive table.\"\n",
              "            style=\"display:none;\">\n",
              "\n",
              "  <svg xmlns=\"http://www.w3.org/2000/svg\" height=\"24px\" viewBox=\"0 -960 960 960\">\n",
              "    <path d=\"M120-120v-720h720v720H120Zm60-500h600v-160H180v160Zm220 220h160v-160H400v160Zm0 220h160v-160H400v160ZM180-400h160v-160H180v160Zm440 0h160v-160H620v160ZM180-180h160v-160H180v160Zm440 0h160v-160H620v160Z\"/>\n",
              "  </svg>\n",
              "    </button>\n",
              "\n",
              "  <style>\n",
              "    .colab-df-container {\n",
              "      display:flex;\n",
              "      gap: 12px;\n",
              "    }\n",
              "\n",
              "    .colab-df-convert {\n",
              "      background-color: #E8F0FE;\n",
              "      border: none;\n",
              "      border-radius: 50%;\n",
              "      cursor: pointer;\n",
              "      display: none;\n",
              "      fill: #1967D2;\n",
              "      height: 32px;\n",
              "      padding: 0 0 0 0;\n",
              "      width: 32px;\n",
              "    }\n",
              "\n",
              "    .colab-df-convert:hover {\n",
              "      background-color: #E2EBFA;\n",
              "      box-shadow: 0px 1px 2px rgba(60, 64, 67, 0.3), 0px 1px 3px 1px rgba(60, 64, 67, 0.15);\n",
              "      fill: #174EA6;\n",
              "    }\n",
              "\n",
              "    .colab-df-buttons div {\n",
              "      margin-bottom: 4px;\n",
              "    }\n",
              "\n",
              "    [theme=dark] .colab-df-convert {\n",
              "      background-color: #3B4455;\n",
              "      fill: #D2E3FC;\n",
              "    }\n",
              "\n",
              "    [theme=dark] .colab-df-convert:hover {\n",
              "      background-color: #434B5C;\n",
              "      box-shadow: 0px 1px 3px 1px rgba(0, 0, 0, 0.15);\n",
              "      filter: drop-shadow(0px 1px 2px rgba(0, 0, 0, 0.3));\n",
              "      fill: #FFFFFF;\n",
              "    }\n",
              "  </style>\n",
              "\n",
              "    <script>\n",
              "      const buttonEl =\n",
              "        document.querySelector('#df-9318690a-a3b9-47c7-aa9b-f4cfb79b18f8 button.colab-df-convert');\n",
              "      buttonEl.style.display =\n",
              "        google.colab.kernel.accessAllowed ? 'block' : 'none';\n",
              "\n",
              "      async function convertToInteractive(key) {\n",
              "        const element = document.querySelector('#df-9318690a-a3b9-47c7-aa9b-f4cfb79b18f8');\n",
              "        const dataTable =\n",
              "          await google.colab.kernel.invokeFunction('convertToInteractive',\n",
              "                                                    [key], {});\n",
              "        if (!dataTable) return;\n",
              "\n",
              "        const docLinkHtml = 'Like what you see? Visit the ' +\n",
              "          '<a target=\"_blank\" href=https://colab.research.google.com/notebooks/data_table.ipynb>data table notebook</a>'\n",
              "          + ' to learn more about interactive tables.';\n",
              "        element.innerHTML = '';\n",
              "        dataTable['output_type'] = 'display_data';\n",
              "        await google.colab.output.renderOutput(dataTable, element);\n",
              "        const docLink = document.createElement('div');\n",
              "        docLink.innerHTML = docLinkHtml;\n",
              "        element.appendChild(docLink);\n",
              "      }\n",
              "    </script>\n",
              "  </div>\n",
              "\n",
              "\n",
              "<div id=\"df-236488b7-1cc3-4fa8-a04b-2abc07773678\">\n",
              "  <button class=\"colab-df-quickchart\" onclick=\"quickchart('df-236488b7-1cc3-4fa8-a04b-2abc07773678')\"\n",
              "            title=\"Suggest charts\"\n",
              "            style=\"display:none;\">\n",
              "\n",
              "<svg xmlns=\"http://www.w3.org/2000/svg\" height=\"24px\"viewBox=\"0 0 24 24\"\n",
              "     width=\"24px\">\n",
              "    <g>\n",
              "        <path d=\"M19 3H5c-1.1 0-2 .9-2 2v14c0 1.1.9 2 2 2h14c1.1 0 2-.9 2-2V5c0-1.1-.9-2-2-2zM9 17H7v-7h2v7zm4 0h-2V7h2v10zm4 0h-2v-4h2v4z\"/>\n",
              "    </g>\n",
              "</svg>\n",
              "  </button>\n",
              "\n",
              "<style>\n",
              "  .colab-df-quickchart {\n",
              "      --bg-color: #E8F0FE;\n",
              "      --fill-color: #1967D2;\n",
              "      --hover-bg-color: #E2EBFA;\n",
              "      --hover-fill-color: #174EA6;\n",
              "      --disabled-fill-color: #AAA;\n",
              "      --disabled-bg-color: #DDD;\n",
              "  }\n",
              "\n",
              "  [theme=dark] .colab-df-quickchart {\n",
              "      --bg-color: #3B4455;\n",
              "      --fill-color: #D2E3FC;\n",
              "      --hover-bg-color: #434B5C;\n",
              "      --hover-fill-color: #FFFFFF;\n",
              "      --disabled-bg-color: #3B4455;\n",
              "      --disabled-fill-color: #666;\n",
              "  }\n",
              "\n",
              "  .colab-df-quickchart {\n",
              "    background-color: var(--bg-color);\n",
              "    border: none;\n",
              "    border-radius: 50%;\n",
              "    cursor: pointer;\n",
              "    display: none;\n",
              "    fill: var(--fill-color);\n",
              "    height: 32px;\n",
              "    padding: 0;\n",
              "    width: 32px;\n",
              "  }\n",
              "\n",
              "  .colab-df-quickchart:hover {\n",
              "    background-color: var(--hover-bg-color);\n",
              "    box-shadow: 0 1px 2px rgba(60, 64, 67, 0.3), 0 1px 3px 1px rgba(60, 64, 67, 0.15);\n",
              "    fill: var(--button-hover-fill-color);\n",
              "  }\n",
              "\n",
              "  .colab-df-quickchart-complete:disabled,\n",
              "  .colab-df-quickchart-complete:disabled:hover {\n",
              "    background-color: var(--disabled-bg-color);\n",
              "    fill: var(--disabled-fill-color);\n",
              "    box-shadow: none;\n",
              "  }\n",
              "\n",
              "  .colab-df-spinner {\n",
              "    border: 2px solid var(--fill-color);\n",
              "    border-color: transparent;\n",
              "    border-bottom-color: var(--fill-color);\n",
              "    animation:\n",
              "      spin 1s steps(1) infinite;\n",
              "  }\n",
              "\n",
              "  @keyframes spin {\n",
              "    0% {\n",
              "      border-color: transparent;\n",
              "      border-bottom-color: var(--fill-color);\n",
              "      border-left-color: var(--fill-color);\n",
              "    }\n",
              "    20% {\n",
              "      border-color: transparent;\n",
              "      border-left-color: var(--fill-color);\n",
              "      border-top-color: var(--fill-color);\n",
              "    }\n",
              "    30% {\n",
              "      border-color: transparent;\n",
              "      border-left-color: var(--fill-color);\n",
              "      border-top-color: var(--fill-color);\n",
              "      border-right-color: var(--fill-color);\n",
              "    }\n",
              "    40% {\n",
              "      border-color: transparent;\n",
              "      border-right-color: var(--fill-color);\n",
              "      border-top-color: var(--fill-color);\n",
              "    }\n",
              "    60% {\n",
              "      border-color: transparent;\n",
              "      border-right-color: var(--fill-color);\n",
              "    }\n",
              "    80% {\n",
              "      border-color: transparent;\n",
              "      border-right-color: var(--fill-color);\n",
              "      border-bottom-color: var(--fill-color);\n",
              "    }\n",
              "    90% {\n",
              "      border-color: transparent;\n",
              "      border-bottom-color: var(--fill-color);\n",
              "    }\n",
              "  }\n",
              "</style>\n",
              "\n",
              "  <script>\n",
              "    async function quickchart(key) {\n",
              "      const quickchartButtonEl =\n",
              "        document.querySelector('#' + key + ' button');\n",
              "      quickchartButtonEl.disabled = true;  // To prevent multiple clicks.\n",
              "      quickchartButtonEl.classList.add('colab-df-spinner');\n",
              "      try {\n",
              "        const charts = await google.colab.kernel.invokeFunction(\n",
              "            'suggestCharts', [key], {});\n",
              "      } catch (error) {\n",
              "        console.error('Error during call to suggestCharts:', error);\n",
              "      }\n",
              "      quickchartButtonEl.classList.remove('colab-df-spinner');\n",
              "      quickchartButtonEl.classList.add('colab-df-quickchart-complete');\n",
              "    }\n",
              "    (() => {\n",
              "      let quickchartButtonEl =\n",
              "        document.querySelector('#df-236488b7-1cc3-4fa8-a04b-2abc07773678 button');\n",
              "      quickchartButtonEl.style.display =\n",
              "        google.colab.kernel.accessAllowed ? 'block' : 'none';\n",
              "    })();\n",
              "  </script>\n",
              "</div>\n",
              "\n",
              "    </div>\n",
              "  </div>\n"
            ]
          },
          "metadata": {},
          "execution_count": 14
        }
      ]
    },
    {
      "cell_type": "code",
      "source": [
        "#revisamos si hay valores NaN\n",
        "crimenes_reportados.isna().sum()"
      ],
      "metadata": {
        "colab": {
          "base_uri": "https://localhost:8080/"
        },
        "id": "wM9kvVkzduqT",
        "outputId": "58da2c9a-f6fd-401c-c3f1-a946e448371d"
      },
      "execution_count": null,
      "outputs": [
        {
          "output_type": "execute_result",
          "data": {
            "text/plain": [
              "Date Rptd               0\n",
              "DATE OCC                0\n",
              "TIME OCC                0\n",
              "AREA               857658\n",
              "AREA NAME               0\n",
              "Rpt Dist No             0\n",
              "Part 1-2                0\n",
              "Crm Cd                  0\n",
              "Crm Cd Desc             0\n",
              "Mocodes            352115\n",
              "Vict Age                0\n",
              "Vict Sex           314958\n",
              "Vict Descent       315011\n",
              "Premis Cd              57\n",
              "Premis Desc           717\n",
              "Weapon Used Cd    1978414\n",
              "Weapon Desc       1978415\n",
              "Status                  3\n",
              "Status Desc             0\n",
              "Crm Cd 1               21\n",
              "Crm Cd 2          2787544\n",
              "Crm Cd 3          2987613\n",
              "Crm Cd 4          2993263\n",
              "LOCATION                0\n",
              "Cross Street      2499025\n",
              "LAT                     0\n",
              "LON                     0\n",
              "AREA              2135775\n",
              "dtype: int64"
            ]
          },
          "metadata": {},
          "execution_count": 15
        }
      ]
    },
    {
      "cell_type": "code",
      "source": [
        "#Hay muchos NaNs, y debido a las categorias en las que se encuentran no se eliminaran, seran sustituidos por NA.\n",
        "crimenes_reportados.fillna('NA', inplace = True)\n",
        "crimenes_reportados.head()"
      ],
      "metadata": {
        "colab": {
          "base_uri": "https://localhost:8080/",
          "height": 513
        },
        "id": "hYRUuFR-eru5",
        "outputId": "59e860c3-7ca4-412d-d09d-5b92a2962e3a"
      },
      "execution_count": null,
      "outputs": [
        {
          "output_type": "execute_result",
          "data": {
            "text/plain": [
              "                        Date Rptd                DATE OCC  TIME OCC AREA   \\\n",
              "DR_NO                                                                       \n",
              "1307355    02/20/2010 12:00:00 AM  02/20/2010 12:00:00 AM      1350  13.0   \n",
              "11401303   09/13/2010 12:00:00 AM  09/12/2010 12:00:00 AM        45  14.0   \n",
              "70309629   08/09/2010 12:00:00 AM  08/09/2010 12:00:00 AM      1515  13.0   \n",
              "90631215   01/05/2010 12:00:00 AM  01/05/2010 12:00:00 AM       150   6.0   \n",
              "100100501  01/03/2010 12:00:00 AM  01/02/2010 12:00:00 AM      2100   1.0   \n",
              "\n",
              "           AREA NAME  Rpt Dist No  Part 1-2  Crm Cd  \\\n",
              "DR_NO                                                 \n",
              "1307355       Newton         1385         2     900   \n",
              "11401303     Pacific         1485         2     740   \n",
              "70309629      Newton         1324         2     946   \n",
              "90631215   Hollywood          646         2     900   \n",
              "100100501    Central          176         1     122   \n",
              "\n",
              "                                                 Crm Cd Desc         Mocodes  \\\n",
              "DR_NO                                                                          \n",
              "1307355                             VIOLATION OF COURT ORDER  0913 1814 2000   \n",
              "11401303   VANDALISM - FELONY ($400 & OVER, ALL CHURCH VA...            0329   \n",
              "70309629                           OTHER MISCELLANEOUS CRIME            0344   \n",
              "90631215                            VIOLATION OF COURT ORDER  1100 0400 1402   \n",
              "100100501                                    RAPE, ATTEMPTED            0400   \n",
              "\n",
              "           ...   Status Desc Crm Cd 1 Crm Cd 2 Crm Cd 3 Crm Cd 4  \\\n",
              "DR_NO      ...                                                     \n",
              "1307355    ...  Adult Arrest    900.0       NA       NA       NA   \n",
              "11401303   ...   Invest Cont    740.0       NA       NA       NA   \n",
              "70309629   ...   Invest Cont    946.0       NA       NA       NA   \n",
              "90631215   ...   Invest Cont    900.0    998.0       NA       NA   \n",
              "100100501  ...   Invest Cont    122.0       NA       NA       NA   \n",
              "\n",
              "                                          LOCATION  \\\n",
              "DR_NO                                                \n",
              "1307355     300 E  GAGE                         AV   \n",
              "11401303           SEPULVEDA                    BL   \n",
              "70309629   1300 E  21ST                         ST   \n",
              "90631215           CAHUENGA                     BL   \n",
              "100100501          8TH                          ST   \n",
              "\n",
              "                              Cross Street      LAT       LON AREA  \n",
              "DR_NO                                                               \n",
              "1307355                                 NA  33.9825 -118.2695   NA  \n",
              "11401303   MANCHESTER                   AV  33.9599 -118.3962   NA  \n",
              "70309629                                NA  34.0224 -118.2524   NA  \n",
              "90631215   HOLLYWOOD                    BL  34.1016 -118.3295   NA  \n",
              "100100501  SAN PEDRO                    ST  34.0387 -118.2488   NA  \n",
              "\n",
              "[5 rows x 28 columns]"
            ],
            "text/html": [
              "\n",
              "  <div id=\"df-f5c3823c-23d9-4352-8a40-7c4b7b0a22c1\" class=\"colab-df-container\">\n",
              "    <div>\n",
              "<style scoped>\n",
              "    .dataframe tbody tr th:only-of-type {\n",
              "        vertical-align: middle;\n",
              "    }\n",
              "\n",
              "    .dataframe tbody tr th {\n",
              "        vertical-align: top;\n",
              "    }\n",
              "\n",
              "    .dataframe thead th {\n",
              "        text-align: right;\n",
              "    }\n",
              "</style>\n",
              "<table border=\"1\" class=\"dataframe\">\n",
              "  <thead>\n",
              "    <tr style=\"text-align: right;\">\n",
              "      <th></th>\n",
              "      <th>Date Rptd</th>\n",
              "      <th>DATE OCC</th>\n",
              "      <th>TIME OCC</th>\n",
              "      <th>AREA</th>\n",
              "      <th>AREA NAME</th>\n",
              "      <th>Rpt Dist No</th>\n",
              "      <th>Part 1-2</th>\n",
              "      <th>Crm Cd</th>\n",
              "      <th>Crm Cd Desc</th>\n",
              "      <th>Mocodes</th>\n",
              "      <th>...</th>\n",
              "      <th>Status Desc</th>\n",
              "      <th>Crm Cd 1</th>\n",
              "      <th>Crm Cd 2</th>\n",
              "      <th>Crm Cd 3</th>\n",
              "      <th>Crm Cd 4</th>\n",
              "      <th>LOCATION</th>\n",
              "      <th>Cross Street</th>\n",
              "      <th>LAT</th>\n",
              "      <th>LON</th>\n",
              "      <th>AREA</th>\n",
              "    </tr>\n",
              "    <tr>\n",
              "      <th>DR_NO</th>\n",
              "      <th></th>\n",
              "      <th></th>\n",
              "      <th></th>\n",
              "      <th></th>\n",
              "      <th></th>\n",
              "      <th></th>\n",
              "      <th></th>\n",
              "      <th></th>\n",
              "      <th></th>\n",
              "      <th></th>\n",
              "      <th></th>\n",
              "      <th></th>\n",
              "      <th></th>\n",
              "      <th></th>\n",
              "      <th></th>\n",
              "      <th></th>\n",
              "      <th></th>\n",
              "      <th></th>\n",
              "      <th></th>\n",
              "      <th></th>\n",
              "      <th></th>\n",
              "    </tr>\n",
              "  </thead>\n",
              "  <tbody>\n",
              "    <tr>\n",
              "      <th>1307355</th>\n",
              "      <td>02/20/2010 12:00:00 AM</td>\n",
              "      <td>02/20/2010 12:00:00 AM</td>\n",
              "      <td>1350</td>\n",
              "      <td>13.0</td>\n",
              "      <td>Newton</td>\n",
              "      <td>1385</td>\n",
              "      <td>2</td>\n",
              "      <td>900</td>\n",
              "      <td>VIOLATION OF COURT ORDER</td>\n",
              "      <td>0913 1814 2000</td>\n",
              "      <td>...</td>\n",
              "      <td>Adult Arrest</td>\n",
              "      <td>900.0</td>\n",
              "      <td>NA</td>\n",
              "      <td>NA</td>\n",
              "      <td>NA</td>\n",
              "      <td>300 E  GAGE                         AV</td>\n",
              "      <td>NA</td>\n",
              "      <td>33.9825</td>\n",
              "      <td>-118.2695</td>\n",
              "      <td>NA</td>\n",
              "    </tr>\n",
              "    <tr>\n",
              "      <th>11401303</th>\n",
              "      <td>09/13/2010 12:00:00 AM</td>\n",
              "      <td>09/12/2010 12:00:00 AM</td>\n",
              "      <td>45</td>\n",
              "      <td>14.0</td>\n",
              "      <td>Pacific</td>\n",
              "      <td>1485</td>\n",
              "      <td>2</td>\n",
              "      <td>740</td>\n",
              "      <td>VANDALISM - FELONY ($400 &amp; OVER, ALL CHURCH VA...</td>\n",
              "      <td>0329</td>\n",
              "      <td>...</td>\n",
              "      <td>Invest Cont</td>\n",
              "      <td>740.0</td>\n",
              "      <td>NA</td>\n",
              "      <td>NA</td>\n",
              "      <td>NA</td>\n",
              "      <td>SEPULVEDA                    BL</td>\n",
              "      <td>MANCHESTER                   AV</td>\n",
              "      <td>33.9599</td>\n",
              "      <td>-118.3962</td>\n",
              "      <td>NA</td>\n",
              "    </tr>\n",
              "    <tr>\n",
              "      <th>70309629</th>\n",
              "      <td>08/09/2010 12:00:00 AM</td>\n",
              "      <td>08/09/2010 12:00:00 AM</td>\n",
              "      <td>1515</td>\n",
              "      <td>13.0</td>\n",
              "      <td>Newton</td>\n",
              "      <td>1324</td>\n",
              "      <td>2</td>\n",
              "      <td>946</td>\n",
              "      <td>OTHER MISCELLANEOUS CRIME</td>\n",
              "      <td>0344</td>\n",
              "      <td>...</td>\n",
              "      <td>Invest Cont</td>\n",
              "      <td>946.0</td>\n",
              "      <td>NA</td>\n",
              "      <td>NA</td>\n",
              "      <td>NA</td>\n",
              "      <td>1300 E  21ST                         ST</td>\n",
              "      <td>NA</td>\n",
              "      <td>34.0224</td>\n",
              "      <td>-118.2524</td>\n",
              "      <td>NA</td>\n",
              "    </tr>\n",
              "    <tr>\n",
              "      <th>90631215</th>\n",
              "      <td>01/05/2010 12:00:00 AM</td>\n",
              "      <td>01/05/2010 12:00:00 AM</td>\n",
              "      <td>150</td>\n",
              "      <td>6.0</td>\n",
              "      <td>Hollywood</td>\n",
              "      <td>646</td>\n",
              "      <td>2</td>\n",
              "      <td>900</td>\n",
              "      <td>VIOLATION OF COURT ORDER</td>\n",
              "      <td>1100 0400 1402</td>\n",
              "      <td>...</td>\n",
              "      <td>Invest Cont</td>\n",
              "      <td>900.0</td>\n",
              "      <td>998.0</td>\n",
              "      <td>NA</td>\n",
              "      <td>NA</td>\n",
              "      <td>CAHUENGA                     BL</td>\n",
              "      <td>HOLLYWOOD                    BL</td>\n",
              "      <td>34.1016</td>\n",
              "      <td>-118.3295</td>\n",
              "      <td>NA</td>\n",
              "    </tr>\n",
              "    <tr>\n",
              "      <th>100100501</th>\n",
              "      <td>01/03/2010 12:00:00 AM</td>\n",
              "      <td>01/02/2010 12:00:00 AM</td>\n",
              "      <td>2100</td>\n",
              "      <td>1.0</td>\n",
              "      <td>Central</td>\n",
              "      <td>176</td>\n",
              "      <td>1</td>\n",
              "      <td>122</td>\n",
              "      <td>RAPE, ATTEMPTED</td>\n",
              "      <td>0400</td>\n",
              "      <td>...</td>\n",
              "      <td>Invest Cont</td>\n",
              "      <td>122.0</td>\n",
              "      <td>NA</td>\n",
              "      <td>NA</td>\n",
              "      <td>NA</td>\n",
              "      <td>8TH                          ST</td>\n",
              "      <td>SAN PEDRO                    ST</td>\n",
              "      <td>34.0387</td>\n",
              "      <td>-118.2488</td>\n",
              "      <td>NA</td>\n",
              "    </tr>\n",
              "  </tbody>\n",
              "</table>\n",
              "<p>5 rows × 28 columns</p>\n",
              "</div>\n",
              "    <div class=\"colab-df-buttons\">\n",
              "\n",
              "  <div class=\"colab-df-container\">\n",
              "    <button class=\"colab-df-convert\" onclick=\"convertToInteractive('df-f5c3823c-23d9-4352-8a40-7c4b7b0a22c1')\"\n",
              "            title=\"Convert this dataframe to an interactive table.\"\n",
              "            style=\"display:none;\">\n",
              "\n",
              "  <svg xmlns=\"http://www.w3.org/2000/svg\" height=\"24px\" viewBox=\"0 -960 960 960\">\n",
              "    <path d=\"M120-120v-720h720v720H120Zm60-500h600v-160H180v160Zm220 220h160v-160H400v160Zm0 220h160v-160H400v160ZM180-400h160v-160H180v160Zm440 0h160v-160H620v160ZM180-180h160v-160H180v160Zm440 0h160v-160H620v160Z\"/>\n",
              "  </svg>\n",
              "    </button>\n",
              "\n",
              "  <style>\n",
              "    .colab-df-container {\n",
              "      display:flex;\n",
              "      gap: 12px;\n",
              "    }\n",
              "\n",
              "    .colab-df-convert {\n",
              "      background-color: #E8F0FE;\n",
              "      border: none;\n",
              "      border-radius: 50%;\n",
              "      cursor: pointer;\n",
              "      display: none;\n",
              "      fill: #1967D2;\n",
              "      height: 32px;\n",
              "      padding: 0 0 0 0;\n",
              "      width: 32px;\n",
              "    }\n",
              "\n",
              "    .colab-df-convert:hover {\n",
              "      background-color: #E2EBFA;\n",
              "      box-shadow: 0px 1px 2px rgba(60, 64, 67, 0.3), 0px 1px 3px 1px rgba(60, 64, 67, 0.15);\n",
              "      fill: #174EA6;\n",
              "    }\n",
              "\n",
              "    .colab-df-buttons div {\n",
              "      margin-bottom: 4px;\n",
              "    }\n",
              "\n",
              "    [theme=dark] .colab-df-convert {\n",
              "      background-color: #3B4455;\n",
              "      fill: #D2E3FC;\n",
              "    }\n",
              "\n",
              "    [theme=dark] .colab-df-convert:hover {\n",
              "      background-color: #434B5C;\n",
              "      box-shadow: 0px 1px 3px 1px rgba(0, 0, 0, 0.15);\n",
              "      filter: drop-shadow(0px 1px 2px rgba(0, 0, 0, 0.3));\n",
              "      fill: #FFFFFF;\n",
              "    }\n",
              "  </style>\n",
              "\n",
              "    <script>\n",
              "      const buttonEl =\n",
              "        document.querySelector('#df-f5c3823c-23d9-4352-8a40-7c4b7b0a22c1 button.colab-df-convert');\n",
              "      buttonEl.style.display =\n",
              "        google.colab.kernel.accessAllowed ? 'block' : 'none';\n",
              "\n",
              "      async function convertToInteractive(key) {\n",
              "        const element = document.querySelector('#df-f5c3823c-23d9-4352-8a40-7c4b7b0a22c1');\n",
              "        const dataTable =\n",
              "          await google.colab.kernel.invokeFunction('convertToInteractive',\n",
              "                                                    [key], {});\n",
              "        if (!dataTable) return;\n",
              "\n",
              "        const docLinkHtml = 'Like what you see? Visit the ' +\n",
              "          '<a target=\"_blank\" href=https://colab.research.google.com/notebooks/data_table.ipynb>data table notebook</a>'\n",
              "          + ' to learn more about interactive tables.';\n",
              "        element.innerHTML = '';\n",
              "        dataTable['output_type'] = 'display_data';\n",
              "        await google.colab.output.renderOutput(dataTable, element);\n",
              "        const docLink = document.createElement('div');\n",
              "        docLink.innerHTML = docLinkHtml;\n",
              "        element.appendChild(docLink);\n",
              "      }\n",
              "    </script>\n",
              "  </div>\n",
              "\n",
              "\n",
              "<div id=\"df-b329a0b6-38aa-4cdc-a12e-2fc18866c6c5\">\n",
              "  <button class=\"colab-df-quickchart\" onclick=\"quickchart('df-b329a0b6-38aa-4cdc-a12e-2fc18866c6c5')\"\n",
              "            title=\"Suggest charts\"\n",
              "            style=\"display:none;\">\n",
              "\n",
              "<svg xmlns=\"http://www.w3.org/2000/svg\" height=\"24px\"viewBox=\"0 0 24 24\"\n",
              "     width=\"24px\">\n",
              "    <g>\n",
              "        <path d=\"M19 3H5c-1.1 0-2 .9-2 2v14c0 1.1.9 2 2 2h14c1.1 0 2-.9 2-2V5c0-1.1-.9-2-2-2zM9 17H7v-7h2v7zm4 0h-2V7h2v10zm4 0h-2v-4h2v4z\"/>\n",
              "    </g>\n",
              "</svg>\n",
              "  </button>\n",
              "\n",
              "<style>\n",
              "  .colab-df-quickchart {\n",
              "      --bg-color: #E8F0FE;\n",
              "      --fill-color: #1967D2;\n",
              "      --hover-bg-color: #E2EBFA;\n",
              "      --hover-fill-color: #174EA6;\n",
              "      --disabled-fill-color: #AAA;\n",
              "      --disabled-bg-color: #DDD;\n",
              "  }\n",
              "\n",
              "  [theme=dark] .colab-df-quickchart {\n",
              "      --bg-color: #3B4455;\n",
              "      --fill-color: #D2E3FC;\n",
              "      --hover-bg-color: #434B5C;\n",
              "      --hover-fill-color: #FFFFFF;\n",
              "      --disabled-bg-color: #3B4455;\n",
              "      --disabled-fill-color: #666;\n",
              "  }\n",
              "\n",
              "  .colab-df-quickchart {\n",
              "    background-color: var(--bg-color);\n",
              "    border: none;\n",
              "    border-radius: 50%;\n",
              "    cursor: pointer;\n",
              "    display: none;\n",
              "    fill: var(--fill-color);\n",
              "    height: 32px;\n",
              "    padding: 0;\n",
              "    width: 32px;\n",
              "  }\n",
              "\n",
              "  .colab-df-quickchart:hover {\n",
              "    background-color: var(--hover-bg-color);\n",
              "    box-shadow: 0 1px 2px rgba(60, 64, 67, 0.3), 0 1px 3px 1px rgba(60, 64, 67, 0.15);\n",
              "    fill: var(--button-hover-fill-color);\n",
              "  }\n",
              "\n",
              "  .colab-df-quickchart-complete:disabled,\n",
              "  .colab-df-quickchart-complete:disabled:hover {\n",
              "    background-color: var(--disabled-bg-color);\n",
              "    fill: var(--disabled-fill-color);\n",
              "    box-shadow: none;\n",
              "  }\n",
              "\n",
              "  .colab-df-spinner {\n",
              "    border: 2px solid var(--fill-color);\n",
              "    border-color: transparent;\n",
              "    border-bottom-color: var(--fill-color);\n",
              "    animation:\n",
              "      spin 1s steps(1) infinite;\n",
              "  }\n",
              "\n",
              "  @keyframes spin {\n",
              "    0% {\n",
              "      border-color: transparent;\n",
              "      border-bottom-color: var(--fill-color);\n",
              "      border-left-color: var(--fill-color);\n",
              "    }\n",
              "    20% {\n",
              "      border-color: transparent;\n",
              "      border-left-color: var(--fill-color);\n",
              "      border-top-color: var(--fill-color);\n",
              "    }\n",
              "    30% {\n",
              "      border-color: transparent;\n",
              "      border-left-color: var(--fill-color);\n",
              "      border-top-color: var(--fill-color);\n",
              "      border-right-color: var(--fill-color);\n",
              "    }\n",
              "    40% {\n",
              "      border-color: transparent;\n",
              "      border-right-color: var(--fill-color);\n",
              "      border-top-color: var(--fill-color);\n",
              "    }\n",
              "    60% {\n",
              "      border-color: transparent;\n",
              "      border-right-color: var(--fill-color);\n",
              "    }\n",
              "    80% {\n",
              "      border-color: transparent;\n",
              "      border-right-color: var(--fill-color);\n",
              "      border-bottom-color: var(--fill-color);\n",
              "    }\n",
              "    90% {\n",
              "      border-color: transparent;\n",
              "      border-bottom-color: var(--fill-color);\n",
              "    }\n",
              "  }\n",
              "</style>\n",
              "\n",
              "  <script>\n",
              "    async function quickchart(key) {\n",
              "      const quickchartButtonEl =\n",
              "        document.querySelector('#' + key + ' button');\n",
              "      quickchartButtonEl.disabled = true;  // To prevent multiple clicks.\n",
              "      quickchartButtonEl.classList.add('colab-df-spinner');\n",
              "      try {\n",
              "        const charts = await google.colab.kernel.invokeFunction(\n",
              "            'suggestCharts', [key], {});\n",
              "      } catch (error) {\n",
              "        console.error('Error during call to suggestCharts:', error);\n",
              "      }\n",
              "      quickchartButtonEl.classList.remove('colab-df-spinner');\n",
              "      quickchartButtonEl.classList.add('colab-df-quickchart-complete');\n",
              "    }\n",
              "    (() => {\n",
              "      let quickchartButtonEl =\n",
              "        document.querySelector('#df-b329a0b6-38aa-4cdc-a12e-2fc18866c6c5 button');\n",
              "      quickchartButtonEl.style.display =\n",
              "        google.colab.kernel.accessAllowed ? 'block' : 'none';\n",
              "    })();\n",
              "  </script>\n",
              "</div>\n",
              "\n",
              "    </div>\n",
              "  </div>\n"
            ]
          },
          "metadata": {},
          "execution_count": 16
        }
      ]
    },
    {
      "cell_type": "code",
      "source": [
        "#En el dataframe hay varias columnas que contienen códigos que pueden ser repetitivos porque también hay columnas que describen lo que ese código significa, por ejemplo, la columna de \"AREA\" y \"AREA NAME\",\n",
        "#por lo que eliminaremos las columnas de los códigos y dejaremos solo las descriptivas.\n",
        "crimenes_reportados = crimenes_reportados.drop(columns=['Date Rptd', 'Part 1-2', 'AREA', 'Weapon Used Cd', 'Crm Cd', 'Crm Cd 2', 'Crm Cd 3', 'Crm Cd 4', 'Premis Cd', 'Status'])\n",
        "crimenes_reportados.head()"
      ],
      "metadata": {
        "colab": {
          "base_uri": "https://localhost:8080/",
          "height": 553
        },
        "id": "5L5uwYoGmhHp",
        "outputId": "a01d48fa-863c-4215-badb-05d7aaf7c52a"
      },
      "execution_count": null,
      "outputs": [
        {
          "output_type": "execute_result",
          "data": {
            "text/plain": [
              "                         DATE OCC  TIME OCC AREA   AREA NAME  Rpt Dist No  \\\n",
              "DR_NO                                                                       \n",
              "1307355    02/20/2010 12:00:00 AM      1350  13.0     Newton         1385   \n",
              "11401303   09/12/2010 12:00:00 AM        45  14.0    Pacific         1485   \n",
              "70309629   08/09/2010 12:00:00 AM      1515  13.0     Newton         1324   \n",
              "90631215   01/05/2010 12:00:00 AM       150   6.0  Hollywood          646   \n",
              "100100501  01/02/2010 12:00:00 AM      2100   1.0    Central          176   \n",
              "\n",
              "                                                 Crm Cd Desc         Mocodes  \\\n",
              "DR_NO                                                                          \n",
              "1307355                             VIOLATION OF COURT ORDER  0913 1814 2000   \n",
              "11401303   VANDALISM - FELONY ($400 & OVER, ALL CHURCH VA...            0329   \n",
              "70309629                           OTHER MISCELLANEOUS CRIME            0344   \n",
              "90631215                            VIOLATION OF COURT ORDER  1100 0400 1402   \n",
              "100100501                                    RAPE, ATTEMPTED            0400   \n",
              "\n",
              "           Vict Age Vict Sex Vict Descent             Premis Desc  \\\n",
              "DR_NO                                                               \n",
              "1307355          48        M            H  SINGLE FAMILY DWELLING   \n",
              "11401303          0        M            W                  STREET   \n",
              "70309629          0        M            H                   ALLEY   \n",
              "90631215         47        F            W                  STREET   \n",
              "100100501        47        F            H                   ALLEY   \n",
              "\n",
              "                                              Weapon Desc   Status Desc  \\\n",
              "DR_NO                                                                     \n",
              "1307355                                                NA  Adult Arrest   \n",
              "11401303                                               NA   Invest Cont   \n",
              "70309629                                               NA   Invest Cont   \n",
              "90631215                                         HAND GUN   Invest Cont   \n",
              "100100501  STRONG-ARM (HANDS, FIST, FEET OR BODILY FORCE)   Invest Cont   \n",
              "\n",
              "          Crm Cd 1                                 LOCATION  \\\n",
              "DR_NO                                                         \n",
              "1307355      900.0   300 E  GAGE                         AV   \n",
              "11401303     740.0          SEPULVEDA                    BL   \n",
              "70309629     946.0  1300 E  21ST                         ST   \n",
              "90631215     900.0          CAHUENGA                     BL   \n",
              "100100501    122.0          8TH                          ST   \n",
              "\n",
              "                              Cross Street      LAT       LON  \n",
              "DR_NO                                                          \n",
              "1307355                                 NA  33.9825 -118.2695  \n",
              "11401303   MANCHESTER                   AV  33.9599 -118.3962  \n",
              "70309629                                NA  34.0224 -118.2524  \n",
              "90631215   HOLLYWOOD                    BL  34.1016 -118.3295  \n",
              "100100501  SAN PEDRO                    ST  34.0387 -118.2488  "
            ],
            "text/html": [
              "\n",
              "  <div id=\"df-ec8cae5d-b935-4423-a185-4c5a5c51924e\" class=\"colab-df-container\">\n",
              "    <div>\n",
              "<style scoped>\n",
              "    .dataframe tbody tr th:only-of-type {\n",
              "        vertical-align: middle;\n",
              "    }\n",
              "\n",
              "    .dataframe tbody tr th {\n",
              "        vertical-align: top;\n",
              "    }\n",
              "\n",
              "    .dataframe thead th {\n",
              "        text-align: right;\n",
              "    }\n",
              "</style>\n",
              "<table border=\"1\" class=\"dataframe\">\n",
              "  <thead>\n",
              "    <tr style=\"text-align: right;\">\n",
              "      <th></th>\n",
              "      <th>DATE OCC</th>\n",
              "      <th>TIME OCC</th>\n",
              "      <th>AREA</th>\n",
              "      <th>AREA NAME</th>\n",
              "      <th>Rpt Dist No</th>\n",
              "      <th>Crm Cd Desc</th>\n",
              "      <th>Mocodes</th>\n",
              "      <th>Vict Age</th>\n",
              "      <th>Vict Sex</th>\n",
              "      <th>Vict Descent</th>\n",
              "      <th>Premis Desc</th>\n",
              "      <th>Weapon Desc</th>\n",
              "      <th>Status Desc</th>\n",
              "      <th>Crm Cd 1</th>\n",
              "      <th>LOCATION</th>\n",
              "      <th>Cross Street</th>\n",
              "      <th>LAT</th>\n",
              "      <th>LON</th>\n",
              "    </tr>\n",
              "    <tr>\n",
              "      <th>DR_NO</th>\n",
              "      <th></th>\n",
              "      <th></th>\n",
              "      <th></th>\n",
              "      <th></th>\n",
              "      <th></th>\n",
              "      <th></th>\n",
              "      <th></th>\n",
              "      <th></th>\n",
              "      <th></th>\n",
              "      <th></th>\n",
              "      <th></th>\n",
              "      <th></th>\n",
              "      <th></th>\n",
              "      <th></th>\n",
              "      <th></th>\n",
              "      <th></th>\n",
              "      <th></th>\n",
              "      <th></th>\n",
              "    </tr>\n",
              "  </thead>\n",
              "  <tbody>\n",
              "    <tr>\n",
              "      <th>1307355</th>\n",
              "      <td>02/20/2010 12:00:00 AM</td>\n",
              "      <td>1350</td>\n",
              "      <td>13.0</td>\n",
              "      <td>Newton</td>\n",
              "      <td>1385</td>\n",
              "      <td>VIOLATION OF COURT ORDER</td>\n",
              "      <td>0913 1814 2000</td>\n",
              "      <td>48</td>\n",
              "      <td>M</td>\n",
              "      <td>H</td>\n",
              "      <td>SINGLE FAMILY DWELLING</td>\n",
              "      <td>NA</td>\n",
              "      <td>Adult Arrest</td>\n",
              "      <td>900.0</td>\n",
              "      <td>300 E  GAGE                         AV</td>\n",
              "      <td>NA</td>\n",
              "      <td>33.9825</td>\n",
              "      <td>-118.2695</td>\n",
              "    </tr>\n",
              "    <tr>\n",
              "      <th>11401303</th>\n",
              "      <td>09/12/2010 12:00:00 AM</td>\n",
              "      <td>45</td>\n",
              "      <td>14.0</td>\n",
              "      <td>Pacific</td>\n",
              "      <td>1485</td>\n",
              "      <td>VANDALISM - FELONY ($400 &amp; OVER, ALL CHURCH VA...</td>\n",
              "      <td>0329</td>\n",
              "      <td>0</td>\n",
              "      <td>M</td>\n",
              "      <td>W</td>\n",
              "      <td>STREET</td>\n",
              "      <td>NA</td>\n",
              "      <td>Invest Cont</td>\n",
              "      <td>740.0</td>\n",
              "      <td>SEPULVEDA                    BL</td>\n",
              "      <td>MANCHESTER                   AV</td>\n",
              "      <td>33.9599</td>\n",
              "      <td>-118.3962</td>\n",
              "    </tr>\n",
              "    <tr>\n",
              "      <th>70309629</th>\n",
              "      <td>08/09/2010 12:00:00 AM</td>\n",
              "      <td>1515</td>\n",
              "      <td>13.0</td>\n",
              "      <td>Newton</td>\n",
              "      <td>1324</td>\n",
              "      <td>OTHER MISCELLANEOUS CRIME</td>\n",
              "      <td>0344</td>\n",
              "      <td>0</td>\n",
              "      <td>M</td>\n",
              "      <td>H</td>\n",
              "      <td>ALLEY</td>\n",
              "      <td>NA</td>\n",
              "      <td>Invest Cont</td>\n",
              "      <td>946.0</td>\n",
              "      <td>1300 E  21ST                         ST</td>\n",
              "      <td>NA</td>\n",
              "      <td>34.0224</td>\n",
              "      <td>-118.2524</td>\n",
              "    </tr>\n",
              "    <tr>\n",
              "      <th>90631215</th>\n",
              "      <td>01/05/2010 12:00:00 AM</td>\n",
              "      <td>150</td>\n",
              "      <td>6.0</td>\n",
              "      <td>Hollywood</td>\n",
              "      <td>646</td>\n",
              "      <td>VIOLATION OF COURT ORDER</td>\n",
              "      <td>1100 0400 1402</td>\n",
              "      <td>47</td>\n",
              "      <td>F</td>\n",
              "      <td>W</td>\n",
              "      <td>STREET</td>\n",
              "      <td>HAND GUN</td>\n",
              "      <td>Invest Cont</td>\n",
              "      <td>900.0</td>\n",
              "      <td>CAHUENGA                     BL</td>\n",
              "      <td>HOLLYWOOD                    BL</td>\n",
              "      <td>34.1016</td>\n",
              "      <td>-118.3295</td>\n",
              "    </tr>\n",
              "    <tr>\n",
              "      <th>100100501</th>\n",
              "      <td>01/02/2010 12:00:00 AM</td>\n",
              "      <td>2100</td>\n",
              "      <td>1.0</td>\n",
              "      <td>Central</td>\n",
              "      <td>176</td>\n",
              "      <td>RAPE, ATTEMPTED</td>\n",
              "      <td>0400</td>\n",
              "      <td>47</td>\n",
              "      <td>F</td>\n",
              "      <td>H</td>\n",
              "      <td>ALLEY</td>\n",
              "      <td>STRONG-ARM (HANDS, FIST, FEET OR BODILY FORCE)</td>\n",
              "      <td>Invest Cont</td>\n",
              "      <td>122.0</td>\n",
              "      <td>8TH                          ST</td>\n",
              "      <td>SAN PEDRO                    ST</td>\n",
              "      <td>34.0387</td>\n",
              "      <td>-118.2488</td>\n",
              "    </tr>\n",
              "  </tbody>\n",
              "</table>\n",
              "</div>\n",
              "    <div class=\"colab-df-buttons\">\n",
              "\n",
              "  <div class=\"colab-df-container\">\n",
              "    <button class=\"colab-df-convert\" onclick=\"convertToInteractive('df-ec8cae5d-b935-4423-a185-4c5a5c51924e')\"\n",
              "            title=\"Convert this dataframe to an interactive table.\"\n",
              "            style=\"display:none;\">\n",
              "\n",
              "  <svg xmlns=\"http://www.w3.org/2000/svg\" height=\"24px\" viewBox=\"0 -960 960 960\">\n",
              "    <path d=\"M120-120v-720h720v720H120Zm60-500h600v-160H180v160Zm220 220h160v-160H400v160Zm0 220h160v-160H400v160ZM180-400h160v-160H180v160Zm440 0h160v-160H620v160ZM180-180h160v-160H180v160Zm440 0h160v-160H620v160Z\"/>\n",
              "  </svg>\n",
              "    </button>\n",
              "\n",
              "  <style>\n",
              "    .colab-df-container {\n",
              "      display:flex;\n",
              "      gap: 12px;\n",
              "    }\n",
              "\n",
              "    .colab-df-convert {\n",
              "      background-color: #E8F0FE;\n",
              "      border: none;\n",
              "      border-radius: 50%;\n",
              "      cursor: pointer;\n",
              "      display: none;\n",
              "      fill: #1967D2;\n",
              "      height: 32px;\n",
              "      padding: 0 0 0 0;\n",
              "      width: 32px;\n",
              "    }\n",
              "\n",
              "    .colab-df-convert:hover {\n",
              "      background-color: #E2EBFA;\n",
              "      box-shadow: 0px 1px 2px rgba(60, 64, 67, 0.3), 0px 1px 3px 1px rgba(60, 64, 67, 0.15);\n",
              "      fill: #174EA6;\n",
              "    }\n",
              "\n",
              "    .colab-df-buttons div {\n",
              "      margin-bottom: 4px;\n",
              "    }\n",
              "\n",
              "    [theme=dark] .colab-df-convert {\n",
              "      background-color: #3B4455;\n",
              "      fill: #D2E3FC;\n",
              "    }\n",
              "\n",
              "    [theme=dark] .colab-df-convert:hover {\n",
              "      background-color: #434B5C;\n",
              "      box-shadow: 0px 1px 3px 1px rgba(0, 0, 0, 0.15);\n",
              "      filter: drop-shadow(0px 1px 2px rgba(0, 0, 0, 0.3));\n",
              "      fill: #FFFFFF;\n",
              "    }\n",
              "  </style>\n",
              "\n",
              "    <script>\n",
              "      const buttonEl =\n",
              "        document.querySelector('#df-ec8cae5d-b935-4423-a185-4c5a5c51924e button.colab-df-convert');\n",
              "      buttonEl.style.display =\n",
              "        google.colab.kernel.accessAllowed ? 'block' : 'none';\n",
              "\n",
              "      async function convertToInteractive(key) {\n",
              "        const element = document.querySelector('#df-ec8cae5d-b935-4423-a185-4c5a5c51924e');\n",
              "        const dataTable =\n",
              "          await google.colab.kernel.invokeFunction('convertToInteractive',\n",
              "                                                    [key], {});\n",
              "        if (!dataTable) return;\n",
              "\n",
              "        const docLinkHtml = 'Like what you see? Visit the ' +\n",
              "          '<a target=\"_blank\" href=https://colab.research.google.com/notebooks/data_table.ipynb>data table notebook</a>'\n",
              "          + ' to learn more about interactive tables.';\n",
              "        element.innerHTML = '';\n",
              "        dataTable['output_type'] = 'display_data';\n",
              "        await google.colab.output.renderOutput(dataTable, element);\n",
              "        const docLink = document.createElement('div');\n",
              "        docLink.innerHTML = docLinkHtml;\n",
              "        element.appendChild(docLink);\n",
              "      }\n",
              "    </script>\n",
              "  </div>\n",
              "\n",
              "\n",
              "<div id=\"df-cb37ec6d-b98d-4e18-80cb-50a81b28ac4c\">\n",
              "  <button class=\"colab-df-quickchart\" onclick=\"quickchart('df-cb37ec6d-b98d-4e18-80cb-50a81b28ac4c')\"\n",
              "            title=\"Suggest charts\"\n",
              "            style=\"display:none;\">\n",
              "\n",
              "<svg xmlns=\"http://www.w3.org/2000/svg\" height=\"24px\"viewBox=\"0 0 24 24\"\n",
              "     width=\"24px\">\n",
              "    <g>\n",
              "        <path d=\"M19 3H5c-1.1 0-2 .9-2 2v14c0 1.1.9 2 2 2h14c1.1 0 2-.9 2-2V5c0-1.1-.9-2-2-2zM9 17H7v-7h2v7zm4 0h-2V7h2v10zm4 0h-2v-4h2v4z\"/>\n",
              "    </g>\n",
              "</svg>\n",
              "  </button>\n",
              "\n",
              "<style>\n",
              "  .colab-df-quickchart {\n",
              "      --bg-color: #E8F0FE;\n",
              "      --fill-color: #1967D2;\n",
              "      --hover-bg-color: #E2EBFA;\n",
              "      --hover-fill-color: #174EA6;\n",
              "      --disabled-fill-color: #AAA;\n",
              "      --disabled-bg-color: #DDD;\n",
              "  }\n",
              "\n",
              "  [theme=dark] .colab-df-quickchart {\n",
              "      --bg-color: #3B4455;\n",
              "      --fill-color: #D2E3FC;\n",
              "      --hover-bg-color: #434B5C;\n",
              "      --hover-fill-color: #FFFFFF;\n",
              "      --disabled-bg-color: #3B4455;\n",
              "      --disabled-fill-color: #666;\n",
              "  }\n",
              "\n",
              "  .colab-df-quickchart {\n",
              "    background-color: var(--bg-color);\n",
              "    border: none;\n",
              "    border-radius: 50%;\n",
              "    cursor: pointer;\n",
              "    display: none;\n",
              "    fill: var(--fill-color);\n",
              "    height: 32px;\n",
              "    padding: 0;\n",
              "    width: 32px;\n",
              "  }\n",
              "\n",
              "  .colab-df-quickchart:hover {\n",
              "    background-color: var(--hover-bg-color);\n",
              "    box-shadow: 0 1px 2px rgba(60, 64, 67, 0.3), 0 1px 3px 1px rgba(60, 64, 67, 0.15);\n",
              "    fill: var(--button-hover-fill-color);\n",
              "  }\n",
              "\n",
              "  .colab-df-quickchart-complete:disabled,\n",
              "  .colab-df-quickchart-complete:disabled:hover {\n",
              "    background-color: var(--disabled-bg-color);\n",
              "    fill: var(--disabled-fill-color);\n",
              "    box-shadow: none;\n",
              "  }\n",
              "\n",
              "  .colab-df-spinner {\n",
              "    border: 2px solid var(--fill-color);\n",
              "    border-color: transparent;\n",
              "    border-bottom-color: var(--fill-color);\n",
              "    animation:\n",
              "      spin 1s steps(1) infinite;\n",
              "  }\n",
              "\n",
              "  @keyframes spin {\n",
              "    0% {\n",
              "      border-color: transparent;\n",
              "      border-bottom-color: var(--fill-color);\n",
              "      border-left-color: var(--fill-color);\n",
              "    }\n",
              "    20% {\n",
              "      border-color: transparent;\n",
              "      border-left-color: var(--fill-color);\n",
              "      border-top-color: var(--fill-color);\n",
              "    }\n",
              "    30% {\n",
              "      border-color: transparent;\n",
              "      border-left-color: var(--fill-color);\n",
              "      border-top-color: var(--fill-color);\n",
              "      border-right-color: var(--fill-color);\n",
              "    }\n",
              "    40% {\n",
              "      border-color: transparent;\n",
              "      border-right-color: var(--fill-color);\n",
              "      border-top-color: var(--fill-color);\n",
              "    }\n",
              "    60% {\n",
              "      border-color: transparent;\n",
              "      border-right-color: var(--fill-color);\n",
              "    }\n",
              "    80% {\n",
              "      border-color: transparent;\n",
              "      border-right-color: var(--fill-color);\n",
              "      border-bottom-color: var(--fill-color);\n",
              "    }\n",
              "    90% {\n",
              "      border-color: transparent;\n",
              "      border-bottom-color: var(--fill-color);\n",
              "    }\n",
              "  }\n",
              "</style>\n",
              "\n",
              "  <script>\n",
              "    async function quickchart(key) {\n",
              "      const quickchartButtonEl =\n",
              "        document.querySelector('#' + key + ' button');\n",
              "      quickchartButtonEl.disabled = true;  // To prevent multiple clicks.\n",
              "      quickchartButtonEl.classList.add('colab-df-spinner');\n",
              "      try {\n",
              "        const charts = await google.colab.kernel.invokeFunction(\n",
              "            'suggestCharts', [key], {});\n",
              "      } catch (error) {\n",
              "        console.error('Error during call to suggestCharts:', error);\n",
              "      }\n",
              "      quickchartButtonEl.classList.remove('colab-df-spinner');\n",
              "      quickchartButtonEl.classList.add('colab-df-quickchart-complete');\n",
              "    }\n",
              "    (() => {\n",
              "      let quickchartButtonEl =\n",
              "        document.querySelector('#df-cb37ec6d-b98d-4e18-80cb-50a81b28ac4c button');\n",
              "      quickchartButtonEl.style.display =\n",
              "        google.colab.kernel.accessAllowed ? 'block' : 'none';\n",
              "    })();\n",
              "  </script>\n",
              "</div>\n",
              "\n",
              "    </div>\n",
              "  </div>\n"
            ]
          },
          "metadata": {},
          "execution_count": 17
        }
      ]
    },
    {
      "cell_type": "code",
      "source": [
        "#renombramos las columnas para tener una mejor noción de lo que contienen\n",
        "crimenes_reportados.columns = ['date occured', 'time', 'area code', 'area', 'district', 'description', 'mocodes', 'age',\n",
        "              'sex', 'race', 'context', 'weapon', 'case status', 'ccd1', 'location',\n",
        "              'street', 'latitude', 'longitud']\n",
        "\n",
        "crimenes_reportados"
      ],
      "metadata": {
        "id": "bRyulFRDddOM",
        "colab": {
          "base_uri": "https://localhost:8080/",
          "height": 1000
        },
        "outputId": "68df52df-6bdf-42f1-b550-63214219232f"
      },
      "execution_count": null,
      "outputs": [
        {
          "output_type": "execute_result",
          "data": {
            "text/plain": [
              "                     date occured  time area code         area  district  \\\n",
              "DR_NO                                                                      \n",
              "1307355    02/20/2010 12:00:00 AM  1350      13.0       Newton      1385   \n",
              "11401303   09/12/2010 12:00:00 AM    45      14.0      Pacific      1485   \n",
              "70309629   08/09/2010 12:00:00 AM  1515      13.0       Newton      1324   \n",
              "90631215   01/05/2010 12:00:00 AM   150       6.0    Hollywood       646   \n",
              "100100501  01/02/2010 12:00:00 AM  2100       1.0      Central       176   \n",
              "...                           ...   ...       ...          ...       ...   \n",
              "231606525  03/22/2023 12:00:00 AM  1000        NA     Foothill      1602   \n",
              "231210064  04/12/2023 12:00:00 AM  1630        NA  77th Street      1239   \n",
              "230115220  07/01/2023 12:00:00 AM     1        NA      Central       154   \n",
              "230906458  03/05/2023 12:00:00 AM   900        NA     Van Nuys       914   \n",
              "230319786  11/09/2023 12:00:00 AM  2300        NA    Southwest       395   \n",
              "\n",
              "                                                 description  \\\n",
              "DR_NO                                                          \n",
              "1307355                             VIOLATION OF COURT ORDER   \n",
              "11401303   VANDALISM - FELONY ($400 & OVER, ALL CHURCH VA...   \n",
              "70309629                           OTHER MISCELLANEOUS CRIME   \n",
              "90631215                            VIOLATION OF COURT ORDER   \n",
              "100100501                                    RAPE, ATTEMPTED   \n",
              "...                                                      ...   \n",
              "231606525     ASSAULT WITH DEADLY WEAPON, AGGRAVATED ASSAULT   \n",
              "231210064     ASSAULT WITH DEADLY WEAPON, AGGRAVATED ASSAULT   \n",
              "230115220                                         PICKPOCKET   \n",
              "230906458           VANDALISM - MISDEAMEANOR ($399 OR UNDER)   \n",
              "230319786  THEFT FROM MOTOR VEHICLE - GRAND ($950.01 AND ...   \n",
              "\n",
              "                            mocodes  age sex race  \\\n",
              "DR_NO                                               \n",
              "1307355              0913 1814 2000   48   M    H   \n",
              "11401303                       0329    0   M    W   \n",
              "70309629                       0344    0   M    H   \n",
              "90631215             1100 0400 1402   47   F    W   \n",
              "100100501                      0400   47   F    H   \n",
              "...                             ...  ...  ..  ...   \n",
              "231606525            0416 0411 1822   25   F    H   \n",
              "231210064       0601 0445 0416 0359   29   M    B   \n",
              "230115220                 1822 0344   24   F    H   \n",
              "230906458                 0329 1822   53   F    H   \n",
              "230319786  1822 1606 0344 0385 1300   38   M    W   \n",
              "\n",
              "                                                context  \\\n",
              "DR_NO                                                     \n",
              "1307355                          SINGLE FAMILY DWELLING   \n",
              "11401303                                         STREET   \n",
              "70309629                                          ALLEY   \n",
              "90631215                                         STREET   \n",
              "100100501                                         ALLEY   \n",
              "...                                                 ...   \n",
              "231606525                                      SIDEWALK   \n",
              "231210064                                    LAUNDROMAT   \n",
              "230115220               NIGHT CLUB (OPEN EVENINGS ONLY)   \n",
              "230906458  MULTI-UNIT DWELLING (APARTMENT, DUPLEX, ETC)   \n",
              "230319786                        SINGLE FAMILY DWELLING   \n",
              "\n",
              "                                                   weapon   case status  \\\n",
              "DR_NO                                                                     \n",
              "1307355                                                NA  Adult Arrest   \n",
              "11401303                                               NA   Invest Cont   \n",
              "70309629                                               NA   Invest Cont   \n",
              "90631215                                         HAND GUN   Invest Cont   \n",
              "100100501  STRONG-ARM (HANDS, FIST, FEET OR BODILY FORCE)   Invest Cont   \n",
              "...                                                   ...           ...   \n",
              "231606525  STRONG-ARM (HANDS, FIST, FEET OR BODILY FORCE)   Invest Cont   \n",
              "231210064                     UNKNOWN WEAPON/OTHER WEAPON   Invest Cont   \n",
              "230115220                                              NA   Invest Cont   \n",
              "230906458                                              NA   Invest Cont   \n",
              "230319786                                              NA   Invest Cont   \n",
              "\n",
              "            ccd1                                  location  \\\n",
              "DR_NO                                                        \n",
              "1307355    900.0    300 E  GAGE                         AV   \n",
              "11401303   740.0           SEPULVEDA                    BL   \n",
              "70309629   946.0   1300 E  21ST                         ST   \n",
              "90631215   900.0           CAHUENGA                     BL   \n",
              "100100501  122.0           8TH                          ST   \n",
              "...          ...                                       ...   \n",
              "231606525  230.0  12800    FILMORE                      ST   \n",
              "231210064  230.0   6100 S  VERMONT                      AV   \n",
              "230115220  352.0    500 S  MAIN                         ST   \n",
              "230906458  745.0  14500    HARTLAND                     ST   \n",
              "230319786  331.0   4100 S  HOBART                       BL   \n",
              "\n",
              "                                    street  latitude  longitud  \n",
              "DR_NO                                                           \n",
              "1307355                                 NA   33.9825 -118.2695  \n",
              "11401303   MANCHESTER                   AV   33.9599 -118.3962  \n",
              "70309629                                NA   34.0224 -118.2524  \n",
              "90631215   HOLLYWOOD                    BL   34.1016 -118.3295  \n",
              "100100501  SAN PEDRO                    ST   34.0387 -118.2488  \n",
              "...                                    ...       ...       ...  \n",
              "231606525                               NA   34.2790 -118.4116  \n",
              "231210064                               NA   33.9841 -118.2915  \n",
              "230115220                               NA   34.0467 -118.2485  \n",
              "230906458                               NA   34.1951 -118.4487  \n",
              "230319786                               NA   34.0091 -118.3078  \n",
              "\n",
              "[2993433 rows x 18 columns]"
            ],
            "text/html": [
              "\n",
              "  <div id=\"df-eb5b9bee-854b-4f7a-90d7-873047e5338a\" class=\"colab-df-container\">\n",
              "    <div>\n",
              "<style scoped>\n",
              "    .dataframe tbody tr th:only-of-type {\n",
              "        vertical-align: middle;\n",
              "    }\n",
              "\n",
              "    .dataframe tbody tr th {\n",
              "        vertical-align: top;\n",
              "    }\n",
              "\n",
              "    .dataframe thead th {\n",
              "        text-align: right;\n",
              "    }\n",
              "</style>\n",
              "<table border=\"1\" class=\"dataframe\">\n",
              "  <thead>\n",
              "    <tr style=\"text-align: right;\">\n",
              "      <th></th>\n",
              "      <th>date occured</th>\n",
              "      <th>time</th>\n",
              "      <th>area code</th>\n",
              "      <th>area</th>\n",
              "      <th>district</th>\n",
              "      <th>description</th>\n",
              "      <th>mocodes</th>\n",
              "      <th>age</th>\n",
              "      <th>sex</th>\n",
              "      <th>race</th>\n",
              "      <th>context</th>\n",
              "      <th>weapon</th>\n",
              "      <th>case status</th>\n",
              "      <th>ccd1</th>\n",
              "      <th>location</th>\n",
              "      <th>street</th>\n",
              "      <th>latitude</th>\n",
              "      <th>longitud</th>\n",
              "    </tr>\n",
              "    <tr>\n",
              "      <th>DR_NO</th>\n",
              "      <th></th>\n",
              "      <th></th>\n",
              "      <th></th>\n",
              "      <th></th>\n",
              "      <th></th>\n",
              "      <th></th>\n",
              "      <th></th>\n",
              "      <th></th>\n",
              "      <th></th>\n",
              "      <th></th>\n",
              "      <th></th>\n",
              "      <th></th>\n",
              "      <th></th>\n",
              "      <th></th>\n",
              "      <th></th>\n",
              "      <th></th>\n",
              "      <th></th>\n",
              "      <th></th>\n",
              "    </tr>\n",
              "  </thead>\n",
              "  <tbody>\n",
              "    <tr>\n",
              "      <th>1307355</th>\n",
              "      <td>02/20/2010 12:00:00 AM</td>\n",
              "      <td>1350</td>\n",
              "      <td>13.0</td>\n",
              "      <td>Newton</td>\n",
              "      <td>1385</td>\n",
              "      <td>VIOLATION OF COURT ORDER</td>\n",
              "      <td>0913 1814 2000</td>\n",
              "      <td>48</td>\n",
              "      <td>M</td>\n",
              "      <td>H</td>\n",
              "      <td>SINGLE FAMILY DWELLING</td>\n",
              "      <td>NA</td>\n",
              "      <td>Adult Arrest</td>\n",
              "      <td>900.0</td>\n",
              "      <td>300 E  GAGE                         AV</td>\n",
              "      <td>NA</td>\n",
              "      <td>33.9825</td>\n",
              "      <td>-118.2695</td>\n",
              "    </tr>\n",
              "    <tr>\n",
              "      <th>11401303</th>\n",
              "      <td>09/12/2010 12:00:00 AM</td>\n",
              "      <td>45</td>\n",
              "      <td>14.0</td>\n",
              "      <td>Pacific</td>\n",
              "      <td>1485</td>\n",
              "      <td>VANDALISM - FELONY ($400 &amp; OVER, ALL CHURCH VA...</td>\n",
              "      <td>0329</td>\n",
              "      <td>0</td>\n",
              "      <td>M</td>\n",
              "      <td>W</td>\n",
              "      <td>STREET</td>\n",
              "      <td>NA</td>\n",
              "      <td>Invest Cont</td>\n",
              "      <td>740.0</td>\n",
              "      <td>SEPULVEDA                    BL</td>\n",
              "      <td>MANCHESTER                   AV</td>\n",
              "      <td>33.9599</td>\n",
              "      <td>-118.3962</td>\n",
              "    </tr>\n",
              "    <tr>\n",
              "      <th>70309629</th>\n",
              "      <td>08/09/2010 12:00:00 AM</td>\n",
              "      <td>1515</td>\n",
              "      <td>13.0</td>\n",
              "      <td>Newton</td>\n",
              "      <td>1324</td>\n",
              "      <td>OTHER MISCELLANEOUS CRIME</td>\n",
              "      <td>0344</td>\n",
              "      <td>0</td>\n",
              "      <td>M</td>\n",
              "      <td>H</td>\n",
              "      <td>ALLEY</td>\n",
              "      <td>NA</td>\n",
              "      <td>Invest Cont</td>\n",
              "      <td>946.0</td>\n",
              "      <td>1300 E  21ST                         ST</td>\n",
              "      <td>NA</td>\n",
              "      <td>34.0224</td>\n",
              "      <td>-118.2524</td>\n",
              "    </tr>\n",
              "    <tr>\n",
              "      <th>90631215</th>\n",
              "      <td>01/05/2010 12:00:00 AM</td>\n",
              "      <td>150</td>\n",
              "      <td>6.0</td>\n",
              "      <td>Hollywood</td>\n",
              "      <td>646</td>\n",
              "      <td>VIOLATION OF COURT ORDER</td>\n",
              "      <td>1100 0400 1402</td>\n",
              "      <td>47</td>\n",
              "      <td>F</td>\n",
              "      <td>W</td>\n",
              "      <td>STREET</td>\n",
              "      <td>HAND GUN</td>\n",
              "      <td>Invest Cont</td>\n",
              "      <td>900.0</td>\n",
              "      <td>CAHUENGA                     BL</td>\n",
              "      <td>HOLLYWOOD                    BL</td>\n",
              "      <td>34.1016</td>\n",
              "      <td>-118.3295</td>\n",
              "    </tr>\n",
              "    <tr>\n",
              "      <th>100100501</th>\n",
              "      <td>01/02/2010 12:00:00 AM</td>\n",
              "      <td>2100</td>\n",
              "      <td>1.0</td>\n",
              "      <td>Central</td>\n",
              "      <td>176</td>\n",
              "      <td>RAPE, ATTEMPTED</td>\n",
              "      <td>0400</td>\n",
              "      <td>47</td>\n",
              "      <td>F</td>\n",
              "      <td>H</td>\n",
              "      <td>ALLEY</td>\n",
              "      <td>STRONG-ARM (HANDS, FIST, FEET OR BODILY FORCE)</td>\n",
              "      <td>Invest Cont</td>\n",
              "      <td>122.0</td>\n",
              "      <td>8TH                          ST</td>\n",
              "      <td>SAN PEDRO                    ST</td>\n",
              "      <td>34.0387</td>\n",
              "      <td>-118.2488</td>\n",
              "    </tr>\n",
              "    <tr>\n",
              "      <th>...</th>\n",
              "      <td>...</td>\n",
              "      <td>...</td>\n",
              "      <td>...</td>\n",
              "      <td>...</td>\n",
              "      <td>...</td>\n",
              "      <td>...</td>\n",
              "      <td>...</td>\n",
              "      <td>...</td>\n",
              "      <td>...</td>\n",
              "      <td>...</td>\n",
              "      <td>...</td>\n",
              "      <td>...</td>\n",
              "      <td>...</td>\n",
              "      <td>...</td>\n",
              "      <td>...</td>\n",
              "      <td>...</td>\n",
              "      <td>...</td>\n",
              "      <td>...</td>\n",
              "    </tr>\n",
              "    <tr>\n",
              "      <th>231606525</th>\n",
              "      <td>03/22/2023 12:00:00 AM</td>\n",
              "      <td>1000</td>\n",
              "      <td>NA</td>\n",
              "      <td>Foothill</td>\n",
              "      <td>1602</td>\n",
              "      <td>ASSAULT WITH DEADLY WEAPON, AGGRAVATED ASSAULT</td>\n",
              "      <td>0416 0411 1822</td>\n",
              "      <td>25</td>\n",
              "      <td>F</td>\n",
              "      <td>H</td>\n",
              "      <td>SIDEWALK</td>\n",
              "      <td>STRONG-ARM (HANDS, FIST, FEET OR BODILY FORCE)</td>\n",
              "      <td>Invest Cont</td>\n",
              "      <td>230.0</td>\n",
              "      <td>12800    FILMORE                      ST</td>\n",
              "      <td>NA</td>\n",
              "      <td>34.2790</td>\n",
              "      <td>-118.4116</td>\n",
              "    </tr>\n",
              "    <tr>\n",
              "      <th>231210064</th>\n",
              "      <td>04/12/2023 12:00:00 AM</td>\n",
              "      <td>1630</td>\n",
              "      <td>NA</td>\n",
              "      <td>77th Street</td>\n",
              "      <td>1239</td>\n",
              "      <td>ASSAULT WITH DEADLY WEAPON, AGGRAVATED ASSAULT</td>\n",
              "      <td>0601 0445 0416 0359</td>\n",
              "      <td>29</td>\n",
              "      <td>M</td>\n",
              "      <td>B</td>\n",
              "      <td>LAUNDROMAT</td>\n",
              "      <td>UNKNOWN WEAPON/OTHER WEAPON</td>\n",
              "      <td>Invest Cont</td>\n",
              "      <td>230.0</td>\n",
              "      <td>6100 S  VERMONT                      AV</td>\n",
              "      <td>NA</td>\n",
              "      <td>33.9841</td>\n",
              "      <td>-118.2915</td>\n",
              "    </tr>\n",
              "    <tr>\n",
              "      <th>230115220</th>\n",
              "      <td>07/01/2023 12:00:00 AM</td>\n",
              "      <td>1</td>\n",
              "      <td>NA</td>\n",
              "      <td>Central</td>\n",
              "      <td>154</td>\n",
              "      <td>PICKPOCKET</td>\n",
              "      <td>1822 0344</td>\n",
              "      <td>24</td>\n",
              "      <td>F</td>\n",
              "      <td>H</td>\n",
              "      <td>NIGHT CLUB (OPEN EVENINGS ONLY)</td>\n",
              "      <td>NA</td>\n",
              "      <td>Invest Cont</td>\n",
              "      <td>352.0</td>\n",
              "      <td>500 S  MAIN                         ST</td>\n",
              "      <td>NA</td>\n",
              "      <td>34.0467</td>\n",
              "      <td>-118.2485</td>\n",
              "    </tr>\n",
              "    <tr>\n",
              "      <th>230906458</th>\n",
              "      <td>03/05/2023 12:00:00 AM</td>\n",
              "      <td>900</td>\n",
              "      <td>NA</td>\n",
              "      <td>Van Nuys</td>\n",
              "      <td>914</td>\n",
              "      <td>VANDALISM - MISDEAMEANOR ($399 OR UNDER)</td>\n",
              "      <td>0329 1822</td>\n",
              "      <td>53</td>\n",
              "      <td>F</td>\n",
              "      <td>H</td>\n",
              "      <td>MULTI-UNIT DWELLING (APARTMENT, DUPLEX, ETC)</td>\n",
              "      <td>NA</td>\n",
              "      <td>Invest Cont</td>\n",
              "      <td>745.0</td>\n",
              "      <td>14500    HARTLAND                     ST</td>\n",
              "      <td>NA</td>\n",
              "      <td>34.1951</td>\n",
              "      <td>-118.4487</td>\n",
              "    </tr>\n",
              "    <tr>\n",
              "      <th>230319786</th>\n",
              "      <td>11/09/2023 12:00:00 AM</td>\n",
              "      <td>2300</td>\n",
              "      <td>NA</td>\n",
              "      <td>Southwest</td>\n",
              "      <td>395</td>\n",
              "      <td>THEFT FROM MOTOR VEHICLE - GRAND ($950.01 AND ...</td>\n",
              "      <td>1822 1606 0344 0385 1300</td>\n",
              "      <td>38</td>\n",
              "      <td>M</td>\n",
              "      <td>W</td>\n",
              "      <td>SINGLE FAMILY DWELLING</td>\n",
              "      <td>NA</td>\n",
              "      <td>Invest Cont</td>\n",
              "      <td>331.0</td>\n",
              "      <td>4100 S  HOBART                       BL</td>\n",
              "      <td>NA</td>\n",
              "      <td>34.0091</td>\n",
              "      <td>-118.3078</td>\n",
              "    </tr>\n",
              "  </tbody>\n",
              "</table>\n",
              "<p>2993433 rows × 18 columns</p>\n",
              "</div>\n",
              "    <div class=\"colab-df-buttons\">\n",
              "\n",
              "  <div class=\"colab-df-container\">\n",
              "    <button class=\"colab-df-convert\" onclick=\"convertToInteractive('df-eb5b9bee-854b-4f7a-90d7-873047e5338a')\"\n",
              "            title=\"Convert this dataframe to an interactive table.\"\n",
              "            style=\"display:none;\">\n",
              "\n",
              "  <svg xmlns=\"http://www.w3.org/2000/svg\" height=\"24px\" viewBox=\"0 -960 960 960\">\n",
              "    <path d=\"M120-120v-720h720v720H120Zm60-500h600v-160H180v160Zm220 220h160v-160H400v160Zm0 220h160v-160H400v160ZM180-400h160v-160H180v160Zm440 0h160v-160H620v160ZM180-180h160v-160H180v160Zm440 0h160v-160H620v160Z\"/>\n",
              "  </svg>\n",
              "    </button>\n",
              "\n",
              "  <style>\n",
              "    .colab-df-container {\n",
              "      display:flex;\n",
              "      gap: 12px;\n",
              "    }\n",
              "\n",
              "    .colab-df-convert {\n",
              "      background-color: #E8F0FE;\n",
              "      border: none;\n",
              "      border-radius: 50%;\n",
              "      cursor: pointer;\n",
              "      display: none;\n",
              "      fill: #1967D2;\n",
              "      height: 32px;\n",
              "      padding: 0 0 0 0;\n",
              "      width: 32px;\n",
              "    }\n",
              "\n",
              "    .colab-df-convert:hover {\n",
              "      background-color: #E2EBFA;\n",
              "      box-shadow: 0px 1px 2px rgba(60, 64, 67, 0.3), 0px 1px 3px 1px rgba(60, 64, 67, 0.15);\n",
              "      fill: #174EA6;\n",
              "    }\n",
              "\n",
              "    .colab-df-buttons div {\n",
              "      margin-bottom: 4px;\n",
              "    }\n",
              "\n",
              "    [theme=dark] .colab-df-convert {\n",
              "      background-color: #3B4455;\n",
              "      fill: #D2E3FC;\n",
              "    }\n",
              "\n",
              "    [theme=dark] .colab-df-convert:hover {\n",
              "      background-color: #434B5C;\n",
              "      box-shadow: 0px 1px 3px 1px rgba(0, 0, 0, 0.15);\n",
              "      filter: drop-shadow(0px 1px 2px rgba(0, 0, 0, 0.3));\n",
              "      fill: #FFFFFF;\n",
              "    }\n",
              "  </style>\n",
              "\n",
              "    <script>\n",
              "      const buttonEl =\n",
              "        document.querySelector('#df-eb5b9bee-854b-4f7a-90d7-873047e5338a button.colab-df-convert');\n",
              "      buttonEl.style.display =\n",
              "        google.colab.kernel.accessAllowed ? 'block' : 'none';\n",
              "\n",
              "      async function convertToInteractive(key) {\n",
              "        const element = document.querySelector('#df-eb5b9bee-854b-4f7a-90d7-873047e5338a');\n",
              "        const dataTable =\n",
              "          await google.colab.kernel.invokeFunction('convertToInteractive',\n",
              "                                                    [key], {});\n",
              "        if (!dataTable) return;\n",
              "\n",
              "        const docLinkHtml = 'Like what you see? Visit the ' +\n",
              "          '<a target=\"_blank\" href=https://colab.research.google.com/notebooks/data_table.ipynb>data table notebook</a>'\n",
              "          + ' to learn more about interactive tables.';\n",
              "        element.innerHTML = '';\n",
              "        dataTable['output_type'] = 'display_data';\n",
              "        await google.colab.output.renderOutput(dataTable, element);\n",
              "        const docLink = document.createElement('div');\n",
              "        docLink.innerHTML = docLinkHtml;\n",
              "        element.appendChild(docLink);\n",
              "      }\n",
              "    </script>\n",
              "  </div>\n",
              "\n",
              "\n",
              "<div id=\"df-e192a2e1-9441-45a3-9adb-6c94e4a6210a\">\n",
              "  <button class=\"colab-df-quickchart\" onclick=\"quickchart('df-e192a2e1-9441-45a3-9adb-6c94e4a6210a')\"\n",
              "            title=\"Suggest charts\"\n",
              "            style=\"display:none;\">\n",
              "\n",
              "<svg xmlns=\"http://www.w3.org/2000/svg\" height=\"24px\"viewBox=\"0 0 24 24\"\n",
              "     width=\"24px\">\n",
              "    <g>\n",
              "        <path d=\"M19 3H5c-1.1 0-2 .9-2 2v14c0 1.1.9 2 2 2h14c1.1 0 2-.9 2-2V5c0-1.1-.9-2-2-2zM9 17H7v-7h2v7zm4 0h-2V7h2v10zm4 0h-2v-4h2v4z\"/>\n",
              "    </g>\n",
              "</svg>\n",
              "  </button>\n",
              "\n",
              "<style>\n",
              "  .colab-df-quickchart {\n",
              "      --bg-color: #E8F0FE;\n",
              "      --fill-color: #1967D2;\n",
              "      --hover-bg-color: #E2EBFA;\n",
              "      --hover-fill-color: #174EA6;\n",
              "      --disabled-fill-color: #AAA;\n",
              "      --disabled-bg-color: #DDD;\n",
              "  }\n",
              "\n",
              "  [theme=dark] .colab-df-quickchart {\n",
              "      --bg-color: #3B4455;\n",
              "      --fill-color: #D2E3FC;\n",
              "      --hover-bg-color: #434B5C;\n",
              "      --hover-fill-color: #FFFFFF;\n",
              "      --disabled-bg-color: #3B4455;\n",
              "      --disabled-fill-color: #666;\n",
              "  }\n",
              "\n",
              "  .colab-df-quickchart {\n",
              "    background-color: var(--bg-color);\n",
              "    border: none;\n",
              "    border-radius: 50%;\n",
              "    cursor: pointer;\n",
              "    display: none;\n",
              "    fill: var(--fill-color);\n",
              "    height: 32px;\n",
              "    padding: 0;\n",
              "    width: 32px;\n",
              "  }\n",
              "\n",
              "  .colab-df-quickchart:hover {\n",
              "    background-color: var(--hover-bg-color);\n",
              "    box-shadow: 0 1px 2px rgba(60, 64, 67, 0.3), 0 1px 3px 1px rgba(60, 64, 67, 0.15);\n",
              "    fill: var(--button-hover-fill-color);\n",
              "  }\n",
              "\n",
              "  .colab-df-quickchart-complete:disabled,\n",
              "  .colab-df-quickchart-complete:disabled:hover {\n",
              "    background-color: var(--disabled-bg-color);\n",
              "    fill: var(--disabled-fill-color);\n",
              "    box-shadow: none;\n",
              "  }\n",
              "\n",
              "  .colab-df-spinner {\n",
              "    border: 2px solid var(--fill-color);\n",
              "    border-color: transparent;\n",
              "    border-bottom-color: var(--fill-color);\n",
              "    animation:\n",
              "      spin 1s steps(1) infinite;\n",
              "  }\n",
              "\n",
              "  @keyframes spin {\n",
              "    0% {\n",
              "      border-color: transparent;\n",
              "      border-bottom-color: var(--fill-color);\n",
              "      border-left-color: var(--fill-color);\n",
              "    }\n",
              "    20% {\n",
              "      border-color: transparent;\n",
              "      border-left-color: var(--fill-color);\n",
              "      border-top-color: var(--fill-color);\n",
              "    }\n",
              "    30% {\n",
              "      border-color: transparent;\n",
              "      border-left-color: var(--fill-color);\n",
              "      border-top-color: var(--fill-color);\n",
              "      border-right-color: var(--fill-color);\n",
              "    }\n",
              "    40% {\n",
              "      border-color: transparent;\n",
              "      border-right-color: var(--fill-color);\n",
              "      border-top-color: var(--fill-color);\n",
              "    }\n",
              "    60% {\n",
              "      border-color: transparent;\n",
              "      border-right-color: var(--fill-color);\n",
              "    }\n",
              "    80% {\n",
              "      border-color: transparent;\n",
              "      border-right-color: var(--fill-color);\n",
              "      border-bottom-color: var(--fill-color);\n",
              "    }\n",
              "    90% {\n",
              "      border-color: transparent;\n",
              "      border-bottom-color: var(--fill-color);\n",
              "    }\n",
              "  }\n",
              "</style>\n",
              "\n",
              "  <script>\n",
              "    async function quickchart(key) {\n",
              "      const quickchartButtonEl =\n",
              "        document.querySelector('#' + key + ' button');\n",
              "      quickchartButtonEl.disabled = true;  // To prevent multiple clicks.\n",
              "      quickchartButtonEl.classList.add('colab-df-spinner');\n",
              "      try {\n",
              "        const charts = await google.colab.kernel.invokeFunction(\n",
              "            'suggestCharts', [key], {});\n",
              "      } catch (error) {\n",
              "        console.error('Error during call to suggestCharts:', error);\n",
              "      }\n",
              "      quickchartButtonEl.classList.remove('colab-df-spinner');\n",
              "      quickchartButtonEl.classList.add('colab-df-quickchart-complete');\n",
              "    }\n",
              "    (() => {\n",
              "      let quickchartButtonEl =\n",
              "        document.querySelector('#df-e192a2e1-9441-45a3-9adb-6c94e4a6210a button');\n",
              "      quickchartButtonEl.style.display =\n",
              "        google.colab.kernel.accessAllowed ? 'block' : 'none';\n",
              "    })();\n",
              "  </script>\n",
              "</div>\n",
              "\n",
              "  <div id=\"id_61abf398-4b1b-494a-84f1-99e7f38a26c4\">\n",
              "    <style>\n",
              "      .colab-df-generate {\n",
              "        background-color: #E8F0FE;\n",
              "        border: none;\n",
              "        border-radius: 50%;\n",
              "        cursor: pointer;\n",
              "        display: none;\n",
              "        fill: #1967D2;\n",
              "        height: 32px;\n",
              "        padding: 0 0 0 0;\n",
              "        width: 32px;\n",
              "      }\n",
              "\n",
              "      .colab-df-generate:hover {\n",
              "        background-color: #E2EBFA;\n",
              "        box-shadow: 0px 1px 2px rgba(60, 64, 67, 0.3), 0px 1px 3px 1px rgba(60, 64, 67, 0.15);\n",
              "        fill: #174EA6;\n",
              "      }\n",
              "\n",
              "      [theme=dark] .colab-df-generate {\n",
              "        background-color: #3B4455;\n",
              "        fill: #D2E3FC;\n",
              "      }\n",
              "\n",
              "      [theme=dark] .colab-df-generate:hover {\n",
              "        background-color: #434B5C;\n",
              "        box-shadow: 0px 1px 3px 1px rgba(0, 0, 0, 0.15);\n",
              "        filter: drop-shadow(0px 1px 2px rgba(0, 0, 0, 0.3));\n",
              "        fill: #FFFFFF;\n",
              "      }\n",
              "    </style>\n",
              "    <button class=\"colab-df-generate\" onclick=\"generateWithVariable('crimenes_reportados')\"\n",
              "            title=\"Generate code using this dataframe.\"\n",
              "            style=\"display:none;\">\n",
              "\n",
              "  <svg xmlns=\"http://www.w3.org/2000/svg\" height=\"24px\"viewBox=\"0 0 24 24\"\n",
              "       width=\"24px\">\n",
              "    <path d=\"M7,19H8.4L18.45,9,17,7.55,7,17.6ZM5,21V16.75L18.45,3.32a2,2,0,0,1,2.83,0l1.4,1.43a1.91,1.91,0,0,1,.58,1.4,1.91,1.91,0,0,1-.58,1.4L9.25,21ZM18.45,9,17,7.55Zm-12,3A5.31,5.31,0,0,0,4.9,8.1,5.31,5.31,0,0,0,1,6.5,5.31,5.31,0,0,0,4.9,4.9,5.31,5.31,0,0,0,6.5,1,5.31,5.31,0,0,0,8.1,4.9,5.31,5.31,0,0,0,12,6.5,5.46,5.46,0,0,0,6.5,12Z\"/>\n",
              "  </svg>\n",
              "    </button>\n",
              "    <script>\n",
              "      (() => {\n",
              "      const buttonEl =\n",
              "        document.querySelector('#id_61abf398-4b1b-494a-84f1-99e7f38a26c4 button.colab-df-generate');\n",
              "      buttonEl.style.display =\n",
              "        google.colab.kernel.accessAllowed ? 'block' : 'none';\n",
              "\n",
              "      buttonEl.onclick = () => {\n",
              "        google.colab.notebook.generateWithVariable('crimenes_reportados');\n",
              "      }\n",
              "      })();\n",
              "    </script>\n",
              "  </div>\n",
              "\n",
              "    </div>\n",
              "  </div>\n"
            ]
          },
          "metadata": {},
          "execution_count": 18
        }
      ]
    },
    {
      "cell_type": "code",
      "source": [
        "#Como queremos hacer comparativas por año, dejamos la columna \"occured\" tipo \"object\" para poder manipularlo de mejor manera.\n",
        "#Aquí separamos la fecha de la hora, ya que la hora parece ser siempre la misma.\n",
        "crimenes_reportados['date occured'].str.split('\\s')"
      ],
      "metadata": {
        "colab": {
          "base_uri": "https://localhost:8080/"
        },
        "id": "aPu4r3S2Nmtr",
        "outputId": "b547a409-dac4-4a55-ff48-aeef9dc4b780"
      },
      "execution_count": null,
      "outputs": [
        {
          "output_type": "execute_result",
          "data": {
            "text/plain": [
              "DR_NO\n",
              "1307355      [02/20/2010, 12:00:00, AM]\n",
              "11401303     [09/12/2010, 12:00:00, AM]\n",
              "70309629     [08/09/2010, 12:00:00, AM]\n",
              "90631215     [01/05/2010, 12:00:00, AM]\n",
              "100100501    [01/02/2010, 12:00:00, AM]\n",
              "                        ...            \n",
              "231606525    [03/22/2023, 12:00:00, AM]\n",
              "231210064    [04/12/2023, 12:00:00, AM]\n",
              "230115220    [07/01/2023, 12:00:00, AM]\n",
              "230906458    [03/05/2023, 12:00:00, AM]\n",
              "230319786    [11/09/2023, 12:00:00, AM]\n",
              "Name: date occured, Length: 2993433, dtype: object"
            ]
          },
          "metadata": {},
          "execution_count": 19
        }
      ]
    },
    {
      "cell_type": "code",
      "source": [
        "#asignamos los datos separados a una nueva variable\n",
        "fecha_ocurrida = crimenes_reportados['date occured'].str.split('\\s', expand=True)\n",
        "fecha_ocurrida.head()"
      ],
      "metadata": {
        "colab": {
          "base_uri": "https://localhost:8080/",
          "height": 238
        },
        "id": "lPgCRGtbNjW9",
        "outputId": "84c6b259-cb83-4f01-ee91-1ea7e3378d20"
      },
      "execution_count": null,
      "outputs": [
        {
          "output_type": "execute_result",
          "data": {
            "text/plain": [
              "                    0         1   2\n",
              "DR_NO                              \n",
              "1307355    02/20/2010  12:00:00  AM\n",
              "11401303   09/12/2010  12:00:00  AM\n",
              "70309629   08/09/2010  12:00:00  AM\n",
              "90631215   01/05/2010  12:00:00  AM\n",
              "100100501  01/02/2010  12:00:00  AM"
            ],
            "text/html": [
              "\n",
              "  <div id=\"df-75773563-e7a5-4f9f-9190-4900c88cfb02\" class=\"colab-df-container\">\n",
              "    <div>\n",
              "<style scoped>\n",
              "    .dataframe tbody tr th:only-of-type {\n",
              "        vertical-align: middle;\n",
              "    }\n",
              "\n",
              "    .dataframe tbody tr th {\n",
              "        vertical-align: top;\n",
              "    }\n",
              "\n",
              "    .dataframe thead th {\n",
              "        text-align: right;\n",
              "    }\n",
              "</style>\n",
              "<table border=\"1\" class=\"dataframe\">\n",
              "  <thead>\n",
              "    <tr style=\"text-align: right;\">\n",
              "      <th></th>\n",
              "      <th>0</th>\n",
              "      <th>1</th>\n",
              "      <th>2</th>\n",
              "    </tr>\n",
              "    <tr>\n",
              "      <th>DR_NO</th>\n",
              "      <th></th>\n",
              "      <th></th>\n",
              "      <th></th>\n",
              "    </tr>\n",
              "  </thead>\n",
              "  <tbody>\n",
              "    <tr>\n",
              "      <th>1307355</th>\n",
              "      <td>02/20/2010</td>\n",
              "      <td>12:00:00</td>\n",
              "      <td>AM</td>\n",
              "    </tr>\n",
              "    <tr>\n",
              "      <th>11401303</th>\n",
              "      <td>09/12/2010</td>\n",
              "      <td>12:00:00</td>\n",
              "      <td>AM</td>\n",
              "    </tr>\n",
              "    <tr>\n",
              "      <th>70309629</th>\n",
              "      <td>08/09/2010</td>\n",
              "      <td>12:00:00</td>\n",
              "      <td>AM</td>\n",
              "    </tr>\n",
              "    <tr>\n",
              "      <th>90631215</th>\n",
              "      <td>01/05/2010</td>\n",
              "      <td>12:00:00</td>\n",
              "      <td>AM</td>\n",
              "    </tr>\n",
              "    <tr>\n",
              "      <th>100100501</th>\n",
              "      <td>01/02/2010</td>\n",
              "      <td>12:00:00</td>\n",
              "      <td>AM</td>\n",
              "    </tr>\n",
              "  </tbody>\n",
              "</table>\n",
              "</div>\n",
              "    <div class=\"colab-df-buttons\">\n",
              "\n",
              "  <div class=\"colab-df-container\">\n",
              "    <button class=\"colab-df-convert\" onclick=\"convertToInteractive('df-75773563-e7a5-4f9f-9190-4900c88cfb02')\"\n",
              "            title=\"Convert this dataframe to an interactive table.\"\n",
              "            style=\"display:none;\">\n",
              "\n",
              "  <svg xmlns=\"http://www.w3.org/2000/svg\" height=\"24px\" viewBox=\"0 -960 960 960\">\n",
              "    <path d=\"M120-120v-720h720v720H120Zm60-500h600v-160H180v160Zm220 220h160v-160H400v160Zm0 220h160v-160H400v160ZM180-400h160v-160H180v160Zm440 0h160v-160H620v160ZM180-180h160v-160H180v160Zm440 0h160v-160H620v160Z\"/>\n",
              "  </svg>\n",
              "    </button>\n",
              "\n",
              "  <style>\n",
              "    .colab-df-container {\n",
              "      display:flex;\n",
              "      gap: 12px;\n",
              "    }\n",
              "\n",
              "    .colab-df-convert {\n",
              "      background-color: #E8F0FE;\n",
              "      border: none;\n",
              "      border-radius: 50%;\n",
              "      cursor: pointer;\n",
              "      display: none;\n",
              "      fill: #1967D2;\n",
              "      height: 32px;\n",
              "      padding: 0 0 0 0;\n",
              "      width: 32px;\n",
              "    }\n",
              "\n",
              "    .colab-df-convert:hover {\n",
              "      background-color: #E2EBFA;\n",
              "      box-shadow: 0px 1px 2px rgba(60, 64, 67, 0.3), 0px 1px 3px 1px rgba(60, 64, 67, 0.15);\n",
              "      fill: #174EA6;\n",
              "    }\n",
              "\n",
              "    .colab-df-buttons div {\n",
              "      margin-bottom: 4px;\n",
              "    }\n",
              "\n",
              "    [theme=dark] .colab-df-convert {\n",
              "      background-color: #3B4455;\n",
              "      fill: #D2E3FC;\n",
              "    }\n",
              "\n",
              "    [theme=dark] .colab-df-convert:hover {\n",
              "      background-color: #434B5C;\n",
              "      box-shadow: 0px 1px 3px 1px rgba(0, 0, 0, 0.15);\n",
              "      filter: drop-shadow(0px 1px 2px rgba(0, 0, 0, 0.3));\n",
              "      fill: #FFFFFF;\n",
              "    }\n",
              "  </style>\n",
              "\n",
              "    <script>\n",
              "      const buttonEl =\n",
              "        document.querySelector('#df-75773563-e7a5-4f9f-9190-4900c88cfb02 button.colab-df-convert');\n",
              "      buttonEl.style.display =\n",
              "        google.colab.kernel.accessAllowed ? 'block' : 'none';\n",
              "\n",
              "      async function convertToInteractive(key) {\n",
              "        const element = document.querySelector('#df-75773563-e7a5-4f9f-9190-4900c88cfb02');\n",
              "        const dataTable =\n",
              "          await google.colab.kernel.invokeFunction('convertToInteractive',\n",
              "                                                    [key], {});\n",
              "        if (!dataTable) return;\n",
              "\n",
              "        const docLinkHtml = 'Like what you see? Visit the ' +\n",
              "          '<a target=\"_blank\" href=https://colab.research.google.com/notebooks/data_table.ipynb>data table notebook</a>'\n",
              "          + ' to learn more about interactive tables.';\n",
              "        element.innerHTML = '';\n",
              "        dataTable['output_type'] = 'display_data';\n",
              "        await google.colab.output.renderOutput(dataTable, element);\n",
              "        const docLink = document.createElement('div');\n",
              "        docLink.innerHTML = docLinkHtml;\n",
              "        element.appendChild(docLink);\n",
              "      }\n",
              "    </script>\n",
              "  </div>\n",
              "\n",
              "\n",
              "<div id=\"df-7a008b67-c1bb-472e-8a7c-df1a63a1b56e\">\n",
              "  <button class=\"colab-df-quickchart\" onclick=\"quickchart('df-7a008b67-c1bb-472e-8a7c-df1a63a1b56e')\"\n",
              "            title=\"Suggest charts\"\n",
              "            style=\"display:none;\">\n",
              "\n",
              "<svg xmlns=\"http://www.w3.org/2000/svg\" height=\"24px\"viewBox=\"0 0 24 24\"\n",
              "     width=\"24px\">\n",
              "    <g>\n",
              "        <path d=\"M19 3H5c-1.1 0-2 .9-2 2v14c0 1.1.9 2 2 2h14c1.1 0 2-.9 2-2V5c0-1.1-.9-2-2-2zM9 17H7v-7h2v7zm4 0h-2V7h2v10zm4 0h-2v-4h2v4z\"/>\n",
              "    </g>\n",
              "</svg>\n",
              "  </button>\n",
              "\n",
              "<style>\n",
              "  .colab-df-quickchart {\n",
              "      --bg-color: #E8F0FE;\n",
              "      --fill-color: #1967D2;\n",
              "      --hover-bg-color: #E2EBFA;\n",
              "      --hover-fill-color: #174EA6;\n",
              "      --disabled-fill-color: #AAA;\n",
              "      --disabled-bg-color: #DDD;\n",
              "  }\n",
              "\n",
              "  [theme=dark] .colab-df-quickchart {\n",
              "      --bg-color: #3B4455;\n",
              "      --fill-color: #D2E3FC;\n",
              "      --hover-bg-color: #434B5C;\n",
              "      --hover-fill-color: #FFFFFF;\n",
              "      --disabled-bg-color: #3B4455;\n",
              "      --disabled-fill-color: #666;\n",
              "  }\n",
              "\n",
              "  .colab-df-quickchart {\n",
              "    background-color: var(--bg-color);\n",
              "    border: none;\n",
              "    border-radius: 50%;\n",
              "    cursor: pointer;\n",
              "    display: none;\n",
              "    fill: var(--fill-color);\n",
              "    height: 32px;\n",
              "    padding: 0;\n",
              "    width: 32px;\n",
              "  }\n",
              "\n",
              "  .colab-df-quickchart:hover {\n",
              "    background-color: var(--hover-bg-color);\n",
              "    box-shadow: 0 1px 2px rgba(60, 64, 67, 0.3), 0 1px 3px 1px rgba(60, 64, 67, 0.15);\n",
              "    fill: var(--button-hover-fill-color);\n",
              "  }\n",
              "\n",
              "  .colab-df-quickchart-complete:disabled,\n",
              "  .colab-df-quickchart-complete:disabled:hover {\n",
              "    background-color: var(--disabled-bg-color);\n",
              "    fill: var(--disabled-fill-color);\n",
              "    box-shadow: none;\n",
              "  }\n",
              "\n",
              "  .colab-df-spinner {\n",
              "    border: 2px solid var(--fill-color);\n",
              "    border-color: transparent;\n",
              "    border-bottom-color: var(--fill-color);\n",
              "    animation:\n",
              "      spin 1s steps(1) infinite;\n",
              "  }\n",
              "\n",
              "  @keyframes spin {\n",
              "    0% {\n",
              "      border-color: transparent;\n",
              "      border-bottom-color: var(--fill-color);\n",
              "      border-left-color: var(--fill-color);\n",
              "    }\n",
              "    20% {\n",
              "      border-color: transparent;\n",
              "      border-left-color: var(--fill-color);\n",
              "      border-top-color: var(--fill-color);\n",
              "    }\n",
              "    30% {\n",
              "      border-color: transparent;\n",
              "      border-left-color: var(--fill-color);\n",
              "      border-top-color: var(--fill-color);\n",
              "      border-right-color: var(--fill-color);\n",
              "    }\n",
              "    40% {\n",
              "      border-color: transparent;\n",
              "      border-right-color: var(--fill-color);\n",
              "      border-top-color: var(--fill-color);\n",
              "    }\n",
              "    60% {\n",
              "      border-color: transparent;\n",
              "      border-right-color: var(--fill-color);\n",
              "    }\n",
              "    80% {\n",
              "      border-color: transparent;\n",
              "      border-right-color: var(--fill-color);\n",
              "      border-bottom-color: var(--fill-color);\n",
              "    }\n",
              "    90% {\n",
              "      border-color: transparent;\n",
              "      border-bottom-color: var(--fill-color);\n",
              "    }\n",
              "  }\n",
              "</style>\n",
              "\n",
              "  <script>\n",
              "    async function quickchart(key) {\n",
              "      const quickchartButtonEl =\n",
              "        document.querySelector('#' + key + ' button');\n",
              "      quickchartButtonEl.disabled = true;  // To prevent multiple clicks.\n",
              "      quickchartButtonEl.classList.add('colab-df-spinner');\n",
              "      try {\n",
              "        const charts = await google.colab.kernel.invokeFunction(\n",
              "            'suggestCharts', [key], {});\n",
              "      } catch (error) {\n",
              "        console.error('Error during call to suggestCharts:', error);\n",
              "      }\n",
              "      quickchartButtonEl.classList.remove('colab-df-spinner');\n",
              "      quickchartButtonEl.classList.add('colab-df-quickchart-complete');\n",
              "    }\n",
              "    (() => {\n",
              "      let quickchartButtonEl =\n",
              "        document.querySelector('#df-7a008b67-c1bb-472e-8a7c-df1a63a1b56e button');\n",
              "      quickchartButtonEl.style.display =\n",
              "        google.colab.kernel.accessAllowed ? 'block' : 'none';\n",
              "    })();\n",
              "  </script>\n",
              "</div>\n",
              "\n",
              "    </div>\n",
              "  </div>\n"
            ]
          },
          "metadata": {},
          "execution_count": 20
        }
      ]
    },
    {
      "cell_type": "code",
      "source": [
        "#Les asigne un nombre a las columnas para facilitar al momento de llamarlas\n",
        "fecha_ocurrida.columns = ['fecha', 'hora', 'AM']"
      ],
      "metadata": {
        "id": "JPTZ3VTEh-xi"
      },
      "execution_count": null,
      "outputs": []
    },
    {
      "cell_type": "code",
      "source": [
        "#Aquí solo reemplaze los datos de la columna \"occured\" de mi df original, con la columna \"fecha\".\n",
        "crimenes_reportados['date occured']  = fecha_ocurrida['fecha'].str.split('\\s', expand=True)\n",
        "crimenes_reportados.head()"
      ],
      "metadata": {
        "colab": {
          "base_uri": "https://localhost:8080/",
          "height": 535
        },
        "id": "AiHZCAEPN6br",
        "outputId": "38a68245-dcc3-4093-eadb-a673cb0d3b63"
      },
      "execution_count": null,
      "outputs": [
        {
          "output_type": "execute_result",
          "data": {
            "text/plain": [
              "          date occured  time area code       area  district  \\\n",
              "DR_NO                                                         \n",
              "1307355     02/20/2010  1350      13.0     Newton      1385   \n",
              "11401303    09/12/2010    45      14.0    Pacific      1485   \n",
              "70309629    08/09/2010  1515      13.0     Newton      1324   \n",
              "90631215    01/05/2010   150       6.0  Hollywood       646   \n",
              "100100501   01/02/2010  2100       1.0    Central       176   \n",
              "\n",
              "                                                 description         mocodes  \\\n",
              "DR_NO                                                                          \n",
              "1307355                             VIOLATION OF COURT ORDER  0913 1814 2000   \n",
              "11401303   VANDALISM - FELONY ($400 & OVER, ALL CHURCH VA...            0329   \n",
              "70309629                           OTHER MISCELLANEOUS CRIME            0344   \n",
              "90631215                            VIOLATION OF COURT ORDER  1100 0400 1402   \n",
              "100100501                                    RAPE, ATTEMPTED            0400   \n",
              "\n",
              "           age sex race                 context  \\\n",
              "DR_NO                                             \n",
              "1307355     48   M    H  SINGLE FAMILY DWELLING   \n",
              "11401303     0   M    W                  STREET   \n",
              "70309629     0   M    H                   ALLEY   \n",
              "90631215    47   F    W                  STREET   \n",
              "100100501   47   F    H                   ALLEY   \n",
              "\n",
              "                                                   weapon   case status  \\\n",
              "DR_NO                                                                     \n",
              "1307355                                                NA  Adult Arrest   \n",
              "11401303                                               NA   Invest Cont   \n",
              "70309629                                               NA   Invest Cont   \n",
              "90631215                                         HAND GUN   Invest Cont   \n",
              "100100501  STRONG-ARM (HANDS, FIST, FEET OR BODILY FORCE)   Invest Cont   \n",
              "\n",
              "            ccd1                                 location  \\\n",
              "DR_NO                                                       \n",
              "1307355    900.0   300 E  GAGE                         AV   \n",
              "11401303   740.0          SEPULVEDA                    BL   \n",
              "70309629   946.0  1300 E  21ST                         ST   \n",
              "90631215   900.0          CAHUENGA                     BL   \n",
              "100100501  122.0          8TH                          ST   \n",
              "\n",
              "                                    street  latitude  longitud  \n",
              "DR_NO                                                           \n",
              "1307355                                 NA   33.9825 -118.2695  \n",
              "11401303   MANCHESTER                   AV   33.9599 -118.3962  \n",
              "70309629                                NA   34.0224 -118.2524  \n",
              "90631215   HOLLYWOOD                    BL   34.1016 -118.3295  \n",
              "100100501  SAN PEDRO                    ST   34.0387 -118.2488  "
            ],
            "text/html": [
              "\n",
              "  <div id=\"df-d6a8c4d8-1ef0-4bd4-929c-52ee40e45247\" class=\"colab-df-container\">\n",
              "    <div>\n",
              "<style scoped>\n",
              "    .dataframe tbody tr th:only-of-type {\n",
              "        vertical-align: middle;\n",
              "    }\n",
              "\n",
              "    .dataframe tbody tr th {\n",
              "        vertical-align: top;\n",
              "    }\n",
              "\n",
              "    .dataframe thead th {\n",
              "        text-align: right;\n",
              "    }\n",
              "</style>\n",
              "<table border=\"1\" class=\"dataframe\">\n",
              "  <thead>\n",
              "    <tr style=\"text-align: right;\">\n",
              "      <th></th>\n",
              "      <th>date occured</th>\n",
              "      <th>time</th>\n",
              "      <th>area code</th>\n",
              "      <th>area</th>\n",
              "      <th>district</th>\n",
              "      <th>description</th>\n",
              "      <th>mocodes</th>\n",
              "      <th>age</th>\n",
              "      <th>sex</th>\n",
              "      <th>race</th>\n",
              "      <th>context</th>\n",
              "      <th>weapon</th>\n",
              "      <th>case status</th>\n",
              "      <th>ccd1</th>\n",
              "      <th>location</th>\n",
              "      <th>street</th>\n",
              "      <th>latitude</th>\n",
              "      <th>longitud</th>\n",
              "    </tr>\n",
              "    <tr>\n",
              "      <th>DR_NO</th>\n",
              "      <th></th>\n",
              "      <th></th>\n",
              "      <th></th>\n",
              "      <th></th>\n",
              "      <th></th>\n",
              "      <th></th>\n",
              "      <th></th>\n",
              "      <th></th>\n",
              "      <th></th>\n",
              "      <th></th>\n",
              "      <th></th>\n",
              "      <th></th>\n",
              "      <th></th>\n",
              "      <th></th>\n",
              "      <th></th>\n",
              "      <th></th>\n",
              "      <th></th>\n",
              "      <th></th>\n",
              "    </tr>\n",
              "  </thead>\n",
              "  <tbody>\n",
              "    <tr>\n",
              "      <th>1307355</th>\n",
              "      <td>02/20/2010</td>\n",
              "      <td>1350</td>\n",
              "      <td>13.0</td>\n",
              "      <td>Newton</td>\n",
              "      <td>1385</td>\n",
              "      <td>VIOLATION OF COURT ORDER</td>\n",
              "      <td>0913 1814 2000</td>\n",
              "      <td>48</td>\n",
              "      <td>M</td>\n",
              "      <td>H</td>\n",
              "      <td>SINGLE FAMILY DWELLING</td>\n",
              "      <td>NA</td>\n",
              "      <td>Adult Arrest</td>\n",
              "      <td>900.0</td>\n",
              "      <td>300 E  GAGE                         AV</td>\n",
              "      <td>NA</td>\n",
              "      <td>33.9825</td>\n",
              "      <td>-118.2695</td>\n",
              "    </tr>\n",
              "    <tr>\n",
              "      <th>11401303</th>\n",
              "      <td>09/12/2010</td>\n",
              "      <td>45</td>\n",
              "      <td>14.0</td>\n",
              "      <td>Pacific</td>\n",
              "      <td>1485</td>\n",
              "      <td>VANDALISM - FELONY ($400 &amp; OVER, ALL CHURCH VA...</td>\n",
              "      <td>0329</td>\n",
              "      <td>0</td>\n",
              "      <td>M</td>\n",
              "      <td>W</td>\n",
              "      <td>STREET</td>\n",
              "      <td>NA</td>\n",
              "      <td>Invest Cont</td>\n",
              "      <td>740.0</td>\n",
              "      <td>SEPULVEDA                    BL</td>\n",
              "      <td>MANCHESTER                   AV</td>\n",
              "      <td>33.9599</td>\n",
              "      <td>-118.3962</td>\n",
              "    </tr>\n",
              "    <tr>\n",
              "      <th>70309629</th>\n",
              "      <td>08/09/2010</td>\n",
              "      <td>1515</td>\n",
              "      <td>13.0</td>\n",
              "      <td>Newton</td>\n",
              "      <td>1324</td>\n",
              "      <td>OTHER MISCELLANEOUS CRIME</td>\n",
              "      <td>0344</td>\n",
              "      <td>0</td>\n",
              "      <td>M</td>\n",
              "      <td>H</td>\n",
              "      <td>ALLEY</td>\n",
              "      <td>NA</td>\n",
              "      <td>Invest Cont</td>\n",
              "      <td>946.0</td>\n",
              "      <td>1300 E  21ST                         ST</td>\n",
              "      <td>NA</td>\n",
              "      <td>34.0224</td>\n",
              "      <td>-118.2524</td>\n",
              "    </tr>\n",
              "    <tr>\n",
              "      <th>90631215</th>\n",
              "      <td>01/05/2010</td>\n",
              "      <td>150</td>\n",
              "      <td>6.0</td>\n",
              "      <td>Hollywood</td>\n",
              "      <td>646</td>\n",
              "      <td>VIOLATION OF COURT ORDER</td>\n",
              "      <td>1100 0400 1402</td>\n",
              "      <td>47</td>\n",
              "      <td>F</td>\n",
              "      <td>W</td>\n",
              "      <td>STREET</td>\n",
              "      <td>HAND GUN</td>\n",
              "      <td>Invest Cont</td>\n",
              "      <td>900.0</td>\n",
              "      <td>CAHUENGA                     BL</td>\n",
              "      <td>HOLLYWOOD                    BL</td>\n",
              "      <td>34.1016</td>\n",
              "      <td>-118.3295</td>\n",
              "    </tr>\n",
              "    <tr>\n",
              "      <th>100100501</th>\n",
              "      <td>01/02/2010</td>\n",
              "      <td>2100</td>\n",
              "      <td>1.0</td>\n",
              "      <td>Central</td>\n",
              "      <td>176</td>\n",
              "      <td>RAPE, ATTEMPTED</td>\n",
              "      <td>0400</td>\n",
              "      <td>47</td>\n",
              "      <td>F</td>\n",
              "      <td>H</td>\n",
              "      <td>ALLEY</td>\n",
              "      <td>STRONG-ARM (HANDS, FIST, FEET OR BODILY FORCE)</td>\n",
              "      <td>Invest Cont</td>\n",
              "      <td>122.0</td>\n",
              "      <td>8TH                          ST</td>\n",
              "      <td>SAN PEDRO                    ST</td>\n",
              "      <td>34.0387</td>\n",
              "      <td>-118.2488</td>\n",
              "    </tr>\n",
              "  </tbody>\n",
              "</table>\n",
              "</div>\n",
              "    <div class=\"colab-df-buttons\">\n",
              "\n",
              "  <div class=\"colab-df-container\">\n",
              "    <button class=\"colab-df-convert\" onclick=\"convertToInteractive('df-d6a8c4d8-1ef0-4bd4-929c-52ee40e45247')\"\n",
              "            title=\"Convert this dataframe to an interactive table.\"\n",
              "            style=\"display:none;\">\n",
              "\n",
              "  <svg xmlns=\"http://www.w3.org/2000/svg\" height=\"24px\" viewBox=\"0 -960 960 960\">\n",
              "    <path d=\"M120-120v-720h720v720H120Zm60-500h600v-160H180v160Zm220 220h160v-160H400v160Zm0 220h160v-160H400v160ZM180-400h160v-160H180v160Zm440 0h160v-160H620v160ZM180-180h160v-160H180v160Zm440 0h160v-160H620v160Z\"/>\n",
              "  </svg>\n",
              "    </button>\n",
              "\n",
              "  <style>\n",
              "    .colab-df-container {\n",
              "      display:flex;\n",
              "      gap: 12px;\n",
              "    }\n",
              "\n",
              "    .colab-df-convert {\n",
              "      background-color: #E8F0FE;\n",
              "      border: none;\n",
              "      border-radius: 50%;\n",
              "      cursor: pointer;\n",
              "      display: none;\n",
              "      fill: #1967D2;\n",
              "      height: 32px;\n",
              "      padding: 0 0 0 0;\n",
              "      width: 32px;\n",
              "    }\n",
              "\n",
              "    .colab-df-convert:hover {\n",
              "      background-color: #E2EBFA;\n",
              "      box-shadow: 0px 1px 2px rgba(60, 64, 67, 0.3), 0px 1px 3px 1px rgba(60, 64, 67, 0.15);\n",
              "      fill: #174EA6;\n",
              "    }\n",
              "\n",
              "    .colab-df-buttons div {\n",
              "      margin-bottom: 4px;\n",
              "    }\n",
              "\n",
              "    [theme=dark] .colab-df-convert {\n",
              "      background-color: #3B4455;\n",
              "      fill: #D2E3FC;\n",
              "    }\n",
              "\n",
              "    [theme=dark] .colab-df-convert:hover {\n",
              "      background-color: #434B5C;\n",
              "      box-shadow: 0px 1px 3px 1px rgba(0, 0, 0, 0.15);\n",
              "      filter: drop-shadow(0px 1px 2px rgba(0, 0, 0, 0.3));\n",
              "      fill: #FFFFFF;\n",
              "    }\n",
              "  </style>\n",
              "\n",
              "    <script>\n",
              "      const buttonEl =\n",
              "        document.querySelector('#df-d6a8c4d8-1ef0-4bd4-929c-52ee40e45247 button.colab-df-convert');\n",
              "      buttonEl.style.display =\n",
              "        google.colab.kernel.accessAllowed ? 'block' : 'none';\n",
              "\n",
              "      async function convertToInteractive(key) {\n",
              "        const element = document.querySelector('#df-d6a8c4d8-1ef0-4bd4-929c-52ee40e45247');\n",
              "        const dataTable =\n",
              "          await google.colab.kernel.invokeFunction('convertToInteractive',\n",
              "                                                    [key], {});\n",
              "        if (!dataTable) return;\n",
              "\n",
              "        const docLinkHtml = 'Like what you see? Visit the ' +\n",
              "          '<a target=\"_blank\" href=https://colab.research.google.com/notebooks/data_table.ipynb>data table notebook</a>'\n",
              "          + ' to learn more about interactive tables.';\n",
              "        element.innerHTML = '';\n",
              "        dataTable['output_type'] = 'display_data';\n",
              "        await google.colab.output.renderOutput(dataTable, element);\n",
              "        const docLink = document.createElement('div');\n",
              "        docLink.innerHTML = docLinkHtml;\n",
              "        element.appendChild(docLink);\n",
              "      }\n",
              "    </script>\n",
              "  </div>\n",
              "\n",
              "\n",
              "<div id=\"df-6d00808a-cc50-4e25-bc24-8145986f33bd\">\n",
              "  <button class=\"colab-df-quickchart\" onclick=\"quickchart('df-6d00808a-cc50-4e25-bc24-8145986f33bd')\"\n",
              "            title=\"Suggest charts\"\n",
              "            style=\"display:none;\">\n",
              "\n",
              "<svg xmlns=\"http://www.w3.org/2000/svg\" height=\"24px\"viewBox=\"0 0 24 24\"\n",
              "     width=\"24px\">\n",
              "    <g>\n",
              "        <path d=\"M19 3H5c-1.1 0-2 .9-2 2v14c0 1.1.9 2 2 2h14c1.1 0 2-.9 2-2V5c0-1.1-.9-2-2-2zM9 17H7v-7h2v7zm4 0h-2V7h2v10zm4 0h-2v-4h2v4z\"/>\n",
              "    </g>\n",
              "</svg>\n",
              "  </button>\n",
              "\n",
              "<style>\n",
              "  .colab-df-quickchart {\n",
              "      --bg-color: #E8F0FE;\n",
              "      --fill-color: #1967D2;\n",
              "      --hover-bg-color: #E2EBFA;\n",
              "      --hover-fill-color: #174EA6;\n",
              "      --disabled-fill-color: #AAA;\n",
              "      --disabled-bg-color: #DDD;\n",
              "  }\n",
              "\n",
              "  [theme=dark] .colab-df-quickchart {\n",
              "      --bg-color: #3B4455;\n",
              "      --fill-color: #D2E3FC;\n",
              "      --hover-bg-color: #434B5C;\n",
              "      --hover-fill-color: #FFFFFF;\n",
              "      --disabled-bg-color: #3B4455;\n",
              "      --disabled-fill-color: #666;\n",
              "  }\n",
              "\n",
              "  .colab-df-quickchart {\n",
              "    background-color: var(--bg-color);\n",
              "    border: none;\n",
              "    border-radius: 50%;\n",
              "    cursor: pointer;\n",
              "    display: none;\n",
              "    fill: var(--fill-color);\n",
              "    height: 32px;\n",
              "    padding: 0;\n",
              "    width: 32px;\n",
              "  }\n",
              "\n",
              "  .colab-df-quickchart:hover {\n",
              "    background-color: var(--hover-bg-color);\n",
              "    box-shadow: 0 1px 2px rgba(60, 64, 67, 0.3), 0 1px 3px 1px rgba(60, 64, 67, 0.15);\n",
              "    fill: var(--button-hover-fill-color);\n",
              "  }\n",
              "\n",
              "  .colab-df-quickchart-complete:disabled,\n",
              "  .colab-df-quickchart-complete:disabled:hover {\n",
              "    background-color: var(--disabled-bg-color);\n",
              "    fill: var(--disabled-fill-color);\n",
              "    box-shadow: none;\n",
              "  }\n",
              "\n",
              "  .colab-df-spinner {\n",
              "    border: 2px solid var(--fill-color);\n",
              "    border-color: transparent;\n",
              "    border-bottom-color: var(--fill-color);\n",
              "    animation:\n",
              "      spin 1s steps(1) infinite;\n",
              "  }\n",
              "\n",
              "  @keyframes spin {\n",
              "    0% {\n",
              "      border-color: transparent;\n",
              "      border-bottom-color: var(--fill-color);\n",
              "      border-left-color: var(--fill-color);\n",
              "    }\n",
              "    20% {\n",
              "      border-color: transparent;\n",
              "      border-left-color: var(--fill-color);\n",
              "      border-top-color: var(--fill-color);\n",
              "    }\n",
              "    30% {\n",
              "      border-color: transparent;\n",
              "      border-left-color: var(--fill-color);\n",
              "      border-top-color: var(--fill-color);\n",
              "      border-right-color: var(--fill-color);\n",
              "    }\n",
              "    40% {\n",
              "      border-color: transparent;\n",
              "      border-right-color: var(--fill-color);\n",
              "      border-top-color: var(--fill-color);\n",
              "    }\n",
              "    60% {\n",
              "      border-color: transparent;\n",
              "      border-right-color: var(--fill-color);\n",
              "    }\n",
              "    80% {\n",
              "      border-color: transparent;\n",
              "      border-right-color: var(--fill-color);\n",
              "      border-bottom-color: var(--fill-color);\n",
              "    }\n",
              "    90% {\n",
              "      border-color: transparent;\n",
              "      border-bottom-color: var(--fill-color);\n",
              "    }\n",
              "  }\n",
              "</style>\n",
              "\n",
              "  <script>\n",
              "    async function quickchart(key) {\n",
              "      const quickchartButtonEl =\n",
              "        document.querySelector('#' + key + ' button');\n",
              "      quickchartButtonEl.disabled = true;  // To prevent multiple clicks.\n",
              "      quickchartButtonEl.classList.add('colab-df-spinner');\n",
              "      try {\n",
              "        const charts = await google.colab.kernel.invokeFunction(\n",
              "            'suggestCharts', [key], {});\n",
              "      } catch (error) {\n",
              "        console.error('Error during call to suggestCharts:', error);\n",
              "      }\n",
              "      quickchartButtonEl.classList.remove('colab-df-spinner');\n",
              "      quickchartButtonEl.classList.add('colab-df-quickchart-complete');\n",
              "    }\n",
              "    (() => {\n",
              "      let quickchartButtonEl =\n",
              "        document.querySelector('#df-6d00808a-cc50-4e25-bc24-8145986f33bd button');\n",
              "      quickchartButtonEl.style.display =\n",
              "        google.colab.kernel.accessAllowed ? 'block' : 'none';\n",
              "    })();\n",
              "  </script>\n",
              "</div>\n",
              "\n",
              "    </div>\n",
              "  </div>\n"
            ]
          },
          "metadata": {},
          "execution_count": 22
        }
      ]
    },
    {
      "cell_type": "code",
      "source": [],
      "metadata": {
        "id": "XTnxQRbFOAtt"
      },
      "execution_count": null,
      "outputs": []
    },
    {
      "cell_type": "markdown",
      "source": [
        "## Sección 2: Estimados de Locación y Variabilidad"
      ],
      "metadata": {
        "id": "-zfOOQzsyXqh"
      }
    },
    {
      "cell_type": "markdown",
      "source": [
        "Medidas de tendencia central"
      ],
      "metadata": {
        "id": "CVCWJ0WFZRGD"
      }
    },
    {
      "cell_type": "code",
      "source": [
        "#edad de las víctimas, Vamos a analizar la columna \"age\" . Veamos cuál es el \"valor típico\" obtenido usando la media (promedio)\n",
        "crimenes_reportados['age'].mean()"
      ],
      "metadata": {
        "id": "_5UlmHx7zNZo",
        "colab": {
          "base_uri": "https://localhost:8080/"
        },
        "outputId": "13aa8ae0-aa76-4c69-92b6-d4098555545e"
      },
      "execution_count": null,
      "outputs": [
        {
          "output_type": "execute_result",
          "data": {
            "text/plain": [
              "31.14550283904801"
            ]
          },
          "metadata": {},
          "execution_count": 23
        }
      ]
    },
    {
      "cell_type": "code",
      "source": [
        "#Ahora veamos el \"valor típico\" obtenido usando la mediana\n",
        "crimenes_reportados['age'].median()"
      ],
      "metadata": {
        "id": "4TRNwtlpZYsr",
        "colab": {
          "base_uri": "https://localhost:8080/"
        },
        "outputId": "b9a7e9f9-a9c7-42e8-b543-a38625a1ec70"
      },
      "execution_count": null,
      "outputs": [
        {
          "output_type": "execute_result",
          "data": {
            "text/plain": [
              "31.0"
            ]
          },
          "metadata": {},
          "execution_count": 24
        }
      ]
    },
    {
      "cell_type": "code",
      "source": [
        "#Utilizando la media truncada para descartar la medición generada por valores atípicos, para un 2%\n",
        "from scipy import stats\n",
        "stats.trim_mean(crimenes_reportados['age'], 0.1)"
      ],
      "metadata": {
        "id": "KESQRmDBZeup",
        "colab": {
          "base_uri": "https://localhost:8080/"
        },
        "outputId": "b817632c-9f74-4bbd-9351-2a533beace65"
      },
      "execution_count": null,
      "outputs": [
        {
          "output_type": "execute_result",
          "data": {
            "text/plain": [
              "30.468024388380066"
            ]
          },
          "metadata": {},
          "execution_count": 25
        }
      ]
    },
    {
      "cell_type": "code",
      "source": [
        "#podemos observar que la distancia entre la media truncada y la mediana es menor y que la distancia entre el promedio y la mediana.\n",
        "#Esto podría ser indicador de que tenemos valores atípicos en nuestro conjunto como más adelnate se verá."
      ],
      "metadata": {
        "id": "zxG7pawsZi4P"
      },
      "execution_count": null,
      "outputs": []
    },
    {
      "cell_type": "markdown",
      "source": [
        "Medidas de dispersión y estadísticos de orden"
      ],
      "metadata": {
        "id": "DLMkMvLZZsmO"
      }
    },
    {
      "cell_type": "code",
      "source": [
        "#Ahora con la desviación estándar\n",
        "crimenes_reportados['age'].std()"
      ],
      "metadata": {
        "id": "dJTAmZm0Ztga",
        "colab": {
          "base_uri": "https://localhost:8080/"
        },
        "outputId": "735b5010-9769-4926-d1e0-dd6f2139289f"
      },
      "execution_count": null,
      "outputs": [
        {
          "output_type": "execute_result",
          "data": {
            "text/plain": [
              "21.03119002137814"
            ]
          },
          "metadata": {},
          "execution_count": 29
        }
      ]
    },
    {
      "cell_type": "code",
      "source": [
        "#entre menor sea el resultado quiere decir que nuestros datos están menos dispersos\n",
        "#y están más cerca de nuestro valor típico."
      ],
      "metadata": {
        "id": "M2MXu5nkZwx5"
      },
      "execution_count": null,
      "outputs": []
    },
    {
      "cell_type": "code",
      "source": [
        "#Rango\n",
        "crimenes_reportados['age'].max() - crimenes_reportados['age'].min()"
      ],
      "metadata": {
        "id": "P-0b_SQWZyn6",
        "colab": {
          "base_uri": "https://localhost:8080/"
        },
        "outputId": "bfcbf1c2-4365-4d0b-ada0-07242fcebb34"
      },
      "execution_count": null,
      "outputs": [
        {
          "output_type": "execute_result",
          "data": {
            "text/plain": [
              "132"
            ]
          },
          "metadata": {},
          "execution_count": 31
        }
      ]
    },
    {
      "cell_type": "code",
      "source": [
        "print(f'Valor mínimo: {crimenes_reportados[\"age\"].min()}')\n",
        "print(f'Percentil 10: {crimenes_reportados[\"age\"].quantile(0.1)}')\n",
        "print(f'Percentil 25: {crimenes_reportados[\"age\"].quantile(0.25)}')\n",
        "print(f'Percentil 50: {crimenes_reportados[\"age\"].median()}')\n",
        "print(f'Percentil 75: {crimenes_reportados[\"age\"].quantile(0.75)}')\n",
        "print(f'Percentil 90: {crimenes_reportados[\"age\"].quantile(0.9)}')\n",
        "print(f'Valor máximo: {crimenes_reportados[\"age\"].max()}')"
      ],
      "metadata": {
        "id": "UF4OPtNjZ3-s",
        "colab": {
          "base_uri": "https://localhost:8080/"
        },
        "outputId": "3a9310ed-a565-4fcb-d108-074583bb8cdd"
      },
      "execution_count": null,
      "outputs": [
        {
          "output_type": "stream",
          "name": "stdout",
          "text": [
            "Valor mínimo: -12\n",
            "Percentil 10: 0.0\n",
            "Percentil 25: 19.0\n",
            "Percentil 50: 31.0\n",
            "Percentil 75: 46.0\n",
            "Percentil 90: 59.0\n",
            "Valor máximo: 120\n"
          ]
        }
      ]
    },
    {
      "cell_type": "code",
      "source": [
        "#Viendo estos se puede inferir que:\n",
        "\n",
        "#En este caso, el 25% de los valores en nuestro conjunto de datos tienen un valor menor o igual a 19\n",
        "#El 75% de los valores de edad tienen un valor menor o igual a 46\n",
        "#El 90% de los valores tienen un valor menor o igual a 59 y casi todos nuestros datos están concentrados aquí\n",
        "#Tenemos algunos valores atípicos demasiado raros pues el 10% de las edades se concentra en 0.\n",
        "#El promedio tenía un sesgo hacia abajo debido a los valores altos de edad.\n",
        "#El rango entre el valor máximo y mínimo no nos da una medida representativa de qué valores pueden tomar nuestros datos."
      ],
      "metadata": {
        "id": "kVSGkaraZ7TF"
      },
      "execution_count": null,
      "outputs": []
    },
    {
      "cell_type": "code",
      "source": [
        "#Si queremos obtener un valor que nos brinde mayor certeza para los valores típicos, empleamos\n",
        "#el rango intercuartílico:\n",
        "crimenes_reportados[\"age\"].quantile(0.75) - crimenes_reportados[\"age\"].quantile(0.25)"
      ],
      "metadata": {
        "id": "thB-boVOZ_Gj",
        "colab": {
          "base_uri": "https://localhost:8080/"
        },
        "outputId": "328d051e-1746-46f7-d177-5cb60e8ea6c6"
      },
      "execution_count": null,
      "outputs": [
        {
          "output_type": "execute_result",
          "data": {
            "text/plain": [
              "27.0"
            ]
          },
          "metadata": {},
          "execution_count": 34
        }
      ]
    },
    {
      "cell_type": "code",
      "source": [],
      "metadata": {
        "id": "DqgIpn9OZ9JF"
      },
      "execution_count": null,
      "outputs": []
    },
    {
      "cell_type": "markdown",
      "source": [
        "## Sección 3: Introducción a la Visualización de Datos: Distribuciones"
      ],
      "metadata": {
        "id": "ObhuIJ6LzNwF"
      }
    },
    {
      "cell_type": "code",
      "source": [
        "#Total de reportes entre el año 2010 y 2023\n",
        "print(f'El total de crimenes reportados en Los Angeles entre los años 2010 y 2023 es de {len(crimenes_reportados)}')"
      ],
      "metadata": {
        "id": "2pzxjMaUzaqY",
        "colab": {
          "base_uri": "https://localhost:8080/"
        },
        "outputId": "12fd4ba7-1515-45c8-e6b6-78d060155e6d"
      },
      "execution_count": null,
      "outputs": [
        {
          "output_type": "stream",
          "name": "stdout",
          "text": [
            "El total de crimenes reportados en Los Angeles entre los años 2010 y 2023 es de 2993433\n"
          ]
        }
      ]
    },
    {
      "cell_type": "code",
      "source": [
        "#Realizamos un boxplot para poder tener una mejor visualización de los datos atipicos, como se puede observar\n",
        "#un valor atípico seria el 120, esto podría ser un error en el reporte, habría que ver\n",
        "#las circunstancias para poder decifrar la validez de este dato. También, podemos observar una media de 30 años de edad.\n",
        "sns.set(style=\"whitegrid\")\n",
        "sns.boxplot(x=crimenes_reportados[\"age\"])\n",
        "plt.axvline(crimenes_reportados[\"age\"].mean(), c='y')\n",
        "ax = sns.boxplot(x=crimenes_reportados[\"age\"])\n",
        "ax.set(title=\"Distibución de las edades de las víctimas\", xlabel= \"Edades\", ylabel= \"Conteo\")\n",
        "\n",
        "##FALTA AGREGAR CURTOSIS Y ESO"
      ],
      "metadata": {
        "colab": {
          "base_uri": "https://localhost:8080/",
          "height": 532
        },
        "id": "P7Pi3P2vOVWD",
        "outputId": "bb6e0764-00c6-4d82-e797-080e6c7f5ddc"
      },
      "execution_count": null,
      "outputs": [
        {
          "output_type": "execute_result",
          "data": {
            "text/plain": [
              "[Text(0.5, 1.0, 'Distibución de las edades de las víctimas'),\n",
              " Text(0.5, 0, 'Edades'),\n",
              " Text(0, 0.5, 'Conteo')]"
            ]
          },
          "metadata": {},
          "execution_count": 27
        },
        {
          "output_type": "display_data",
          "data": {
            "text/plain": [
              "<Figure size 640x480 with 1 Axes>"
            ],
            "image/png": "[encoded data removed]"
          },
          "metadata": {}
        }
      ]
    },
    {
      "cell_type": "markdown",
      "source": [
        "Se puede observar que las edades de las victimas se concentran entre el rango entre el percentil 25 y el percentil 72, es decir entre los 19 y 46 años de edad, con una mediana de 31. También se puede observar valores atípicos como la edad 120.\n",
        "\n",
        "\n"
      ],
      "metadata": {
        "id": "lMtW9ngXB52L"
      }
    },
    {
      "cell_type": "code",
      "source": [
        "#Para nuestro análisis, no tomaremos en cuenta el 120.\n",
        "crimenes_reportados = crimenes_reportados[crimenes_reportados['age'] < 120 ]"
      ],
      "metadata": {
        "id": "iymwPgaSOgUP"
      },
      "execution_count": null,
      "outputs": []
    },
    {
      "cell_type": "code",
      "source": [
        "#Con el histograma, pudimos observar de manera más obvia el la cantidad de reportes en donde la edad parece ser 0\n",
        "#podría ser un error en la limpieza de los datos.\n",
        "sns.set(style=\"white\")\n",
        "sns.histplot(crimenes_reportados['age'])\n",
        "ax = sns.histplot(x=crimenes_reportados[\"age\"], bins=50)\n",
        "ax.set(title=\"Distibución de las edades de las víctimas\", xlabel= \"Edades\", ylabel= \"Conteo\")"
      ],
      "metadata": {
        "colab": {
          "base_uri": "https://localhost:8080/",
          "height": 532
        },
        "id": "CKaMyUo3O3Vh",
        "outputId": "2b1235ec-f87a-40a4-ead9-dd9e8e46b815"
      },
      "execution_count": null,
      "outputs": [
        {
          "output_type": "execute_result",
          "data": {
            "text/plain": [
              "[Text(0.5, 1.0, 'Distibución de las edades de las víctimas'),\n",
              " Text(0.5, 0, 'Edades'),\n",
              " Text(0, 0.5, 'Conteo')]"
            ]
          },
          "metadata": {},
          "execution_count": 29
        },
        {
          "output_type": "display_data",
          "data": {
            "text/plain": [
              "<Figure size 640x480 with 1 Axes>"
            ],
            "image/png": "[encoded data removed]"
          },
          "metadata": {}
        }
      ]
    },
    {
      "cell_type": "code",
      "source": [
        "#para fines de nuestro análisis, no tomaremos en cuenta los valores \"0\" ya que son un valor atípico\n",
        "#que no tiene mucho sentido en nuestro contexto.\n",
        "crimenes_reportados = crimenes_reportados[crimenes_reportados['age'] > 0 ]\n",
        "print(f'Curtosis: {kurtosis(crimenes_reportados[\"age\"])}')\n",
        "print(f'Asimetría: {skew(crimenes_reportados[\"age\"])}')"
      ],
      "metadata": {
        "colab": {
          "base_uri": "https://localhost:8080/"
        },
        "id": "HKQoVWM3O7ZZ",
        "outputId": "d5f524cf-610a-4d8f-e5ce-d64950a59860"
      },
      "execution_count": null,
      "outputs": [
        {
          "output_type": "stream",
          "name": "stdout",
          "text": [
            "Curtosis: -0.04583502711596932\n",
            "Asimetría: 0.5584633178721149\n"
          ]
        }
      ]
    },
    {
      "cell_type": "markdown",
      "source": [
        "El resultado de la curtosis es negativo, esto quiere decir que tiene colas más ligeras y un pico más suave en comparación con la distribución normal. Esto indica que los valores de los datos están menos concentrados alrededor de la media y hay más valores atípicos, en nuestro caso, esto puede ser influenciado por el valor 120 y los valores 0, ya que la mayor parte de nuestros datos como se puede observar, estan concentrados cerca de la media.\n",
        "\n",
        "Por otra parte, tenemos una asimetria positiva, indicando que la cola de nuestros datos esta hacia la derecha."
      ],
      "metadata": {
        "id": "USSRsrbjE5pz"
      }
    },
    {
      "cell_type": "code",
      "source": [
        "##Al no tomar en cuenta los datos atípicos, obtenemos una gráfica de densidad donde se puede observar de mejor manera\n",
        "por_sexo = crimenes_reportados.groupby(level=0)[['age']].mean()\n",
        "gender = crimenes_reportados.groupby(level=0)[['sex']].last()\n",
        "merged = por_sexo.merge(gender, left_index=True, right_index=True)\n",
        "hombres = por_sexo[merged['sex'] == 'M']\n",
        "mujeres = por_sexo[merged['sex'] == 'F']\n",
        "\n",
        "ax = sns.kdeplot(mujeres['age'], label=\"Mujeres\", fill=True, color=\"g\")\n",
        "sns.kdeplot(hombres['age'], label=\"Hombres\", ax=ax, fill=True)\n",
        "ax.set_title(\"Edad de las victimas en base a su sexo\", size=15)\n",
        "ax.set(xlabel=\"edad\")\n",
        "ax.legend(loc=\"upper right\")"
      ],
      "metadata": {
        "id": "hQVaykC1PAKZ",
        "colab": {
          "base_uri": "https://localhost:8080/",
          "height": 499
        },
        "outputId": "47fb5c23-440b-47de-e596-89d4d9f7e410"
      },
      "execution_count": null,
      "outputs": [
        {
          "output_type": "execute_result",
          "data": {
            "text/plain": [
              "<matplotlib.legend.Legend at 0x7cfd68f7eb60>"
            ]
          },
          "metadata": {},
          "execution_count": 31
        },
        {
          "output_type": "display_data",
          "data": {
            "text/plain": [
              "<Figure size 640x480 with 1 Axes>"
            ],
            "image/png": "[encoded data removed]"
          },
          "metadata": {}
        }
      ]
    },
    {
      "cell_type": "markdown",
      "source": [
        "Ya que eliminamos nuestros valores atípicos, obtenemos una grafica de densidad donde podemos observar que hay más incidencias en reportes por parte de mujeres jovenes."
      ],
      "metadata": {
        "id": "Y6T_ty5oPQ0t"
      }
    },
    {
      "cell_type": "markdown",
      "source": [
        "## Sección 4: Exploración de Variables Categóricas y Análisis Multivariable"
      ],
      "metadata": {
        "id": "GH1k4rngzbKP"
      }
    },
    {
      "cell_type": "code",
      "source": [
        "sns.violinplot(x=crimenes_reportados[\"age\"], inner=\"quart\")\n",
        "ax = sns.violinplot(x=crimenes_reportados[\"age\"])\n",
        "ax.set(title=\"Distibución de las edades de las víctimas\", xlabel= \"edad\", ylabel= \"conteo\")"
      ],
      "metadata": {
        "id": "J6N92ovFzwrW",
        "colab": {
          "base_uri": "https://localhost:8080/",
          "height": 532
        },
        "outputId": "2aa59255-3138-47c9-e6a9-1c0d97d32777"
      },
      "execution_count": null,
      "outputs": [
        {
          "output_type": "execute_result",
          "data": {
            "text/plain": [
              "[Text(0.5, 1.0, 'Distibución de las edades de las víctimas'),\n",
              " Text(0.5, 0, 'edad'),\n",
              " Text(0, 0.5, 'conteo')]"
            ]
          },
          "metadata": {},
          "execution_count": 33
        },
        {
          "output_type": "display_data",
          "data": {
            "text/plain": [
              "<Figure size 640x480 with 1 Axes>"
            ],
            "image/png": "[encoded data removed]"
          },
          "metadata": {}
        }
      ]
    },
    {
      "cell_type": "markdown",
      "source": [
        "Aqui se puede observar de mejor manera la concentración de edades en los reportes, estas serían entre 30-40. Sin embargo, no se tiene una buena visualización de datos atípicos.\n"
      ],
      "metadata": {
        "id": "g2L6OsgnSnYS"
      }
    },
    {
      "cell_type": "code",
      "source": [
        "#Como queremos hacer una comparativa del total de reportes por año, separamos la fecha en tres columnas diferentes\n",
        "#una de día, otra de mes y por ultimo, una de año.\n",
        "crimenes_reportados['date occured'].str.split('/')"
      ],
      "metadata": {
        "id": "Per9X_upPYQ9",
        "colab": {
          "base_uri": "https://localhost:8080/"
        },
        "outputId": "9c9c93fb-0f43-4644-d3de-ee9338e4c2b6"
      },
      "execution_count": null,
      "outputs": [
        {
          "output_type": "execute_result",
          "data": {
            "text/plain": [
              "DR_NO\n",
              "1307355      [02, 20, 2010]\n",
              "90631215     [01, 05, 2010]\n",
              "100100501    [01, 02, 2010]\n",
              "100100506    [01, 04, 2010]\n",
              "100100508    [01, 07, 2010]\n",
              "                  ...      \n",
              "231606525    [03, 22, 2023]\n",
              "231210064    [04, 12, 2023]\n",
              "230115220    [07, 01, 2023]\n",
              "230906458    [03, 05, 2023]\n",
              "230319786    [11, 09, 2023]\n",
              "Name: date occured, Length: 2402488, dtype: object"
            ]
          },
          "metadata": {},
          "execution_count": 43
        }
      ]
    },
    {
      "cell_type": "code",
      "source": [
        "fecha_ocurrida_2 = crimenes_reportados['date occured'].str.split('/', expand=True)\n",
        "fecha_ocurrida_2.head()"
      ],
      "metadata": {
        "id": "bdZ3guwAPZau",
        "colab": {
          "base_uri": "https://localhost:8080/",
          "height": 238
        },
        "outputId": "7dbd1b92-cc6e-4602-da75-4d5495cbdd76"
      },
      "execution_count": null,
      "outputs": [
        {
          "output_type": "execute_result",
          "data": {
            "text/plain": [
              "            0   1     2\n",
              "DR_NO                  \n",
              "1307355    02  20  2010\n",
              "90631215   01  05  2010\n",
              "100100501  01  02  2010\n",
              "100100506  01  04  2010\n",
              "100100508  01  07  2010"
            ],
            "text/html": [
              "\n",
              "  <div id=\"df-3f77f770-0d37-4291-9e15-870bfcc13fc2\" class=\"colab-df-container\">\n",
              "    <div>\n",
              "<style scoped>\n",
              "    .dataframe tbody tr th:only-of-type {\n",
              "        vertical-align: middle;\n",
              "    }\n",
              "\n",
              "    .dataframe tbody tr th {\n",
              "        vertical-align: top;\n",
              "    }\n",
              "\n",
              "    .dataframe thead th {\n",
              "        text-align: right;\n",
              "    }\n",
              "</style>\n",
              "<table border=\"1\" class=\"dataframe\">\n",
              "  <thead>\n",
              "    <tr style=\"text-align: right;\">\n",
              "      <th></th>\n",
              "      <th>0</th>\n",
              "      <th>1</th>\n",
              "      <th>2</th>\n",
              "    </tr>\n",
              "    <tr>\n",
              "      <th>DR_NO</th>\n",
              "      <th></th>\n",
              "      <th></th>\n",
              "      <th></th>\n",
              "    </tr>\n",
              "  </thead>\n",
              "  <tbody>\n",
              "    <tr>\n",
              "      <th>1307355</th>\n",
              "      <td>02</td>\n",
              "      <td>20</td>\n",
              "      <td>2010</td>\n",
              "    </tr>\n",
              "    <tr>\n",
              "      <th>90631215</th>\n",
              "      <td>01</td>\n",
              "      <td>05</td>\n",
              "      <td>2010</td>\n",
              "    </tr>\n",
              "    <tr>\n",
              "      <th>100100501</th>\n",
              "      <td>01</td>\n",
              "      <td>02</td>\n",
              "      <td>2010</td>\n",
              "    </tr>\n",
              "    <tr>\n",
              "      <th>100100506</th>\n",
              "      <td>01</td>\n",
              "      <td>04</td>\n",
              "      <td>2010</td>\n",
              "    </tr>\n",
              "    <tr>\n",
              "      <th>100100508</th>\n",
              "      <td>01</td>\n",
              "      <td>07</td>\n",
              "      <td>2010</td>\n",
              "    </tr>\n",
              "  </tbody>\n",
              "</table>\n",
              "</div>\n",
              "    <div class=\"colab-df-buttons\">\n",
              "\n",
              "  <div class=\"colab-df-container\">\n",
              "    <button class=\"colab-df-convert\" onclick=\"convertToInteractive('df-3f77f770-0d37-4291-9e15-870bfcc13fc2')\"\n",
              "            title=\"Convert this dataframe to an interactive table.\"\n",
              "            style=\"display:none;\">\n",
              "\n",
              "  <svg xmlns=\"http://www.w3.org/2000/svg\" height=\"24px\" viewBox=\"0 -960 960 960\">\n",
              "    <path d=\"M120-120v-720h720v720H120Zm60-500h600v-160H180v160Zm220 220h160v-160H400v160Zm0 220h160v-160H400v160ZM180-400h160v-160H180v160Zm440 0h160v-160H620v160ZM180-180h160v-160H180v160Zm440 0h160v-160H620v160Z\"/>\n",
              "  </svg>\n",
              "    </button>\n",
              "\n",
              "  <style>\n",
              "    .colab-df-container {\n",
              "      display:flex;\n",
              "      gap: 12px;\n",
              "    }\n",
              "\n",
              "    .colab-df-convert {\n",
              "      background-color: #E8F0FE;\n",
              "      border: none;\n",
              "      border-radius: 50%;\n",
              "      cursor: pointer;\n",
              "      display: none;\n",
              "      fill: #1967D2;\n",
              "      height: 32px;\n",
              "      padding: 0 0 0 0;\n",
              "      width: 32px;\n",
              "    }\n",
              "\n",
              "    .colab-df-convert:hover {\n",
              "      background-color: #E2EBFA;\n",
              "      box-shadow: 0px 1px 2px rgba(60, 64, 67, 0.3), 0px 1px 3px 1px rgba(60, 64, 67, 0.15);\n",
              "      fill: #174EA6;\n",
              "    }\n",
              "\n",
              "    .colab-df-buttons div {\n",
              "      margin-bottom: 4px;\n",
              "    }\n",
              "\n",
              "    [theme=dark] .colab-df-convert {\n",
              "      background-color: #3B4455;\n",
              "      fill: #D2E3FC;\n",
              "    }\n",
              "\n",
              "    [theme=dark] .colab-df-convert:hover {\n",
              "      background-color: #434B5C;\n",
              "      box-shadow: 0px 1px 3px 1px rgba(0, 0, 0, 0.15);\n",
              "      filter: drop-shadow(0px 1px 2px rgba(0, 0, 0, 0.3));\n",
              "      fill: #FFFFFF;\n",
              "    }\n",
              "  </style>\n",
              "\n",
              "    <script>\n",
              "      const buttonEl =\n",
              "        document.querySelector('#df-3f77f770-0d37-4291-9e15-870bfcc13fc2 button.colab-df-convert');\n",
              "      buttonEl.style.display =\n",
              "        google.colab.kernel.accessAllowed ? 'block' : 'none';\n",
              "\n",
              "      async function convertToInteractive(key) {\n",
              "        const element = document.querySelector('#df-3f77f770-0d37-4291-9e15-870bfcc13fc2');\n",
              "        const dataTable =\n",
              "          await google.colab.kernel.invokeFunction('convertToInteractive',\n",
              "                                                    [key], {});\n",
              "        if (!dataTable) return;\n",
              "\n",
              "        const docLinkHtml = 'Like what you see? Visit the ' +\n",
              "          '<a target=\"_blank\" href=https://colab.research.google.com/notebooks/data_table.ipynb>data table notebook</a>'\n",
              "          + ' to learn more about interactive tables.';\n",
              "        element.innerHTML = '';\n",
              "        dataTable['output_type'] = 'display_data';\n",
              "        await google.colab.output.renderOutput(dataTable, element);\n",
              "        const docLink = document.createElement('div');\n",
              "        docLink.innerHTML = docLinkHtml;\n",
              "        element.appendChild(docLink);\n",
              "      }\n",
              "    </script>\n",
              "  </div>\n",
              "\n",
              "\n",
              "<div id=\"df-1ab03187-5bae-401f-81a1-987f98554e65\">\n",
              "  <button class=\"colab-df-quickchart\" onclick=\"quickchart('df-1ab03187-5bae-401f-81a1-987f98554e65')\"\n",
              "            title=\"Suggest charts\"\n",
              "            style=\"display:none;\">\n",
              "\n",
              "<svg xmlns=\"http://www.w3.org/2000/svg\" height=\"24px\"viewBox=\"0 0 24 24\"\n",
              "     width=\"24px\">\n",
              "    <g>\n",
              "        <path d=\"M19 3H5c-1.1 0-2 .9-2 2v14c0 1.1.9 2 2 2h14c1.1 0 2-.9 2-2V5c0-1.1-.9-2-2-2zM9 17H7v-7h2v7zm4 0h-2V7h2v10zm4 0h-2v-4h2v4z\"/>\n",
              "    </g>\n",
              "</svg>\n",
              "  </button>\n",
              "\n",
              "<style>\n",
              "  .colab-df-quickchart {\n",
              "      --bg-color: #E8F0FE;\n",
              "      --fill-color: #1967D2;\n",
              "      --hover-bg-color: #E2EBFA;\n",
              "      --hover-fill-color: #174EA6;\n",
              "      --disabled-fill-color: #AAA;\n",
              "      --disabled-bg-color: #DDD;\n",
              "  }\n",
              "\n",
              "  [theme=dark] .colab-df-quickchart {\n",
              "      --bg-color: #3B4455;\n",
              "      --fill-color: #D2E3FC;\n",
              "      --hover-bg-color: #434B5C;\n",
              "      --hover-fill-color: #FFFFFF;\n",
              "      --disabled-bg-color: #3B4455;\n",
              "      --disabled-fill-color: #666;\n",
              "  }\n",
              "\n",
              "  .colab-df-quickchart {\n",
              "    background-color: var(--bg-color);\n",
              "    border: none;\n",
              "    border-radius: 50%;\n",
              "    cursor: pointer;\n",
              "    display: none;\n",
              "    fill: var(--fill-color);\n",
              "    height: 32px;\n",
              "    padding: 0;\n",
              "    width: 32px;\n",
              "  }\n",
              "\n",
              "  .colab-df-quickchart:hover {\n",
              "    background-color: var(--hover-bg-color);\n",
              "    box-shadow: 0 1px 2px rgba(60, 64, 67, 0.3), 0 1px 3px 1px rgba(60, 64, 67, 0.15);\n",
              "    fill: var(--button-hover-fill-color);\n",
              "  }\n",
              "\n",
              "  .colab-df-quickchart-complete:disabled,\n",
              "  .colab-df-quickchart-complete:disabled:hover {\n",
              "    background-color: var(--disabled-bg-color);\n",
              "    fill: var(--disabled-fill-color);\n",
              "    box-shadow: none;\n",
              "  }\n",
              "\n",
              "  .colab-df-spinner {\n",
              "    border: 2px solid var(--fill-color);\n",
              "    border-color: transparent;\n",
              "    border-bottom-color: var(--fill-color);\n",
              "    animation:\n",
              "      spin 1s steps(1) infinite;\n",
              "  }\n",
              "\n",
              "  @keyframes spin {\n",
              "    0% {\n",
              "      border-color: transparent;\n",
              "      border-bottom-color: var(--fill-color);\n",
              "      border-left-color: var(--fill-color);\n",
              "    }\n",
              "    20% {\n",
              "      border-color: transparent;\n",
              "      border-left-color: var(--fill-color);\n",
              "      border-top-color: var(--fill-color);\n",
              "    }\n",
              "    30% {\n",
              "      border-color: transparent;\n",
              "      border-left-color: var(--fill-color);\n",
              "      border-top-color: var(--fill-color);\n",
              "      border-right-color: var(--fill-color);\n",
              "    }\n",
              "    40% {\n",
              "      border-color: transparent;\n",
              "      border-right-color: var(--fill-color);\n",
              "      border-top-color: var(--fill-color);\n",
              "    }\n",
              "    60% {\n",
              "      border-color: transparent;\n",
              "      border-right-color: var(--fill-color);\n",
              "    }\n",
              "    80% {\n",
              "      border-color: transparent;\n",
              "      border-right-color: var(--fill-color);\n",
              "      border-bottom-color: var(--fill-color);\n",
              "    }\n",
              "    90% {\n",
              "      border-color: transparent;\n",
              "      border-bottom-color: var(--fill-color);\n",
              "    }\n",
              "  }\n",
              "</style>\n",
              "\n",
              "  <script>\n",
              "    async function quickchart(key) {\n",
              "      const quickchartButtonEl =\n",
              "        document.querySelector('#' + key + ' button');\n",
              "      quickchartButtonEl.disabled = true;  // To prevent multiple clicks.\n",
              "      quickchartButtonEl.classList.add('colab-df-spinner');\n",
              "      try {\n",
              "        const charts = await google.colab.kernel.invokeFunction(\n",
              "            'suggestCharts', [key], {});\n",
              "      } catch (error) {\n",
              "        console.error('Error during call to suggestCharts:', error);\n",
              "      }\n",
              "      quickchartButtonEl.classList.remove('colab-df-spinner');\n",
              "      quickchartButtonEl.classList.add('colab-df-quickchart-complete');\n",
              "    }\n",
              "    (() => {\n",
              "      let quickchartButtonEl =\n",
              "        document.querySelector('#df-1ab03187-5bae-401f-81a1-987f98554e65 button');\n",
              "      quickchartButtonEl.style.display =\n",
              "        google.colab.kernel.accessAllowed ? 'block' : 'none';\n",
              "    })();\n",
              "  </script>\n",
              "</div>\n",
              "\n",
              "    </div>\n",
              "  </div>\n"
            ]
          },
          "metadata": {},
          "execution_count": 44
        }
      ]
    },
    {
      "cell_type": "code",
      "source": [
        "#como tenían tipo de dato object, lo cambiamos a int para poder manipular los datos.\n",
        "fecha_ocurrida_2.columns = ['mes', 'día', 'año']\n",
        "fecha_ocurrida_2['año']= fecha_ocurrida_2['año'].astype(int)\n",
        "fecha_ocurrida_2['día']= fecha_ocurrida_2['día'].astype(int)\n",
        "fecha_ocurrida_2['mes']= fecha_ocurrida_2['mes'].astype(int)"
      ],
      "metadata": {
        "id": "PNMl8UjZPbZ0"
      },
      "execution_count": null,
      "outputs": []
    },
    {
      "cell_type": "code",
      "source": [
        "fecha_ocurrida_2.dtypes"
      ],
      "metadata": {
        "id": "OwR072EUPdyP",
        "colab": {
          "base_uri": "https://localhost:8080/"
        },
        "outputId": "8ffaa518-b321-4bcd-b67b-a0d44f742646"
      },
      "execution_count": null,
      "outputs": [
        {
          "output_type": "execute_result",
          "data": {
            "text/plain": [
              "mes    int64\n",
              "día    int64\n",
              "año    int64\n",
              "dtype: object"
            ]
          },
          "metadata": {},
          "execution_count": 46
        }
      ]
    },
    {
      "cell_type": "code",
      "source": [
        "#agrupamos por año para sacar el total de reportes al año\n",
        "años = fecha_ocurrida_2.groupby(['año']).count()\n",
        "años = años.reset_index()\n",
        "años = años.rename(columns = {'año' : 'date_year', 'mes' : 'total_delitos'})\n",
        "años = años.drop(columns= \"día\")\n",
        "\n",
        "años"
      ],
      "metadata": {
        "id": "wvLYdvpwPgKQ",
        "colab": {
          "base_uri": "https://localhost:8080/",
          "height": 488
        },
        "outputId": "b66a243b-fbc8-4deb-e341-5960247c06af"
      },
      "execution_count": null,
      "outputs": [
        {
          "output_type": "execute_result",
          "data": {
            "text/plain": [
              "    date_year  total_delitos\n",
              "0        2010         173721\n",
              "1        2011         168373\n",
              "2        2012         169083\n",
              "3        2013         161773\n",
              "4        2014         124455\n",
              "5        2015         179400\n",
              "6        2016         183887\n",
              "7        2017         187134\n",
              "8        2018         186938\n",
              "9        2019         177014\n",
              "10       2020         151186\n",
              "11       2021         205305\n",
              "12       2022         178488\n",
              "13       2023         155731"
            ],
            "text/html": [
              "\n",
              "  <div id=\"df-b434d109-2a79-43e2-9530-95e993c792f3\" class=\"colab-df-container\">\n",
              "    <div>\n",
              "<style scoped>\n",
              "    .dataframe tbody tr th:only-of-type {\n",
              "        vertical-align: middle;\n",
              "    }\n",
              "\n",
              "    .dataframe tbody tr th {\n",
              "        vertical-align: top;\n",
              "    }\n",
              "\n",
              "    .dataframe thead th {\n",
              "        text-align: right;\n",
              "    }\n",
              "</style>\n",
              "<table border=\"1\" class=\"dataframe\">\n",
              "  <thead>\n",
              "    <tr style=\"text-align: right;\">\n",
              "      <th></th>\n",
              "      <th>date_year</th>\n",
              "      <th>total_delitos</th>\n",
              "    </tr>\n",
              "  </thead>\n",
              "  <tbody>\n",
              "    <tr>\n",
              "      <th>0</th>\n",
              "      <td>2010</td>\n",
              "      <td>173721</td>\n",
              "    </tr>\n",
              "    <tr>\n",
              "      <th>1</th>\n",
              "      <td>2011</td>\n",
              "      <td>168373</td>\n",
              "    </tr>\n",
              "    <tr>\n",
              "      <th>2</th>\n",
              "      <td>2012</td>\n",
              "      <td>169083</td>\n",
              "    </tr>\n",
              "    <tr>\n",
              "      <th>3</th>\n",
              "      <td>2013</td>\n",
              "      <td>161773</td>\n",
              "    </tr>\n",
              "    <tr>\n",
              "      <th>4</th>\n",
              "      <td>2014</td>\n",
              "      <td>124455</td>\n",
              "    </tr>\n",
              "    <tr>\n",
              "      <th>5</th>\n",
              "      <td>2015</td>\n",
              "      <td>179400</td>\n",
              "    </tr>\n",
              "    <tr>\n",
              "      <th>6</th>\n",
              "      <td>2016</td>\n",
              "      <td>183887</td>\n",
              "    </tr>\n",
              "    <tr>\n",
              "      <th>7</th>\n",
              "      <td>2017</td>\n",
              "      <td>187134</td>\n",
              "    </tr>\n",
              "    <tr>\n",
              "      <th>8</th>\n",
              "      <td>2018</td>\n",
              "      <td>186938</td>\n",
              "    </tr>\n",
              "    <tr>\n",
              "      <th>9</th>\n",
              "      <td>2019</td>\n",
              "      <td>177014</td>\n",
              "    </tr>\n",
              "    <tr>\n",
              "      <th>10</th>\n",
              "      <td>2020</td>\n",
              "      <td>151186</td>\n",
              "    </tr>\n",
              "    <tr>\n",
              "      <th>11</th>\n",
              "      <td>2021</td>\n",
              "      <td>205305</td>\n",
              "    </tr>\n",
              "    <tr>\n",
              "      <th>12</th>\n",
              "      <td>2022</td>\n",
              "      <td>178488</td>\n",
              "    </tr>\n",
              "    <tr>\n",
              "      <th>13</th>\n",
              "      <td>2023</td>\n",
              "      <td>155731</td>\n",
              "    </tr>\n",
              "  </tbody>\n",
              "</table>\n",
              "</div>\n",
              "    <div class=\"colab-df-buttons\">\n",
              "\n",
              "  <div class=\"colab-df-container\">\n",
              "    <button class=\"colab-df-convert\" onclick=\"convertToInteractive('df-b434d109-2a79-43e2-9530-95e993c792f3')\"\n",
              "            title=\"Convert this dataframe to an interactive table.\"\n",
              "            style=\"display:none;\">\n",
              "\n",
              "  <svg xmlns=\"http://www.w3.org/2000/svg\" height=\"24px\" viewBox=\"0 -960 960 960\">\n",
              "    <path d=\"M120-120v-720h720v720H120Zm60-500h600v-160H180v160Zm220 220h160v-160H400v160Zm0 220h160v-160H400v160ZM180-400h160v-160H180v160Zm440 0h160v-160H620v160ZM180-180h160v-160H180v160Zm440 0h160v-160H620v160Z\"/>\n",
              "  </svg>\n",
              "    </button>\n",
              "\n",
              "  <style>\n",
              "    .colab-df-container {\n",
              "      display:flex;\n",
              "      gap: 12px;\n",
              "    }\n",
              "\n",
              "    .colab-df-convert {\n",
              "      background-color: #E8F0FE;\n",
              "      border: none;\n",
              "      border-radius: 50%;\n",
              "      cursor: pointer;\n",
              "      display: none;\n",
              "      fill: #1967D2;\n",
              "      height: 32px;\n",
              "      padding: 0 0 0 0;\n",
              "      width: 32px;\n",
              "    }\n",
              "\n",
              "    .colab-df-convert:hover {\n",
              "      background-color: #E2EBFA;\n",
              "      box-shadow: 0px 1px 2px rgba(60, 64, 67, 0.3), 0px 1px 3px 1px rgba(60, 64, 67, 0.15);\n",
              "      fill: #174EA6;\n",
              "    }\n",
              "\n",
              "    .colab-df-buttons div {\n",
              "      margin-bottom: 4px;\n",
              "    }\n",
              "\n",
              "    [theme=dark] .colab-df-convert {\n",
              "      background-color: #3B4455;\n",
              "      fill: #D2E3FC;\n",
              "    }\n",
              "\n",
              "    [theme=dark] .colab-df-convert:hover {\n",
              "      background-color: #434B5C;\n",
              "      box-shadow: 0px 1px 3px 1px rgba(0, 0, 0, 0.15);\n",
              "      filter: drop-shadow(0px 1px 2px rgba(0, 0, 0, 0.3));\n",
              "      fill: #FFFFFF;\n",
              "    }\n",
              "  </style>\n",
              "\n",
              "    <script>\n",
              "      const buttonEl =\n",
              "        document.querySelector('#df-b434d109-2a79-43e2-9530-95e993c792f3 button.colab-df-convert');\n",
              "      buttonEl.style.display =\n",
              "        google.colab.kernel.accessAllowed ? 'block' : 'none';\n",
              "\n",
              "      async function convertToInteractive(key) {\n",
              "        const element = document.querySelector('#df-b434d109-2a79-43e2-9530-95e993c792f3');\n",
              "        const dataTable =\n",
              "          await google.colab.kernel.invokeFunction('convertToInteractive',\n",
              "                                                    [key], {});\n",
              "        if (!dataTable) return;\n",
              "\n",
              "        const docLinkHtml = 'Like what you see? Visit the ' +\n",
              "          '<a target=\"_blank\" href=https://colab.research.google.com/notebooks/data_table.ipynb>data table notebook</a>'\n",
              "          + ' to learn more about interactive tables.';\n",
              "        element.innerHTML = '';\n",
              "        dataTable['output_type'] = 'display_data';\n",
              "        await google.colab.output.renderOutput(dataTable, element);\n",
              "        const docLink = document.createElement('div');\n",
              "        docLink.innerHTML = docLinkHtml;\n",
              "        element.appendChild(docLink);\n",
              "      }\n",
              "    </script>\n",
              "  </div>\n",
              "\n",
              "\n",
              "<div id=\"df-ced12719-2feb-4c96-a9de-3c61ba5c1a7b\">\n",
              "  <button class=\"colab-df-quickchart\" onclick=\"quickchart('df-ced12719-2feb-4c96-a9de-3c61ba5c1a7b')\"\n",
              "            title=\"Suggest charts\"\n",
              "            style=\"display:none;\">\n",
              "\n",
              "<svg xmlns=\"http://www.w3.org/2000/svg\" height=\"24px\"viewBox=\"0 0 24 24\"\n",
              "     width=\"24px\">\n",
              "    <g>\n",
              "        <path d=\"M19 3H5c-1.1 0-2 .9-2 2v14c0 1.1.9 2 2 2h14c1.1 0 2-.9 2-2V5c0-1.1-.9-2-2-2zM9 17H7v-7h2v7zm4 0h-2V7h2v10zm4 0h-2v-4h2v4z\"/>\n",
              "    </g>\n",
              "</svg>\n",
              "  </button>\n",
              "\n",
              "<style>\n",
              "  .colab-df-quickchart {\n",
              "      --bg-color: #E8F0FE;\n",
              "      --fill-color: #1967D2;\n",
              "      --hover-bg-color: #E2EBFA;\n",
              "      --hover-fill-color: #174EA6;\n",
              "      --disabled-fill-color: #AAA;\n",
              "      --disabled-bg-color: #DDD;\n",
              "  }\n",
              "\n",
              "  [theme=dark] .colab-df-quickchart {\n",
              "      --bg-color: #3B4455;\n",
              "      --fill-color: #D2E3FC;\n",
              "      --hover-bg-color: #434B5C;\n",
              "      --hover-fill-color: #FFFFFF;\n",
              "      --disabled-bg-color: #3B4455;\n",
              "      --disabled-fill-color: #666;\n",
              "  }\n",
              "\n",
              "  .colab-df-quickchart {\n",
              "    background-color: var(--bg-color);\n",
              "    border: none;\n",
              "    border-radius: 50%;\n",
              "    cursor: pointer;\n",
              "    display: none;\n",
              "    fill: var(--fill-color);\n",
              "    height: 32px;\n",
              "    padding: 0;\n",
              "    width: 32px;\n",
              "  }\n",
              "\n",
              "  .colab-df-quickchart:hover {\n",
              "    background-color: var(--hover-bg-color);\n",
              "    box-shadow: 0 1px 2px rgba(60, 64, 67, 0.3), 0 1px 3px 1px rgba(60, 64, 67, 0.15);\n",
              "    fill: var(--button-hover-fill-color);\n",
              "  }\n",
              "\n",
              "  .colab-df-quickchart-complete:disabled,\n",
              "  .colab-df-quickchart-complete:disabled:hover {\n",
              "    background-color: var(--disabled-bg-color);\n",
              "    fill: var(--disabled-fill-color);\n",
              "    box-shadow: none;\n",
              "  }\n",
              "\n",
              "  .colab-df-spinner {\n",
              "    border: 2px solid var(--fill-color);\n",
              "    border-color: transparent;\n",
              "    border-bottom-color: var(--fill-color);\n",
              "    animation:\n",
              "      spin 1s steps(1) infinite;\n",
              "  }\n",
              "\n",
              "  @keyframes spin {\n",
              "    0% {\n",
              "      border-color: transparent;\n",
              "      border-bottom-color: var(--fill-color);\n",
              "      border-left-color: var(--fill-color);\n",
              "    }\n",
              "    20% {\n",
              "      border-color: transparent;\n",
              "      border-left-color: var(--fill-color);\n",
              "      border-top-color: var(--fill-color);\n",
              "    }\n",
              "    30% {\n",
              "      border-color: transparent;\n",
              "      border-left-color: var(--fill-color);\n",
              "      border-top-color: var(--fill-color);\n",
              "      border-right-color: var(--fill-color);\n",
              "    }\n",
              "    40% {\n",
              "      border-color: transparent;\n",
              "      border-right-color: var(--fill-color);\n",
              "      border-top-color: var(--fill-color);\n",
              "    }\n",
              "    60% {\n",
              "      border-color: transparent;\n",
              "      border-right-color: var(--fill-color);\n",
              "    }\n",
              "    80% {\n",
              "      border-color: transparent;\n",
              "      border-right-color: var(--fill-color);\n",
              "      border-bottom-color: var(--fill-color);\n",
              "    }\n",
              "    90% {\n",
              "      border-color: transparent;\n",
              "      border-bottom-color: var(--fill-color);\n",
              "    }\n",
              "  }\n",
              "</style>\n",
              "\n",
              "  <script>\n",
              "    async function quickchart(key) {\n",
              "      const quickchartButtonEl =\n",
              "        document.querySelector('#' + key + ' button');\n",
              "      quickchartButtonEl.disabled = true;  // To prevent multiple clicks.\n",
              "      quickchartButtonEl.classList.add('colab-df-spinner');\n",
              "      try {\n",
              "        const charts = await google.colab.kernel.invokeFunction(\n",
              "            'suggestCharts', [key], {});\n",
              "      } catch (error) {\n",
              "        console.error('Error during call to suggestCharts:', error);\n",
              "      }\n",
              "      quickchartButtonEl.classList.remove('colab-df-spinner');\n",
              "      quickchartButtonEl.classList.add('colab-df-quickchart-complete');\n",
              "    }\n",
              "    (() => {\n",
              "      let quickchartButtonEl =\n",
              "        document.querySelector('#df-ced12719-2feb-4c96-a9de-3c61ba5c1a7b button');\n",
              "      quickchartButtonEl.style.display =\n",
              "        google.colab.kernel.accessAllowed ? 'block' : 'none';\n",
              "    })();\n",
              "  </script>\n",
              "</div>\n",
              "\n",
              "  <div id=\"id_3b6860bd-0459-4985-a409-ef8122bcd98a\">\n",
              "    <style>\n",
              "      .colab-df-generate {\n",
              "        background-color: #E8F0FE;\n",
              "        border: none;\n",
              "        border-radius: 50%;\n",
              "        cursor: pointer;\n",
              "        display: none;\n",
              "        fill: #1967D2;\n",
              "        height: 32px;\n",
              "        padding: 0 0 0 0;\n",
              "        width: 32px;\n",
              "      }\n",
              "\n",
              "      .colab-df-generate:hover {\n",
              "        background-color: #E2EBFA;\n",
              "        box-shadow: 0px 1px 2px rgba(60, 64, 67, 0.3), 0px 1px 3px 1px rgba(60, 64, 67, 0.15);\n",
              "        fill: #174EA6;\n",
              "      }\n",
              "\n",
              "      [theme=dark] .colab-df-generate {\n",
              "        background-color: #3B4455;\n",
              "        fill: #D2E3FC;\n",
              "      }\n",
              "\n",
              "      [theme=dark] .colab-df-generate:hover {\n",
              "        background-color: #434B5C;\n",
              "        box-shadow: 0px 1px 3px 1px rgba(0, 0, 0, 0.15);\n",
              "        filter: drop-shadow(0px 1px 2px rgba(0, 0, 0, 0.3));\n",
              "        fill: #FFFFFF;\n",
              "      }\n",
              "    </style>\n",
              "    <button class=\"colab-df-generate\" onclick=\"generateWithVariable('años')\"\n",
              "            title=\"Generate code using this dataframe.\"\n",
              "            style=\"display:none;\">\n",
              "\n",
              "  <svg xmlns=\"http://www.w3.org/2000/svg\" height=\"24px\"viewBox=\"0 0 24 24\"\n",
              "       width=\"24px\">\n",
              "    <path d=\"M7,19H8.4L18.45,9,17,7.55,7,17.6ZM5,21V16.75L18.45,3.32a2,2,0,0,1,2.83,0l1.4,1.43a1.91,1.91,0,0,1,.58,1.4,1.91,1.91,0,0,1-.58,1.4L9.25,21ZM18.45,9,17,7.55Zm-12,3A5.31,5.31,0,0,0,4.9,8.1,5.31,5.31,0,0,0,1,6.5,5.31,5.31,0,0,0,4.9,4.9,5.31,5.31,0,0,0,6.5,1,5.31,5.31,0,0,0,8.1,4.9,5.31,5.31,0,0,0,12,6.5,5.46,5.46,0,0,0,6.5,12Z\"/>\n",
              "  </svg>\n",
              "    </button>\n",
              "    <script>\n",
              "      (() => {\n",
              "      const buttonEl =\n",
              "        document.querySelector('#id_3b6860bd-0459-4985-a409-ef8122bcd98a button.colab-df-generate');\n",
              "      buttonEl.style.display =\n",
              "        google.colab.kernel.accessAllowed ? 'block' : 'none';\n",
              "\n",
              "      buttonEl.onclick = () => {\n",
              "        google.colab.notebook.generateWithVariable('años');\n",
              "      }\n",
              "      })();\n",
              "    </script>\n",
              "  </div>\n",
              "\n",
              "    </div>\n",
              "  </div>\n"
            ]
          },
          "metadata": {},
          "execution_count": 47
        }
      ]
    },
    {
      "cell_type": "code",
      "source": [
        "import warnings\n",
        "warnings.filterwarnings(\"ignore\")\n",
        "\n",
        "fig, (ax1, ax2) = plt.subplots(nrows=2, ncols=1, figsize = (8, 6))\n",
        "\n",
        "sns.lineplot(data = años, x= 'date_year', y='total_delitos', ax= ax1)\n",
        "sns.barplot(data = años, x= 'date_year', y='total_delitos', ax= ax2)\n",
        "ax1.set_xlabel(\"\")\n",
        "\n",
        "fig.subplots_adjust(hspace = 0.3)\n",
        "\n",
        "ax1.set_title(\"Total de reportes por año\")\n",
        "ax2.set_title(\"Total de reportes por año\")"
      ],
      "metadata": {
        "id": "tlRd0_-bPiNR",
        "colab": {
          "base_uri": "https://localhost:8080/",
          "height": 590
        },
        "outputId": "de69d457-53e7-485d-ca2a-2fcdb40cf8aa"
      },
      "execution_count": null,
      "outputs": [
        {
          "output_type": "execute_result",
          "data": {
            "text/plain": [
              "Text(0.5, 1.0, 'Total de reportes por año')"
            ]
          },
          "metadata": {},
          "execution_count": 48
        },
        {
          "output_type": "display_data",
          "data": {
            "text/plain": [
              "<Figure size 800x600 with 2 Axes>"
            ],
            "image/png": "[encoded data removed]"
          },
          "metadata": {}
        }
      ]
    },
    {
      "cell_type": "markdown",
      "source": [
        "Como se puede observar, el año en el que menos se reportaron incidencias fue el 2014, concoren un reporte por el gobierno de california"
      ],
      "metadata": {
        "id": "g2sKNPM2YSaG"
      }
    },
    {
      "cell_type": "markdown",
      "source": [
        "## Sección 5: Correlaciones y Regresión Linear Simple\n"
      ],
      "metadata": {
        "id": "XGKK9sZczw74"
      }
    },
    {
      "cell_type": "code",
      "source": [
        "\n",
        "crimenes_reportados.dtypes"
      ],
      "metadata": {
        "id": "CNHLTQAmz6kZ",
        "colab": {
          "base_uri": "https://localhost:8080/"
        },
        "outputId": "1f04f5cc-a25e-4b06-de7a-c91440391626"
      },
      "execution_count": null,
      "outputs": [
        {
          "output_type": "execute_result",
          "data": {
            "text/plain": [
              "date occured     object\n",
              "time              int64\n",
              "area code        object\n",
              "area             object\n",
              "district          int64\n",
              "description      object\n",
              "mocodes          object\n",
              "age               int64\n",
              "sex              object\n",
              "race             object\n",
              "context          object\n",
              "weapon           object\n",
              "case status      object\n",
              "ccd1             object\n",
              "location         object\n",
              "street           object\n",
              "latitude        float64\n",
              "longitud        float64\n",
              "dtype: object"
            ]
          },
          "metadata": {},
          "execution_count": 49
        }
      ]
    },
    {
      "cell_type": "code",
      "source": [
        "from sklearn.preprocessing import LabelEncoder\n",
        "encoder = LabelEncoder()"
      ],
      "metadata": {
        "id": "xHegoUhIfZBM"
      },
      "execution_count": null,
      "outputs": []
    },
    {
      "cell_type": "code",
      "source": [
        "# Hacer una copia del dataframe antes de realizar la transformación\n",
        "# Está copia se utiliza para el treemap que necesita la columna description\n",
        "df_crimenes_la = crimenes_reportados.copy()"
      ],
      "metadata": {
        "id": "utG90Z87ke2u"
      },
      "execution_count": null,
      "outputs": []
    },
    {
      "cell_type": "code",
      "source": [
        "# prompt: Mediante el marco de datos df_crimenes_2: transformar los datos de la columna \"description\" a un valor numeríco\n",
        "\n",
        "# prompt: Mediante el marco de datos df_crimenes_2: transformar los datos de la columna \"description\" a un valor numeríco\n",
        "\n",
        "crimenes_reportados['description'] = crimenes_reportados['description'].fillna('None')\n",
        "crimenes_reportados['description'] = crimenes_reportados['description'].map(lambda x: len(x))\n"
      ],
      "metadata": {
        "id": "6pZyLjHnfcwR"
      },
      "execution_count": null,
      "outputs": []
    },
    {
      "cell_type": "code",
      "source": [
        "#Heatmap de cada variable y elegir aquella que te permita tener un valor de R adecuado\n",
        "plt.figure(figsize=(8,6))\n",
        "ax = sns.heatmap(crimenes_reportados.corr(), vmin=-1, vmax=1, annot=True, cmap=\"YlGnBu\")"
      ],
      "metadata": {
        "colab": {
          "base_uri": "https://localhost:8080/",
          "height": 533
        },
        "id": "SgIDl888hrEl",
        "outputId": "c2ca41f0-86e5-4559-f94c-deaf701c4e8b"
      },
      "execution_count": null,
      "outputs": [
        {
          "output_type": "display_data",
          "data": {
            "text/plain": [
              "<Figure size 800x600 with 2 Axes>"
            ],
            "image/png": "[encoded data removed]"
          },
          "metadata": {}
        }
      ]
    },
    {
      "cell_type": "markdown",
      "source": [
        "## Sección 6: Distribuciones Muestrales y Técnicas de Evaluación de Modelos\n"
      ],
      "metadata": {
        "id": "_yRWIYg8z643"
      }
    },
    {
      "cell_type": "markdown",
      "source": [
        "### Histograma"
      ],
      "metadata": {
        "id": "9-JG1aTmwF8_"
      }
    },
    {
      "cell_type": "markdown",
      "source": [
        "Como en todo conjunto de datos (datasets), es común encontrar sesgos. Estos sesgos se refieren a muestras que podrían no representar completamente la población y cuando esto sucede, se considera que el conjunto de datos está sesgado. Evitar por completo estos sesgos puede resultar difícil, ya que a menudo es imposible obtener una muestra que refleje perfectamente a toda la población, pero a pesar de la presencia inevitable de sesgos, es importante reconocer su existencia y tenerlo en cuenta al analizar los datos.\n",
        "\n",
        "Esto es algo que pudimos observar en nuestro conjunto de datos al analizar la cantidad de tipos de armas utilizadas para cometer el crimen. Es por ello que en las celdas siguientes aplicamos el muestreo aleatorio (aleatorizado)."
      ],
      "metadata": {
        "id": "4k9v7hZ4mT4I"
      }
    },
    {
      "cell_type": "markdown",
      "source": [
        "Se lleva a cabo un análisis basado en la cantidad de tipos de armas registradas en el dataset, estas armas corresponden a las empleadas por el criminal. En este caso, utilizamos el muestreo aleatorio con reposición de elementos para seleccionar muestras con la misma probabilidad de ser elegidas y así evitar el sesgo.\n",
        "\n",
        "Para realizar el remuestreo con reposición, se emplea la técnica de bootstrapping.\""
      ],
      "metadata": {
        "id": "jqM5Hn1l2-e8"
      }
    },
    {
      "cell_type": "code",
      "source": [
        "# La columna weapon contiene el tipo de arma que se utilizo en el crimen registrado\n",
        "col_arma_usada = crimenes_reportados['weapon']\n",
        "\n",
        "# Visualizar los datos de la variable weapon\n",
        "print(col_arma_usada)"
      ],
      "metadata": {
        "id": "KWW8eXJJPVqn",
        "colab": {
          "base_uri": "https://localhost:8080/"
        },
        "outputId": "b21575e0-ac12-43f0-ec18-22f45e41b179"
      },
      "execution_count": null,
      "outputs": [
        {
          "output_type": "stream",
          "name": "stdout",
          "text": [
            "DR_NO\n",
            "1307355                                                  NA\n",
            "90631215                                           HAND GUN\n",
            "100100501    STRONG-ARM (HANDS, FIST, FEET OR BODILY FORCE)\n",
            "100100506                                                NA\n",
            "100100508                                                NA\n",
            "                                  ...                      \n",
            "231606525    STRONG-ARM (HANDS, FIST, FEET OR BODILY FORCE)\n",
            "231210064                       UNKNOWN WEAPON/OTHER WEAPON\n",
            "230115220                                                NA\n",
            "230906458                                                NA\n",
            "230319786                                                NA\n",
            "Name: weapon, Length: 2402488, dtype: object\n"
          ]
        }
      ]
    },
    {
      "cell_type": "code",
      "source": [
        "# Los diferentes tipos de armas registradas son las siguientes\n",
        "col_arma_usada.unique()"
      ],
      "metadata": {
        "id": "hpJ95FQR6Io-",
        "colab": {
          "base_uri": "https://localhost:8080/"
        },
        "outputId": "a8d3b705-987d-412c-bbb4-6d4839871746"
      },
      "execution_count": null,
      "outputs": [
        {
          "output_type": "execute_result",
          "data": {
            "text/plain": [
              "array(['NA', 'HAND GUN', 'STRONG-ARM (HANDS, FIST, FEET OR BODILY FORCE)',\n",
              "       'UNKNOWN WEAPON/OTHER WEAPON', 'VERBAL THREAT', 'SIMULATED GUN',\n",
              "       'FOLDING KNIFE', 'OTHER KNIFE', 'MACE/PEPPER SPRAY', 'STICK',\n",
              "       'UNKNOWN FIREARM', 'SWITCH BLADE',\n",
              "       'KNIFE WITH BLADE 6INCHES OR LESS', 'BOARD', 'BLUNT INSTRUMENT',\n",
              "       'SEMI-AUTOMATIC PISTOL', 'VEHICLE', 'OTHER CUTTING INSTRUMENT',\n",
              "       'SCISSORS', 'BOTTLE', 'KNIFE WITH BLADE OVER 6 INCHES IN LENGTH',\n",
              "       'AUTOMATIC WEAPON/SUB-MACHINE GUN', 'CLUB/BAT', 'BRASS KNUCKLES',\n",
              "       'KITCHEN KNIFE', 'BELT FLAILING INSTRUMENT/CHAIN',\n",
              "       'AIR PISTOL/REVOLVER/RIFLE/BB GUN', 'SCREWDRIVER', 'FIRE',\n",
              "       'STUN GUN', 'RIFLE', 'RAZOR BLADE', 'DIRK/DAGGER',\n",
              "       'CAUSTIC CHEMICAL/POISON', 'SHOTGUN', 'ICE PICK',\n",
              "       'ROCK/THROWN OBJECT', 'REVOLVER', 'OTHER FIREARM', 'BOWIE KNIFE',\n",
              "       'HECKLER & KOCH 93 SEMIAUTOMATIC ASSAULT RIFLE', 'SCALDING LIQUID',\n",
              "       'BOMB THREAT', 'MACHETE', 'TOY GUN',\n",
              "       'UZI SEMIAUTOMATIC ASSAULT RIFLE', 'SAWED OFF RIFLE/SHOTGUN',\n",
              "       'SWORD', 'HECKLER & KOCH 91 SEMIAUTOMATIC ASSAULT RIFLE',\n",
              "       'ASSAULT WEAPON/UZI/AK47/ETC', 'EXPLOXIVE DEVICE', 'LIQUOR/DRUGS',\n",
              "       'FIXED OBJECT', 'SEMI-AUTOMATIC RIFLE', 'RAZOR', 'ROPE/LIGATURE',\n",
              "       'TIRE IRON', 'STARTER PISTOL/REVOLVER', 'AXE',\n",
              "       'MARTIAL ARTS WEAPONS', 'CLEAVER', 'STRAIGHT RAZOR', 'DEMAND NOTE',\n",
              "       'UNKNOWN TYPE CUTTING INSTRUMENT', 'BLACKJACK',\n",
              "       'UNK TYPE SEMIAUTOMATIC ASSAULT RIFLE', 'PHYSICAL PRESENCE',\n",
              "       'BOW AND ARROW', 'GLASS', 'SYRINGE',\n",
              "       'MAC-10 SEMIAUTOMATIC ASSAULT WEAPON', 'HAMMER',\n",
              "       'CONCRETE BLOCK/BRICK', 'RELIC FIREARM', 'PIPE/METAL PIPE',\n",
              "       'MAC-11 SEMIAUTOMATIC ASSAULT WEAPON', 'ANTIQUE FIREARM',\n",
              "       'M-14 SEMIAUTOMATIC ASSAULT RIFLE', 'DOG/ANIMAL (SIC ANIMAL ON)',\n",
              "       'M1-1 SEMIAUTOMATIC ASSAULT RIFLE'], dtype=object)"
            ]
          },
          "metadata": {},
          "execution_count": 55
        }
      ]
    },
    {
      "cell_type": "markdown",
      "source": [
        "Queremos determinar si los datos sobre el tipo de armas utilizadas por los criminales presentan algún sesgo o si son representativos para comprender patrones en el empleo de armas delictivas. También buscamos evaluar la incertidumbre en la estimación de la media. Para lograrlo, aplicamos el método de bootstrap, calculando la media en cada una de las muestras obtenidas."
      ],
      "metadata": {
        "id": "JZ_UPehX3c76"
      }
    },
    {
      "cell_type": "code",
      "source": [
        "#Creamos una lista vacía para almacenar las medias\n",
        "means = []\n",
        "\n",
        "for i in range(10_000):\n",
        "  sample = col_arma_usada.sample(n=10_000, replace=True)\n",
        "  # Al obtener la muestra (sample) se realiza un conteo de cada tipo de arma en la muestra\n",
        "  # Es así como pasamos de tener string a números\n",
        "  sample = sample.value_counts()\n",
        "  # Calculamos la media de las muestras de la cantidad de cada tipo de armas en la muestra\n",
        "  means.append(sample.mean())\n",
        "\n",
        "arma_usada_means = pd.Series(means)"
      ],
      "metadata": {
        "id": "ZYKjGS_fNI14"
      },
      "execution_count": null,
      "outputs": []
    },
    {
      "cell_type": "markdown",
      "source": [
        "El bootstrapping aplicado nos permite conocer la distribución muestral.\n",
        "\n",
        "Como se observa, pareciera que existe un sesgo positivo o hacia la derecha. Esto podría significar que los datos sobre el tipo de arma empleada para cometer un crimen en Los Ángeles están un poco sesgados o puede ser un efecto del remuestreo. Otro factor que podría estar relacionado es que los criminales utilizan más cierto tipo de armas."
      ],
      "metadata": {
        "id": "EmzfC3Kg345W"
      }
    },
    {
      "cell_type": "code",
      "source": [
        "#Histograma del arma más usada\n",
        "# Este proceso permite observar la distribución de las medias muestrales\n",
        "sns.set_style('darkgrid')\n",
        "sns.histplot(arma_usada_means).set_title(\"Distribución de medias muestrales de la cantidad del tipo de arma usadas\")\n",
        "plt.xlabel(\"Medias del tipo de arma utilizada en el crimen\")"
      ],
      "metadata": {
        "id": "WX2IA7VU4r_J",
        "colab": {
          "base_uri": "https://localhost:8080/"
        },
        "outputId": "6757fc57-7123-4d2c-bd92-d7268c3769d2"
      },
      "execution_count": null,
      "outputs": [
        {
          "output_type": "execute_result",
          "data": {
            "text/plain": [
              "Text(0.5, 0, 'Medias del tipo de arma utilizada en el crimen')"
            ]
          },
          "metadata": {},
          "execution_count": 57
        },
        {
          "output_type": "display_data",
          "data": {
            "text/plain": [
              "<Figure size 640x480 with 1 Axes>"
            ],
            "image/png": "[encoded data removed]"
          },
          "metadata": {}
        }
      ]
    },
    {
      "cell_type": "markdown",
      "source": [
        "De acuerdo a la curtosis obtenida, que mide el grado de achatamiento de la distribución en comparación con la distribución normal, podemos observar que tenemos cierta variabilidad en nuestros datos.\n",
        "\n",
        "Por otro lado, el valor de la simetría obtenido, podemos determinar que hay más asimetría hacia la derecha en la distribución, siendo un tanto asimétrica debido a que es > 0."
      ],
      "metadata": {
        "id": "tV6LNV5-5Kyj"
      }
    },
    {
      "cell_type": "code",
      "source": [
        "arma_usada_means.kurtosis()"
      ],
      "metadata": {
        "id": "-xOQyfrdSpkq",
        "colab": {
          "base_uri": "https://localhost:8080/"
        },
        "outputId": "3344a31e-b2d6-4fd2-e236-5198f23e79ce"
      },
      "execution_count": null,
      "outputs": [
        {
          "output_type": "execute_result",
          "data": {
            "text/plain": [
              "-0.007563116253420876"
            ]
          },
          "metadata": {},
          "execution_count": 58
        }
      ]
    },
    {
      "cell_type": "code",
      "source": [
        "arma_usada_means.skew()"
      ],
      "metadata": {
        "id": "jTAfjtviSc06",
        "colab": {
          "base_uri": "https://localhost:8080/"
        },
        "outputId": "d02a37d5-01f5-441a-a3ab-9128ee4e7e2b"
      },
      "execution_count": null,
      "outputs": [
        {
          "output_type": "execute_result",
          "data": {
            "text/plain": [
              "0.23075108115825657"
            ]
          },
          "metadata": {},
          "execution_count": 59
        }
      ]
    },
    {
      "cell_type": "markdown",
      "source": [
        "Ahora se calcula el error estándar para conocer la incertidumbre existente.\n",
        "\n",
        "El siguiente resultado se puede interpretar como que mientras menor sea el error, menor será la variabilidad.\n",
        "\n",
        "Por lo tanto, se determinó que la variable 'weapon' puede considerarse significativa para realizar un análisis más profundo, lo que permitirá comprender los patrones delictivos y las medidas que se pueden aplicar para prevenir dichos crímenes."
      ],
      "metadata": {
        "id": "IAyQFnHt5v2W"
      }
    },
    {
      "cell_type": "code",
      "source": [
        "# Error estándar\n",
        "arma_usada_means.std()"
      ],
      "metadata": {
        "id": "krgpdVBcj7R-",
        "colab": {
          "base_uri": "https://localhost:8080/"
        },
        "outputId": "06a65776-b3e1-4995-a958-6521f9f9f051"
      },
      "execution_count": null,
      "outputs": [
        {
          "output_type": "execute_result",
          "data": {
            "text/plain": [
              "7.841009151670486"
            ]
          },
          "metadata": {},
          "execution_count": 60
        }
      ]
    },
    {
      "cell_type": "code",
      "source": [
        "print(f\"Min: {arma_usada_means.min()}\")\n",
        "print(f\"Max: {arma_usada_means.max()}\")\n",
        "print(f\"Rango: {arma_usada_means.max() - arma_usada_means.min()}\")"
      ],
      "metadata": {
        "id": "hAiJ4RLYkIn-",
        "colab": {
          "base_uri": "https://localhost:8080/"
        },
        "outputId": "3e1a58d3-4f80-49c2-f584-4ccf7bcd6cac"
      },
      "execution_count": null,
      "outputs": [
        {
          "output_type": "stream",
          "name": "stdout",
          "text": [
            "Min: 149.2537313432836\n",
            "Max: 208.33333333333334\n",
            "Rango: 59.07960199004975\n"
          ]
        }
      ]
    },
    {
      "cell_type": "markdown",
      "source": [
        "Se obtiene un intervalo de confianza para resumir el nivel de confianza.\n",
        "\n",
        "Tenemos un 95% de seguridad de que al tomar una muestra de la población original y obtenemos la medida estadística, la medida va caer dentro de este rango, con tendencia hacia la mitad del rango."
      ],
      "metadata": {
        "id": "fgEXZ8va57lD"
      }
    },
    {
      "cell_type": "code",
      "source": [
        "# Intervalo de confianza del 95%\n",
        "lim_inferior = arma_usada_means.quantile(0.025)\n",
        "lim_superior = arma_usada_means.quantile(0.975)"
      ],
      "metadata": {
        "id": "zR_9cbb2kPaD"
      },
      "execution_count": null,
      "outputs": []
    },
    {
      "cell_type": "code",
      "source": [
        "print(f\"Intervalo de confianza del 95%: {lim_inferior} < {crimenes_reportados['weapon'][:10_000].value_counts().mean()} > {lim_superior}\")"
      ],
      "metadata": {
        "id": "Wy48p8Ws9aXa",
        "colab": {
          "base_uri": "https://localhost:8080/"
        },
        "outputId": "1340489b-15cd-4840-a437-5e29f929feda"
      },
      "execution_count": null,
      "outputs": [
        {
          "output_type": "stream",
          "name": "stdout",
          "text": [
            "Intervalo de confianza del 95%: 161.29032258064515 < 188.67924528301887 > 192.30769230769232\n"
          ]
        }
      ]
    },
    {
      "cell_type": "markdown",
      "source": [
        "### Regresión Lineal Múltiple\n",
        "Se realiza un modelo de regresión lineal múltiple como modelo de predicción para predecir la edad de las víctimas en base al distrito y el tiempo del delito que fue cometido."
      ],
      "metadata": {
        "id": "56VCs0haqTBu"
      }
    },
    {
      "cell_type": "code",
      "source": [
        "# Asignar variables X(independiente)  e y (dependiente)\n",
        "X= crimenes_reportados[['district','time']]\n",
        "\n",
        "y = pd.DataFrame(crimenes_reportados['age'])\n"
      ],
      "metadata": {
        "id": "C63OILPUpMl7"
      },
      "execution_count": null,
      "outputs": []
    },
    {
      "cell_type": "code",
      "source": [
        "# Visualizar las variables independientes X\n",
        "X.head()"
      ],
      "metadata": {
        "id": "35Jv0BqLqmOn",
        "colab": {
          "base_uri": "https://localhost:8080/"
        },
        "outputId": "6289841d-d7bf-47df-d67a-a326cbfead96"
      },
      "execution_count": null,
      "outputs": [
        {
          "output_type": "execute_result",
          "data": {
            "text/plain": [
              "           district  time\n",
              "DR_NO                    \n",
              "1307355        1385  1350\n",
              "90631215        646   150\n",
              "100100501       176  2100\n",
              "100100506       162  1650\n",
              "100100508       182  2005"
            ],
            "text/html": [
              "\n",
              "  <div id=\"df-3618ca6c-e9d2-462d-b645-4afac322f4b9\" class=\"colab-df-container\">\n",
              "    <div>\n",
              "<style scoped>\n",
              "    .dataframe tbody tr th:only-of-type {\n",
              "        vertical-align: middle;\n",
              "    }\n",
              "\n",
              "    .dataframe tbody tr th {\n",
              "        vertical-align: top;\n",
              "    }\n",
              "\n",
              "    .dataframe thead th {\n",
              "        text-align: right;\n",
              "    }\n",
              "</style>\n",
              "<table border=\"1\" class=\"dataframe\">\n",
              "  <thead>\n",
              "    <tr style=\"text-align: right;\">\n",
              "      <th></th>\n",
              "      <th>district</th>\n",
              "      <th>time</th>\n",
              "    </tr>\n",
              "    <tr>\n",
              "      <th>DR_NO</th>\n",
              "      <th></th>\n",
              "      <th></th>\n",
              "    </tr>\n",
              "  </thead>\n",
              "  <tbody>\n",
              "    <tr>\n",
              "      <th>1307355</th>\n",
              "      <td>1385</td>\n",
              "      <td>1350</td>\n",
              "    </tr>\n",
              "    <tr>\n",
              "      <th>90631215</th>\n",
              "      <td>646</td>\n",
              "      <td>150</td>\n",
              "    </tr>\n",
              "    <tr>\n",
              "      <th>100100501</th>\n",
              "      <td>176</td>\n",
              "      <td>2100</td>\n",
              "    </tr>\n",
              "    <tr>\n",
              "      <th>100100506</th>\n",
              "      <td>162</td>\n",
              "      <td>1650</td>\n",
              "    </tr>\n",
              "    <tr>\n",
              "      <th>100100508</th>\n",
              "      <td>182</td>\n",
              "      <td>2005</td>\n",
              "    </tr>\n",
              "  </tbody>\n",
              "</table>\n",
              "</div>\n",
              "    <div class=\"colab-df-buttons\">\n",
              "\n",
              "  <div class=\"colab-df-container\">\n",
              "    <button class=\"colab-df-convert\" onclick=\"convertToInteractive('df-3618ca6c-e9d2-462d-b645-4afac322f4b9')\"\n",
              "            title=\"Convert this dataframe to an interactive table.\"\n",
              "            style=\"display:none;\">\n",
              "\n",
              "  <svg xmlns=\"http://www.w3.org/2000/svg\" height=\"24px\" viewBox=\"0 -960 960 960\">\n",
              "    <path d=\"M120-120v-720h720v720H120Zm60-500h600v-160H180v160Zm220 220h160v-160H400v160Zm0 220h160v-160H400v160ZM180-400h160v-160H180v160Zm440 0h160v-160H620v160ZM180-180h160v-160H180v160Zm440 0h160v-160H620v160Z\"/>\n",
              "  </svg>\n",
              "    </button>\n",
              "\n",
              "  <style>\n",
              "    .colab-df-container {\n",
              "      display:flex;\n",
              "      gap: 12px;\n",
              "    }\n",
              "\n",
              "    .colab-df-convert {\n",
              "      background-color: #E8F0FE;\n",
              "      border: none;\n",
              "      border-radius: 50%;\n",
              "      cursor: pointer;\n",
              "      display: none;\n",
              "      fill: #1967D2;\n",
              "      height: 32px;\n",
              "      padding: 0 0 0 0;\n",
              "      width: 32px;\n",
              "    }\n",
              "\n",
              "    .colab-df-convert:hover {\n",
              "      background-color: #E2EBFA;\n",
              "      box-shadow: 0px 1px 2px rgba(60, 64, 67, 0.3), 0px 1px 3px 1px rgba(60, 64, 67, 0.15);\n",
              "      fill: #174EA6;\n",
              "    }\n",
              "\n",
              "    .colab-df-buttons div {\n",
              "      margin-bottom: 4px;\n",
              "    }\n",
              "\n",
              "    [theme=dark] .colab-df-convert {\n",
              "      background-color: #3B4455;\n",
              "      fill: #D2E3FC;\n",
              "    }\n",
              "\n",
              "    [theme=dark] .colab-df-convert:hover {\n",
              "      background-color: #434B5C;\n",
              "      box-shadow: 0px 1px 3px 1px rgba(0, 0, 0, 0.15);\n",
              "      filter: drop-shadow(0px 1px 2px rgba(0, 0, 0, 0.3));\n",
              "      fill: #FFFFFF;\n",
              "    }\n",
              "  </style>\n",
              "\n",
              "    <script>\n",
              "      const buttonEl =\n",
              "        document.querySelector('#df-3618ca6c-e9d2-462d-b645-4afac322f4b9 button.colab-df-convert');\n",
              "      buttonEl.style.display =\n",
              "        google.colab.kernel.accessAllowed ? 'block' : 'none';\n",
              "\n",
              "      async function convertToInteractive(key) {\n",
              "        const element = document.querySelector('#df-3618ca6c-e9d2-462d-b645-4afac322f4b9');\n",
              "        const dataTable =\n",
              "          await google.colab.kernel.invokeFunction('convertToInteractive',\n",
              "                                                    [key], {});\n",
              "        if (!dataTable) return;\n",
              "\n",
              "        const docLinkHtml = 'Like what you see? Visit the ' +\n",
              "          '<a target=\"_blank\" href=https://colab.research.google.com/notebooks/data_table.ipynb>data table notebook</a>'\n",
              "          + ' to learn more about interactive tables.';\n",
              "        element.innerHTML = '';\n",
              "        dataTable['output_type'] = 'display_data';\n",
              "        await google.colab.output.renderOutput(dataTable, element);\n",
              "        const docLink = document.createElement('div');\n",
              "        docLink.innerHTML = docLinkHtml;\n",
              "        element.appendChild(docLink);\n",
              "      }\n",
              "    </script>\n",
              "  </div>\n",
              "\n",
              "\n",
              "<div id=\"df-aacdf731-5247-4e11-acc5-3a7f36209c85\">\n",
              "  <button class=\"colab-df-quickchart\" onclick=\"quickchart('df-aacdf731-5247-4e11-acc5-3a7f36209c85')\"\n",
              "            title=\"Suggest charts\"\n",
              "            style=\"display:none;\">\n",
              "\n",
              "<svg xmlns=\"http://www.w3.org/2000/svg\" height=\"24px\"viewBox=\"0 0 24 24\"\n",
              "     width=\"24px\">\n",
              "    <g>\n",
              "        <path d=\"M19 3H5c-1.1 0-2 .9-2 2v14c0 1.1.9 2 2 2h14c1.1 0 2-.9 2-2V5c0-1.1-.9-2-2-2zM9 17H7v-7h2v7zm4 0h-2V7h2v10zm4 0h-2v-4h2v4z\"/>\n",
              "    </g>\n",
              "</svg>\n",
              "  </button>\n",
              "\n",
              "<style>\n",
              "  .colab-df-quickchart {\n",
              "      --bg-color: #E8F0FE;\n",
              "      --fill-color: #1967D2;\n",
              "      --hover-bg-color: #E2EBFA;\n",
              "      --hover-fill-color: #174EA6;\n",
              "      --disabled-fill-color: #AAA;\n",
              "      --disabled-bg-color: #DDD;\n",
              "  }\n",
              "\n",
              "  [theme=dark] .colab-df-quickchart {\n",
              "      --bg-color: #3B4455;\n",
              "      --fill-color: #D2E3FC;\n",
              "      --hover-bg-color: #434B5C;\n",
              "      --hover-fill-color: #FFFFFF;\n",
              "      --disabled-bg-color: #3B4455;\n",
              "      --disabled-fill-color: #666;\n",
              "  }\n",
              "\n",
              "  .colab-df-quickchart {\n",
              "    background-color: var(--bg-color);\n",
              "    border: none;\n",
              "    border-radius: 50%;\n",
              "    cursor: pointer;\n",
              "    display: none;\n",
              "    fill: var(--fill-color);\n",
              "    height: 32px;\n",
              "    padding: 0;\n",
              "    width: 32px;\n",
              "  }\n",
              "\n",
              "  .colab-df-quickchart:hover {\n",
              "    background-color: var(--hover-bg-color);\n",
              "    box-shadow: 0 1px 2px rgba(60, 64, 67, 0.3), 0 1px 3px 1px rgba(60, 64, 67, 0.15);\n",
              "    fill: var(--button-hover-fill-color);\n",
              "  }\n",
              "\n",
              "  .colab-df-quickchart-complete:disabled,\n",
              "  .colab-df-quickchart-complete:disabled:hover {\n",
              "    background-color: var(--disabled-bg-color);\n",
              "    fill: var(--disabled-fill-color);\n",
              "    box-shadow: none;\n",
              "  }\n",
              "\n",
              "  .colab-df-spinner {\n",
              "    border: 2px solid var(--fill-color);\n",
              "    border-color: transparent;\n",
              "    border-bottom-color: var(--fill-color);\n",
              "    animation:\n",
              "      spin 1s steps(1) infinite;\n",
              "  }\n",
              "\n",
              "  @keyframes spin {\n",
              "    0% {\n",
              "      border-color: transparent;\n",
              "      border-bottom-color: var(--fill-color);\n",
              "      border-left-color: var(--fill-color);\n",
              "    }\n",
              "    20% {\n",
              "      border-color: transparent;\n",
              "      border-left-color: var(--fill-color);\n",
              "      border-top-color: var(--fill-color);\n",
              "    }\n",
              "    30% {\n",
              "      border-color: transparent;\n",
              "      border-left-color: var(--fill-color);\n",
              "      border-top-color: var(--fill-color);\n",
              "      border-right-color: var(--fill-color);\n",
              "    }\n",
              "    40% {\n",
              "      border-color: transparent;\n",
              "      border-right-color: var(--fill-color);\n",
              "      border-top-color: var(--fill-color);\n",
              "    }\n",
              "    60% {\n",
              "      border-color: transparent;\n",
              "      border-right-color: var(--fill-color);\n",
              "    }\n",
              "    80% {\n",
              "      border-color: transparent;\n",
              "      border-right-color: var(--fill-color);\n",
              "      border-bottom-color: var(--fill-color);\n",
              "    }\n",
              "    90% {\n",
              "      border-color: transparent;\n",
              "      border-bottom-color: var(--fill-color);\n",
              "    }\n",
              "  }\n",
              "</style>\n",
              "\n",
              "  <script>\n",
              "    async function quickchart(key) {\n",
              "      const quickchartButtonEl =\n",
              "        document.querySelector('#' + key + ' button');\n",
              "      quickchartButtonEl.disabled = true;  // To prevent multiple clicks.\n",
              "      quickchartButtonEl.classList.add('colab-df-spinner');\n",
              "      try {\n",
              "        const charts = await google.colab.kernel.invokeFunction(\n",
              "            'suggestCharts', [key], {});\n",
              "      } catch (error) {\n",
              "        console.error('Error during call to suggestCharts:', error);\n",
              "      }\n",
              "      quickchartButtonEl.classList.remove('colab-df-spinner');\n",
              "      quickchartButtonEl.classList.add('colab-df-quickchart-complete');\n",
              "    }\n",
              "    (() => {\n",
              "      let quickchartButtonEl =\n",
              "        document.querySelector('#df-aacdf731-5247-4e11-acc5-3a7f36209c85 button');\n",
              "      quickchartButtonEl.style.display =\n",
              "        google.colab.kernel.accessAllowed ? 'block' : 'none';\n",
              "    })();\n",
              "  </script>\n",
              "</div>\n",
              "\n",
              "    </div>\n",
              "  </div>\n"
            ]
          },
          "metadata": {},
          "execution_count": 65
        }
      ]
    },
    {
      "cell_type": "code",
      "source": [
        "# Visualizar las variables dependientes y\n",
        "y.head()"
      ],
      "metadata": {
        "id": "bNfdGNqDrR0I",
        "colab": {
          "base_uri": "https://localhost:8080/"
        },
        "outputId": "6e4e7403-46c8-4daa-8f78-855d6c4a7b9a"
      },
      "execution_count": null,
      "outputs": [
        {
          "output_type": "execute_result",
          "data": {
            "text/plain": [
              "           age\n",
              "DR_NO         \n",
              "1307355     48\n",
              "90631215    47\n",
              "100100501   47\n",
              "100100506   23\n",
              "100100508   46"
            ],
            "text/html": [
              "\n",
              "  <div id=\"df-e6f087e0-6186-4c64-ab76-354da7957606\" class=\"colab-df-container\">\n",
              "    <div>\n",
              "<style scoped>\n",
              "    .dataframe tbody tr th:only-of-type {\n",
              "        vertical-align: middle;\n",
              "    }\n",
              "\n",
              "    .dataframe tbody tr th {\n",
              "        vertical-align: top;\n",
              "    }\n",
              "\n",
              "    .dataframe thead th {\n",
              "        text-align: right;\n",
              "    }\n",
              "</style>\n",
              "<table border=\"1\" class=\"dataframe\">\n",
              "  <thead>\n",
              "    <tr style=\"text-align: right;\">\n",
              "      <th></th>\n",
              "      <th>age</th>\n",
              "    </tr>\n",
              "    <tr>\n",
              "      <th>DR_NO</th>\n",
              "      <th></th>\n",
              "    </tr>\n",
              "  </thead>\n",
              "  <tbody>\n",
              "    <tr>\n",
              "      <th>1307355</th>\n",
              "      <td>48</td>\n",
              "    </tr>\n",
              "    <tr>\n",
              "      <th>90631215</th>\n",
              "      <td>47</td>\n",
              "    </tr>\n",
              "    <tr>\n",
              "      <th>100100501</th>\n",
              "      <td>47</td>\n",
              "    </tr>\n",
              "    <tr>\n",
              "      <th>100100506</th>\n",
              "      <td>23</td>\n",
              "    </tr>\n",
              "    <tr>\n",
              "      <th>100100508</th>\n",
              "      <td>46</td>\n",
              "    </tr>\n",
              "  </tbody>\n",
              "</table>\n",
              "</div>\n",
              "    <div class=\"colab-df-buttons\">\n",
              "\n",
              "  <div class=\"colab-df-container\">\n",
              "    <button class=\"colab-df-convert\" onclick=\"convertToInteractive('df-e6f087e0-6186-4c64-ab76-354da7957606')\"\n",
              "            title=\"Convert this dataframe to an interactive table.\"\n",
              "            style=\"display:none;\">\n",
              "\n",
              "  <svg xmlns=\"http://www.w3.org/2000/svg\" height=\"24px\" viewBox=\"0 -960 960 960\">\n",
              "    <path d=\"M120-120v-720h720v720H120Zm60-500h600v-160H180v160Zm220 220h160v-160H400v160Zm0 220h160v-160H400v160ZM180-400h160v-160H180v160Zm440 0h160v-160H620v160ZM180-180h160v-160H180v160Zm440 0h160v-160H620v160Z\"/>\n",
              "  </svg>\n",
              "    </button>\n",
              "\n",
              "  <style>\n",
              "    .colab-df-container {\n",
              "      display:flex;\n",
              "      gap: 12px;\n",
              "    }\n",
              "\n",
              "    .colab-df-convert {\n",
              "      background-color: #E8F0FE;\n",
              "      border: none;\n",
              "      border-radius: 50%;\n",
              "      cursor: pointer;\n",
              "      display: none;\n",
              "      fill: #1967D2;\n",
              "      height: 32px;\n",
              "      padding: 0 0 0 0;\n",
              "      width: 32px;\n",
              "    }\n",
              "\n",
              "    .colab-df-convert:hover {\n",
              "      background-color: #E2EBFA;\n",
              "      box-shadow: 0px 1px 2px rgba(60, 64, 67, 0.3), 0px 1px 3px 1px rgba(60, 64, 67, 0.15);\n",
              "      fill: #174EA6;\n",
              "    }\n",
              "\n",
              "    .colab-df-buttons div {\n",
              "      margin-bottom: 4px;\n",
              "    }\n",
              "\n",
              "    [theme=dark] .colab-df-convert {\n",
              "      background-color: #3B4455;\n",
              "      fill: #D2E3FC;\n",
              "    }\n",
              "\n",
              "    [theme=dark] .colab-df-convert:hover {\n",
              "      background-color: #434B5C;\n",
              "      box-shadow: 0px 1px 3px 1px rgba(0, 0, 0, 0.15);\n",
              "      filter: drop-shadow(0px 1px 2px rgba(0, 0, 0, 0.3));\n",
              "      fill: #FFFFFF;\n",
              "    }\n",
              "  </style>\n",
              "\n",
              "    <script>\n",
              "      const buttonEl =\n",
              "        document.querySelector('#df-e6f087e0-6186-4c64-ab76-354da7957606 button.colab-df-convert');\n",
              "      buttonEl.style.display =\n",
              "        google.colab.kernel.accessAllowed ? 'block' : 'none';\n",
              "\n",
              "      async function convertToInteractive(key) {\n",
              "        const element = document.querySelector('#df-e6f087e0-6186-4c64-ab76-354da7957606');\n",
              "        const dataTable =\n",
              "          await google.colab.kernel.invokeFunction('convertToInteractive',\n",
              "                                                    [key], {});\n",
              "        if (!dataTable) return;\n",
              "\n",
              "        const docLinkHtml = 'Like what you see? Visit the ' +\n",
              "          '<a target=\"_blank\" href=https://colab.research.google.com/notebooks/data_table.ipynb>data table notebook</a>'\n",
              "          + ' to learn more about interactive tables.';\n",
              "        element.innerHTML = '';\n",
              "        dataTable['output_type'] = 'display_data';\n",
              "        await google.colab.output.renderOutput(dataTable, element);\n",
              "        const docLink = document.createElement('div');\n",
              "        docLink.innerHTML = docLinkHtml;\n",
              "        element.appendChild(docLink);\n",
              "      }\n",
              "    </script>\n",
              "  </div>\n",
              "\n",
              "\n",
              "<div id=\"df-835048f0-99fb-4aec-9a02-165a050df823\">\n",
              "  <button class=\"colab-df-quickchart\" onclick=\"quickchart('df-835048f0-99fb-4aec-9a02-165a050df823')\"\n",
              "            title=\"Suggest charts\"\n",
              "            style=\"display:none;\">\n",
              "\n",
              "<svg xmlns=\"http://www.w3.org/2000/svg\" height=\"24px\"viewBox=\"0 0 24 24\"\n",
              "     width=\"24px\">\n",
              "    <g>\n",
              "        <path d=\"M19 3H5c-1.1 0-2 .9-2 2v14c0 1.1.9 2 2 2h14c1.1 0 2-.9 2-2V5c0-1.1-.9-2-2-2zM9 17H7v-7h2v7zm4 0h-2V7h2v10zm4 0h-2v-4h2v4z\"/>\n",
              "    </g>\n",
              "</svg>\n",
              "  </button>\n",
              "\n",
              "<style>\n",
              "  .colab-df-quickchart {\n",
              "      --bg-color: #E8F0FE;\n",
              "      --fill-color: #1967D2;\n",
              "      --hover-bg-color: #E2EBFA;\n",
              "      --hover-fill-color: #174EA6;\n",
              "      --disabled-fill-color: #AAA;\n",
              "      --disabled-bg-color: #DDD;\n",
              "  }\n",
              "\n",
              "  [theme=dark] .colab-df-quickchart {\n",
              "      --bg-color: #3B4455;\n",
              "      --fill-color: #D2E3FC;\n",
              "      --hover-bg-color: #434B5C;\n",
              "      --hover-fill-color: #FFFFFF;\n",
              "      --disabled-bg-color: #3B4455;\n",
              "      --disabled-fill-color: #666;\n",
              "  }\n",
              "\n",
              "  .colab-df-quickchart {\n",
              "    background-color: var(--bg-color);\n",
              "    border: none;\n",
              "    border-radius: 50%;\n",
              "    cursor: pointer;\n",
              "    display: none;\n",
              "    fill: var(--fill-color);\n",
              "    height: 32px;\n",
              "    padding: 0;\n",
              "    width: 32px;\n",
              "  }\n",
              "\n",
              "  .colab-df-quickchart:hover {\n",
              "    background-color: var(--hover-bg-color);\n",
              "    box-shadow: 0 1px 2px rgba(60, 64, 67, 0.3), 0 1px 3px 1px rgba(60, 64, 67, 0.15);\n",
              "    fill: var(--button-hover-fill-color);\n",
              "  }\n",
              "\n",
              "  .colab-df-quickchart-complete:disabled,\n",
              "  .colab-df-quickchart-complete:disabled:hover {\n",
              "    background-color: var(--disabled-bg-color);\n",
              "    fill: var(--disabled-fill-color);\n",
              "    box-shadow: none;\n",
              "  }\n",
              "\n",
              "  .colab-df-spinner {\n",
              "    border: 2px solid var(--fill-color);\n",
              "    border-color: transparent;\n",
              "    border-bottom-color: var(--fill-color);\n",
              "    animation:\n",
              "      spin 1s steps(1) infinite;\n",
              "  }\n",
              "\n",
              "  @keyframes spin {\n",
              "    0% {\n",
              "      border-color: transparent;\n",
              "      border-bottom-color: var(--fill-color);\n",
              "      border-left-color: var(--fill-color);\n",
              "    }\n",
              "    20% {\n",
              "      border-color: transparent;\n",
              "      border-left-color: var(--fill-color);\n",
              "      border-top-color: var(--fill-color);\n",
              "    }\n",
              "    30% {\n",
              "      border-color: transparent;\n",
              "      border-left-color: var(--fill-color);\n",
              "      border-top-color: var(--fill-color);\n",
              "      border-right-color: var(--fill-color);\n",
              "    }\n",
              "    40% {\n",
              "      border-color: transparent;\n",
              "      border-right-color: var(--fill-color);\n",
              "      border-top-color: var(--fill-color);\n",
              "    }\n",
              "    60% {\n",
              "      border-color: transparent;\n",
              "      border-right-color: var(--fill-color);\n",
              "    }\n",
              "    80% {\n",
              "      border-color: transparent;\n",
              "      border-right-color: var(--fill-color);\n",
              "      border-bottom-color: var(--fill-color);\n",
              "    }\n",
              "    90% {\n",
              "      border-color: transparent;\n",
              "      border-bottom-color: var(--fill-color);\n",
              "    }\n",
              "  }\n",
              "</style>\n",
              "\n",
              "  <script>\n",
              "    async function quickchart(key) {\n",
              "      const quickchartButtonEl =\n",
              "        document.querySelector('#' + key + ' button');\n",
              "      quickchartButtonEl.disabled = true;  // To prevent multiple clicks.\n",
              "      quickchartButtonEl.classList.add('colab-df-spinner');\n",
              "      try {\n",
              "        const charts = await google.colab.kernel.invokeFunction(\n",
              "            'suggestCharts', [key], {});\n",
              "      } catch (error) {\n",
              "        console.error('Error during call to suggestCharts:', error);\n",
              "      }\n",
              "      quickchartButtonEl.classList.remove('colab-df-spinner');\n",
              "      quickchartButtonEl.classList.add('colab-df-quickchart-complete');\n",
              "    }\n",
              "    (() => {\n",
              "      let quickchartButtonEl =\n",
              "        document.querySelector('#df-835048f0-99fb-4aec-9a02-165a050df823 button');\n",
              "      quickchartButtonEl.style.display =\n",
              "        google.colab.kernel.accessAllowed ? 'block' : 'none';\n",
              "    })();\n",
              "  </script>\n",
              "</div>\n",
              "\n",
              "    </div>\n",
              "  </div>\n"
            ]
          },
          "metadata": {},
          "execution_count": 66
        }
      ]
    },
    {
      "cell_type": "markdown",
      "source": [
        "Si observamos las siguientes gráficas podemos identificar la distribución de los puntos de datos.\n",
        "\n",
        "Al observar a simple vista parece que estos no cuentan con una relación lineal, por lo que se prosigue con la elaboración del modelo para observar el resultado que se obtiene al emplear los datos."
      ],
      "metadata": {
        "id": "4dyyqm4sIwbp"
      }
    },
    {
      "cell_type": "code",
      "source": [
        "# Observar los datos en relación al distrito y la variable edad\n",
        "plt.scatter(X['district'], y, c = 'royalblue')\n",
        "plt.xlabel(\"Distrito\")\n",
        "plt.ylabel(\"Edad\")\n",
        "plt.title(\"Relación entre el distrito del crimen registrado y la edad de la víctima\")"
      ],
      "metadata": {
        "id": "Rcmb6kiI-VLF",
        "colab": {
          "base_uri": "https://localhost:8080/"
        },
        "outputId": "5379852b-1b0f-4fed-ba40-acd071c9534f"
      },
      "execution_count": null,
      "outputs": [
        {
          "output_type": "execute_result",
          "data": {
            "text/plain": [
              "Text(0.5, 1.0, 'Relación entre el distrito del crimen registrado y la edad de la víctima')"
            ]
          },
          "metadata": {},
          "execution_count": 67
        },
        {
          "output_type": "display_data",
          "data": {
            "text/plain": [
              "<Figure size 640x480 with 1 Axes>"
            ],
            "image/png": "[encoded data removed]"
          },
          "metadata": {}
        }
      ]
    },
    {
      "cell_type": "code",
      "source": [
        "# # Observar los datos en relación al tiempo y la variable edad\n",
        "plt.scatter(X['time'], y, c = 'dodgerblue')\n",
        "plt.xlabel(\"Tiempo\")\n",
        "plt.ylabel(\"Edad\")\n",
        "plt.title(\"Relación entre el tiempo y la edad de la víctima\")"
      ],
      "metadata": {
        "id": "H9hc1WHJAb-V",
        "colab": {
          "base_uri": "https://localhost:8080/",
          "height": 498
        },
        "outputId": "c9ffcaf5-a142-4e65-b202-aee019223042"
      },
      "execution_count": null,
      "outputs": [
        {
          "output_type": "execute_result",
          "data": {
            "text/plain": [
              "Text(0.5, 1.0, 'Relación entre el tiempo y la edad de la víctima')"
            ]
          },
          "metadata": {},
          "execution_count": 68
        },
        {
          "output_type": "display_data",
          "data": {
            "text/plain": [
              "<Figure size 640x480 with 1 Axes>"
            ],
            "image/png": "[encoded data removed]"
          },
          "metadata": {}
        }
      ]
    },
    {
      "cell_type": "markdown",
      "source": [
        "Se realiza la división del conjunto de datos en conjunto de entrenamiento y conjunto de prueba.\n",
        "\n",
        "Al conjunto de entrenamiento le corresponden el 70% de los datos y al conjunto de prueba le corresponde el 30% de los datos."
      ],
      "metadata": {
        "id": "uMzoH4TitPqm"
      }
    },
    {
      "cell_type": "code",
      "source": [
        "# Dividir los datos en conjunto de prueba y entrenamiento\n",
        "X_train, X_test, y_train, y_test = train_test_split(X, y, test_size = 0.3, random_state=42)"
      ],
      "metadata": {
        "id": "XYRSfwZtsuVl"
      },
      "execution_count": null,
      "outputs": []
    },
    {
      "cell_type": "code",
      "source": [
        "# Comenzamos con el entrenamiento del modelo de regresión lineal múltiple\n",
        "# Se crea el modelo\n",
        "reg_lr_multiple = LinearRegression().fit(X_train,y_train)"
      ],
      "metadata": {
        "id": "LTdcdwKCttVy"
      },
      "execution_count": null,
      "outputs": []
    },
    {
      "cell_type": "code",
      "source": [
        "# Se realiza la predicción empleando el conjunto de datos de prueba\n",
        "y_pred = reg_lr_multiple.predict(X_test)"
      ],
      "metadata": {
        "id": "CMRhVI82tuhO"
      },
      "execution_count": null,
      "outputs": []
    },
    {
      "cell_type": "code",
      "source": [
        "# Observamos lo obtenido en la predicción\n",
        "y_pred = y_pred[:,0]\n",
        "y_pred"
      ],
      "metadata": {
        "id": "tSz-oJ0Svw8r",
        "colab": {
          "base_uri": "https://localhost:8080/"
        },
        "outputId": "9e75a065-4a41-4308-c94c-239f3cea2bde"
      },
      "execution_count": null,
      "outputs": [
        {
          "output_type": "execute_result",
          "data": {
            "text/plain": [
              "array([38.08779413, 39.50220361, 38.86297499, ..., 38.75992861,\n",
              "       38.84846917, 38.91757791])"
            ]
          },
          "metadata": {},
          "execution_count": 72
        }
      ]
    },
    {
      "cell_type": "markdown",
      "source": [
        "Como podemos observar en la siguiente celda el score del modelo no es realmente bueno, por lo que el modelo de regresión lineal múltiple no tuvo un buen desempeño y tiene una tendencia a realizar predicciones incorrectas debido a los patrones de los datos, por lo que el modelo no puede ajustarse correctamente a los datos."
      ],
      "metadata": {
        "id": "LuuaslT812fr"
      }
    },
    {
      "cell_type": "code",
      "source": [
        "# Observamos el score obtenido por el modelo\n",
        "reg_lr_multiple.score(X_test, y_test)"
      ],
      "metadata": {
        "id": "A-C5ixCXvZux",
        "colab": {
          "base_uri": "https://localhost:8080/"
        },
        "outputId": "48d3d969-2933-4415-a729-f0f83f6f6771"
      },
      "execution_count": null,
      "outputs": [
        {
          "output_type": "execute_result",
          "data": {
            "text/plain": [
              "0.0011260066205994734"
            ]
          },
          "metadata": {},
          "execution_count": 73
        }
      ]
    },
    {
      "cell_type": "markdown",
      "source": [
        "A partir de las siguientes celdas se aplica la validación cruzada para poder saber cuál es el máximo score que podemos obtener en nuestro modelo con la mejor partición del dataset."
      ],
      "metadata": {
        "id": "T7T7T4qsw9fP"
      }
    },
    {
      "cell_type": "code",
      "source": [
        "# Se realiza la validación cruzada\n",
        "scores = cross_validate(reg_lr_multiple, X, y, scoring='r2')"
      ],
      "metadata": {
        "id": "K6WoFtr0wNRj"
      },
      "execution_count": null,
      "outputs": []
    },
    {
      "cell_type": "code",
      "source": [
        "# Observamos los scores obtenidos\n",
        "scores"
      ],
      "metadata": {
        "id": "VFKZfVh7whO6",
        "colab": {
          "base_uri": "https://localhost:8080/"
        },
        "outputId": "46ed6337-047a-45e8-ffd9-e5018517dd22"
      },
      "execution_count": null,
      "outputs": [
        {
          "output_type": "execute_result",
          "data": {
            "text/plain": [
              "{'fit_time': array([0.40274262, 0.35280919, 0.41904569, 0.49163127, 0.5028038 ]),\n",
              " 'score_time': array([0.04243279, 0.02406025, 0.05199337, 0.05301499, 0.05939293]),\n",
              " 'test_score': array([-0.01243817,  0.00068741,  0.00081024, -0.00114432, -0.00206415])}"
            ]
          },
          "metadata": {},
          "execution_count": 75
        }
      ]
    },
    {
      "cell_type": "markdown",
      "source": [
        "Al aplicar la validación cruzada obtenemos una medida que nos permite conocer el mejor desempeño que se obtiene del modelo y que en consecuencia resulta más confiable."
      ],
      "metadata": {
        "id": "RwynveFxxlCs"
      }
    },
    {
      "cell_type": "code",
      "source": [
        "print(f\"Score del modelo: {scores['test_score'].mean()}\")"
      ],
      "metadata": {
        "id": "FDgBUyQ6wlZL",
        "colab": {
          "base_uri": "https://localhost:8080/"
        },
        "outputId": "c861718b-b4d4-4558-86bc-286c9b0c5bf3"
      },
      "execution_count": null,
      "outputs": [
        {
          "output_type": "stream",
          "name": "stdout",
          "text": [
            "Score del modelo: -0.002829797975572146\n"
          ]
        }
      ]
    },
    {
      "cell_type": "markdown",
      "source": [
        "Al análizar la celda anterior y a los scores obtenidos gracias a la validación cruzada aplicada podemos observar que al utilizar el modelo de regresión lineal en este caso para emplear de igual manera multiple variables (regresión lineal múltiple) podemos suponer que el modelo aplicado a los datos no captura adecuadamente la relación entre las variables para realizar una predicción adecuada y puede requerir ajustes en cuanto a la selección de características (variables) o la consideración de explorar otros modelos ya que la relación entre las variables podría ser no lineal."
      ],
      "metadata": {
        "id": "ZsVKg1TO26nr"
      }
    },
    {
      "cell_type": "markdown",
      "source": [
        "A continuación se visualiza mediante un gráfico el resultado obtenido al aplicar el modelo de regresión lineal, específicamente el modelo de regresión lineal múltiple."
      ],
      "metadata": {
        "id": "YIl63EQ_4MSz"
      }
    },
    {
      "cell_type": "code",
      "source": [
        "plt.rcParams['agg.path.chunksize'] = 200\n",
        "fig, ax = plt.subplots()\n",
        "\n",
        "# Graficar los datos de entrenamiento y prueba\n",
        "ax.scatter(X_train['district'], y_train, color='m', label='Datos de entrenamiento')\n",
        "ax.scatter(X_test['district'], y_test, color='royalblue', label='Datos de prueba')\n",
        "\n",
        "# Graficar la recta de regresión obtenida por el modelo\n",
        "ax.plot(X_test['district'], y_pred, color='black',label='Regresión')\n",
        "\n",
        "#Etiquetas de los ejes 'x' y 'y'\n",
        "ax.set_xlabel('Distrito')\n",
        "ax.set_ylabel('Edad')\n",
        "\n",
        "# Título\n",
        "ax.set_title('Regresión Lineal Múltiple en Base a la Edad de las Víctimas')\n",
        "#Leyenda\n",
        "ax.legend()\n",
        "plt.show()"
      ],
      "metadata": {
        "id": "51La_yQm4aTS",
        "colab": {
          "base_uri": "https://localhost:8080/",
          "height": 425
        },
        "outputId": "62b0aeb0-803c-4e67-e94a-168a3aaae59b"
      },
      "execution_count": null,
      "outputs": [
        {
          "output_type": "error",
          "ename": "OverflowError",
          "evalue": "ignored",
          "traceback": [
            "\u001b[0;31m---------------------------------------------------------------------------\u001b[0m",
            "\u001b[0;31mOverflowError\u001b[0m                             Traceback (most recent call last)",
            "\u001b[0;32m/usr/local/lib/python3.10/dist-packages/IPython/core/formatters.py\u001b[0m in \u001b[0;36m__call__\u001b[0;34m(self, obj)\u001b[0m\n\u001b[1;32m    339\u001b[0m                 \u001b[0;32mpass\u001b[0m\u001b[0;34m\u001b[0m\u001b[0;34m\u001b[0m\u001b[0m\n\u001b[1;32m    340\u001b[0m             \u001b[0;32melse\u001b[0m\u001b[0;34m:\u001b[0m\u001b[0;34m\u001b[0m\u001b[0;34m\u001b[0m\u001b[0m\n\u001b[0;32m--> 341\u001b[0;31m                 \u001b[0;32mreturn\u001b[0m \u001b[0mprinter\u001b[0m\u001b[0;34m(\u001b[0m\u001b[0mobj\u001b[0m\u001b[0;34m)\u001b[0m\u001b[0;34m\u001b[0m\u001b[0;34m\u001b[0m\u001b[0m\n\u001b[0m\u001b[1;32m    342\u001b[0m             \u001b[0;31m# Finally look for special method names\u001b[0m\u001b[0;34m\u001b[0m\u001b[0;34m\u001b[0m\u001b[0m\n\u001b[1;32m    343\u001b[0m             \u001b[0mmethod\u001b[0m \u001b[0;34m=\u001b[0m \u001b[0mget_real_method\u001b[0m\u001b[0;34m(\u001b[0m\u001b[0mobj\u001b[0m\u001b[0;34m,\u001b[0m \u001b[0mself\u001b[0m\u001b[0;34m.\u001b[0m\u001b[0mprint_method\u001b[0m\u001b[0;34m)\u001b[0m\u001b[0;34m\u001b[0m\u001b[0;34m\u001b[0m\u001b[0m\n",
            "\u001b[0;32m/usr/local/lib/python3.10/dist-packages/IPython/core/pylabtools.py\u001b[0m in \u001b[0;36mprint_figure\u001b[0;34m(fig, fmt, bbox_inches, base64, **kwargs)\u001b[0m\n\u001b[1;32m    149\u001b[0m         \u001b[0mFigureCanvasBase\u001b[0m\u001b[0;34m(\u001b[0m\u001b[0mfig\u001b[0m\u001b[0;34m)\u001b[0m\u001b[0;34m\u001b[0m\u001b[0;34m\u001b[0m\u001b[0m\n\u001b[1;32m    150\u001b[0m \u001b[0;34m\u001b[0m\u001b[0m\n\u001b[0;32m--> 151\u001b[0;31m     \u001b[0mfig\u001b[0m\u001b[0;34m.\u001b[0m\u001b[0mcanvas\u001b[0m\u001b[0;34m.\u001b[0m\u001b[0mprint_figure\u001b[0m\u001b[0;34m(\u001b[0m\u001b[0mbytes_io\u001b[0m\u001b[0;34m,\u001b[0m \u001b[0;34m**\u001b[0m\u001b[0mkw\u001b[0m\u001b[0;34m)\u001b[0m\u001b[0;34m\u001b[0m\u001b[0;34m\u001b[0m\u001b[0m\n\u001b[0m\u001b[1;32m    152\u001b[0m     \u001b[0mdata\u001b[0m \u001b[0;34m=\u001b[0m \u001b[0mbytes_io\u001b[0m\u001b[0;34m.\u001b[0m\u001b[0mgetvalue\u001b[0m\u001b[0;34m(\u001b[0m\u001b[0;34m)\u001b[0m\u001b[0;34m\u001b[0m\u001b[0;34m\u001b[0m\u001b[0m\n\u001b[1;32m    153\u001b[0m     \u001b[0;32mif\u001b[0m \u001b[0mfmt\u001b[0m \u001b[0;34m==\u001b[0m \u001b[0;34m'svg'\u001b[0m\u001b[0;34m:\u001b[0m\u001b[0;34m\u001b[0m\u001b[0;34m\u001b[0m\u001b[0m\n",
            "\u001b[0;32m/usr/local/lib/python3.10/dist-packages/matplotlib/backend_bases.py\u001b[0m in \u001b[0;36mprint_figure\u001b[0;34m(self, filename, dpi, facecolor, edgecolor, orientation, format, bbox_inches, pad_inches, bbox_extra_artists, backend, **kwargs)\u001b[0m\n\u001b[1;32m   2364\u001b[0m                 \u001b[0;31m# force the figure dpi to 72), so we need to set it again here.\u001b[0m\u001b[0;34m\u001b[0m\u001b[0;34m\u001b[0m\u001b[0m\n\u001b[1;32m   2365\u001b[0m                 \u001b[0;32mwith\u001b[0m \u001b[0mcbook\u001b[0m\u001b[0;34m.\u001b[0m\u001b[0m_setattr_cm\u001b[0m\u001b[0;34m(\u001b[0m\u001b[0mself\u001b[0m\u001b[0;34m.\u001b[0m\u001b[0mfigure\u001b[0m\u001b[0;34m,\u001b[0m \u001b[0mdpi\u001b[0m\u001b[0;34m=\u001b[0m\u001b[0mdpi\u001b[0m\u001b[0;34m)\u001b[0m\u001b[0;34m:\u001b[0m\u001b[0;34m\u001b[0m\u001b[0;34m\u001b[0m\u001b[0m\n\u001b[0;32m-> 2366\u001b[0;31m                     result = print_method(\n\u001b[0m\u001b[1;32m   2367\u001b[0m                         \u001b[0mfilename\u001b[0m\u001b[0;34m,\u001b[0m\u001b[0;34m\u001b[0m\u001b[0;34m\u001b[0m\u001b[0m\n\u001b[1;32m   2368\u001b[0m                         \u001b[0mfacecolor\u001b[0m\u001b[0;34m=\u001b[0m\u001b[0mfacecolor\u001b[0m\u001b[0;34m,\u001b[0m\u001b[0;34m\u001b[0m\u001b[0;34m\u001b[0m\u001b[0m\n",
            "\u001b[0;32m/usr/local/lib/python3.10/dist-packages/matplotlib/backend_bases.py\u001b[0m in \u001b[0;36m<lambda>\u001b[0;34m(*args, **kwargs)\u001b[0m\n\u001b[1;32m   2230\u001b[0m                 \"bbox_inches_restore\"}\n\u001b[1;32m   2231\u001b[0m             \u001b[0mskip\u001b[0m \u001b[0;34m=\u001b[0m \u001b[0moptional_kws\u001b[0m \u001b[0;34m-\u001b[0m \u001b[0;34m{\u001b[0m\u001b[0;34m*\u001b[0m\u001b[0minspect\u001b[0m\u001b[0;34m.\u001b[0m\u001b[0msignature\u001b[0m\u001b[0;34m(\u001b[0m\u001b[0mmeth\u001b[0m\u001b[0;34m)\u001b[0m\u001b[0;34m.\u001b[0m\u001b[0mparameters\u001b[0m\u001b[0;34m}\u001b[0m\u001b[0;34m\u001b[0m\u001b[0;34m\u001b[0m\u001b[0m\n\u001b[0;32m-> 2232\u001b[0;31m             print_method = functools.wraps(meth)(lambda *args, **kwargs: meth(\n\u001b[0m\u001b[1;32m   2233\u001b[0m                 *args, **{k: v for k, v in kwargs.items() if k not in skip}))\n\u001b[1;32m   2234\u001b[0m         \u001b[0;32melse\u001b[0m\u001b[0;34m:\u001b[0m  \u001b[0;31m# Let third-parties do as they see fit.\u001b[0m\u001b[0;34m\u001b[0m\u001b[0;34m\u001b[0m\u001b[0m\n",
            "\u001b[0;32m/usr/local/lib/python3.10/dist-packages/matplotlib/backends/backend_agg.py\u001b[0m in \u001b[0;36mprint_png\u001b[0;34m(self, filename_or_obj, metadata, pil_kwargs)\u001b[0m\n\u001b[1;32m    507\u001b[0m             \u001b[0;34m*\u001b[0m\u001b[0mmetadata\u001b[0m\u001b[0;34m*\u001b[0m\u001b[0;34m,\u001b[0m \u001b[0mincluding\u001b[0m \u001b[0mthe\u001b[0m \u001b[0mdefault\u001b[0m \u001b[0;34m'Software'\u001b[0m \u001b[0mkey\u001b[0m\u001b[0;34m.\u001b[0m\u001b[0;34m\u001b[0m\u001b[0;34m\u001b[0m\u001b[0m\n\u001b[1;32m    508\u001b[0m         \"\"\"\n\u001b[0;32m--> 509\u001b[0;31m         \u001b[0mself\u001b[0m\u001b[0;34m.\u001b[0m\u001b[0m_print_pil\u001b[0m\u001b[0;34m(\u001b[0m\u001b[0mfilename_or_obj\u001b[0m\u001b[0;34m,\u001b[0m \u001b[0;34m\"png\"\u001b[0m\u001b[0;34m,\u001b[0m \u001b[0mpil_kwargs\u001b[0m\u001b[0;34m,\u001b[0m \u001b[0mmetadata\u001b[0m\u001b[0;34m)\u001b[0m\u001b[0;34m\u001b[0m\u001b[0;34m\u001b[0m\u001b[0m\n\u001b[0m\u001b[1;32m    510\u001b[0m \u001b[0;34m\u001b[0m\u001b[0m\n\u001b[1;32m    511\u001b[0m     \u001b[0;32mdef\u001b[0m \u001b[0mprint_to_buffer\u001b[0m\u001b[0;34m(\u001b[0m\u001b[0mself\u001b[0m\u001b[0;34m)\u001b[0m\u001b[0;34m:\u001b[0m\u001b[0;34m\u001b[0m\u001b[0;34m\u001b[0m\u001b[0m\n",
            "\u001b[0;32m/usr/local/lib/python3.10/dist-packages/matplotlib/backends/backend_agg.py\u001b[0m in \u001b[0;36m_print_pil\u001b[0;34m(self, filename_or_obj, fmt, pil_kwargs, metadata)\u001b[0m\n\u001b[1;32m    455\u001b[0m         *pil_kwargs* and *metadata* are forwarded).\n\u001b[1;32m    456\u001b[0m         \"\"\"\n\u001b[0;32m--> 457\u001b[0;31m         \u001b[0mFigureCanvasAgg\u001b[0m\u001b[0;34m.\u001b[0m\u001b[0mdraw\u001b[0m\u001b[0;34m(\u001b[0m\u001b[0mself\u001b[0m\u001b[0;34m)\u001b[0m\u001b[0;34m\u001b[0m\u001b[0;34m\u001b[0m\u001b[0m\n\u001b[0m\u001b[1;32m    458\u001b[0m         mpl.image.imsave(\n\u001b[1;32m    459\u001b[0m             \u001b[0mfilename_or_obj\u001b[0m\u001b[0;34m,\u001b[0m \u001b[0mself\u001b[0m\u001b[0;34m.\u001b[0m\u001b[0mbuffer_rgba\u001b[0m\u001b[0;34m(\u001b[0m\u001b[0;34m)\u001b[0m\u001b[0;34m,\u001b[0m \u001b[0mformat\u001b[0m\u001b[0;34m=\u001b[0m\u001b[0mfmt\u001b[0m\u001b[0;34m,\u001b[0m \u001b[0morigin\u001b[0m\u001b[0;34m=\u001b[0m\u001b[0;34m\"upper\"\u001b[0m\u001b[0;34m,\u001b[0m\u001b[0;34m\u001b[0m\u001b[0;34m\u001b[0m\u001b[0m\n",
            "\u001b[0;32m/usr/local/lib/python3.10/dist-packages/matplotlib/backends/backend_agg.py\u001b[0m in \u001b[0;36mdraw\u001b[0;34m(self)\u001b[0m\n\u001b[1;32m    398\u001b[0m              (self.toolbar._wait_cursor_for_draw_cm() if self.toolbar\n\u001b[1;32m    399\u001b[0m               else nullcontext()):\n\u001b[0;32m--> 400\u001b[0;31m             \u001b[0mself\u001b[0m\u001b[0;34m.\u001b[0m\u001b[0mfigure\u001b[0m\u001b[0;34m.\u001b[0m\u001b[0mdraw\u001b[0m\u001b[0;34m(\u001b[0m\u001b[0mself\u001b[0m\u001b[0;34m.\u001b[0m\u001b[0mrenderer\u001b[0m\u001b[0;34m)\u001b[0m\u001b[0;34m\u001b[0m\u001b[0;34m\u001b[0m\u001b[0m\n\u001b[0m\u001b[1;32m    401\u001b[0m             \u001b[0;31m# A GUI class may be need to update a window using this draw, so\u001b[0m\u001b[0;34m\u001b[0m\u001b[0;34m\u001b[0m\u001b[0m\n\u001b[1;32m    402\u001b[0m             \u001b[0;31m# don't forget to call the superclass.\u001b[0m\u001b[0;34m\u001b[0m\u001b[0;34m\u001b[0m\u001b[0m\n",
            "\u001b[0;32m/usr/local/lib/python3.10/dist-packages/matplotlib/artist.py\u001b[0m in \u001b[0;36mdraw_wrapper\u001b[0;34m(artist, renderer, *args, **kwargs)\u001b[0m\n\u001b[1;32m     93\u001b[0m     \u001b[0;34m@\u001b[0m\u001b[0mwraps\u001b[0m\u001b[0;34m(\u001b[0m\u001b[0mdraw\u001b[0m\u001b[0;34m)\u001b[0m\u001b[0;34m\u001b[0m\u001b[0;34m\u001b[0m\u001b[0m\n\u001b[1;32m     94\u001b[0m     \u001b[0;32mdef\u001b[0m \u001b[0mdraw_wrapper\u001b[0m\u001b[0;34m(\u001b[0m\u001b[0martist\u001b[0m\u001b[0;34m,\u001b[0m \u001b[0mrenderer\u001b[0m\u001b[0;34m,\u001b[0m \u001b[0;34m*\u001b[0m\u001b[0margs\u001b[0m\u001b[0;34m,\u001b[0m \u001b[0;34m**\u001b[0m\u001b[0mkwargs\u001b[0m\u001b[0;34m)\u001b[0m\u001b[0;34m:\u001b[0m\u001b[0;34m\u001b[0m\u001b[0;34m\u001b[0m\u001b[0m\n\u001b[0;32m---> 95\u001b[0;31m         \u001b[0mresult\u001b[0m \u001b[0;34m=\u001b[0m \u001b[0mdraw\u001b[0m\u001b[0;34m(\u001b[0m\u001b[0martist\u001b[0m\u001b[0;34m,\u001b[0m \u001b[0mrenderer\u001b[0m\u001b[0;34m,\u001b[0m \u001b[0;34m*\u001b[0m\u001b[0margs\u001b[0m\u001b[0;34m,\u001b[0m \u001b[0;34m**\u001b[0m\u001b[0mkwargs\u001b[0m\u001b[0;34m)\u001b[0m\u001b[0;34m\u001b[0m\u001b[0;34m\u001b[0m\u001b[0m\n\u001b[0m\u001b[1;32m     96\u001b[0m         \u001b[0;32mif\u001b[0m \u001b[0mrenderer\u001b[0m\u001b[0;34m.\u001b[0m\u001b[0m_rasterizing\u001b[0m\u001b[0;34m:\u001b[0m\u001b[0;34m\u001b[0m\u001b[0;34m\u001b[0m\u001b[0m\n\u001b[1;32m     97\u001b[0m             \u001b[0mrenderer\u001b[0m\u001b[0;34m.\u001b[0m\u001b[0mstop_rasterizing\u001b[0m\u001b[0;34m(\u001b[0m\u001b[0;34m)\u001b[0m\u001b[0;34m\u001b[0m\u001b[0;34m\u001b[0m\u001b[0m\n",
            "\u001b[0;32m/usr/local/lib/python3.10/dist-packages/matplotlib/artist.py\u001b[0m in \u001b[0;36mdraw_wrapper\u001b[0;34m(artist, renderer)\u001b[0m\n\u001b[1;32m     70\u001b[0m                 \u001b[0mrenderer\u001b[0m\u001b[0;34m.\u001b[0m\u001b[0mstart_filter\u001b[0m\u001b[0;34m(\u001b[0m\u001b[0;34m)\u001b[0m\u001b[0;34m\u001b[0m\u001b[0;34m\u001b[0m\u001b[0m\n\u001b[1;32m     71\u001b[0m \u001b[0;34m\u001b[0m\u001b[0m\n\u001b[0;32m---> 72\u001b[0;31m             \u001b[0;32mreturn\u001b[0m \u001b[0mdraw\u001b[0m\u001b[0;34m(\u001b[0m\u001b[0martist\u001b[0m\u001b[0;34m,\u001b[0m \u001b[0mrenderer\u001b[0m\u001b[0;34m)\u001b[0m\u001b[0;34m\u001b[0m\u001b[0;34m\u001b[0m\u001b[0m\n\u001b[0m\u001b[1;32m     73\u001b[0m         \u001b[0;32mfinally\u001b[0m\u001b[0;34m:\u001b[0m\u001b[0;34m\u001b[0m\u001b[0;34m\u001b[0m\u001b[0m\n\u001b[1;32m     74\u001b[0m             \u001b[0;32mif\u001b[0m \u001b[0martist\u001b[0m\u001b[0;34m.\u001b[0m\u001b[0mget_agg_filter\u001b[0m\u001b[0;34m(\u001b[0m\u001b[0;34m)\u001b[0m \u001b[0;32mis\u001b[0m \u001b[0;32mnot\u001b[0m \u001b[0;32mNone\u001b[0m\u001b[0;34m:\u001b[0m\u001b[0;34m\u001b[0m\u001b[0;34m\u001b[0m\u001b[0m\n",
            "\u001b[0;32m/usr/local/lib/python3.10/dist-packages/matplotlib/figure.py\u001b[0m in \u001b[0;36mdraw\u001b[0;34m(self, renderer)\u001b[0m\n\u001b[1;32m   3138\u001b[0m \u001b[0;34m\u001b[0m\u001b[0m\n\u001b[1;32m   3139\u001b[0m             \u001b[0mself\u001b[0m\u001b[0;34m.\u001b[0m\u001b[0mpatch\u001b[0m\u001b[0;34m.\u001b[0m\u001b[0mdraw\u001b[0m\u001b[0;34m(\u001b[0m\u001b[0mrenderer\u001b[0m\u001b[0;34m)\u001b[0m\u001b[0;34m\u001b[0m\u001b[0;34m\u001b[0m\u001b[0m\n\u001b[0;32m-> 3140\u001b[0;31m             mimage._draw_list_compositing_images(\n\u001b[0m\u001b[1;32m   3141\u001b[0m                 renderer, self, artists, self.suppressComposite)\n\u001b[1;32m   3142\u001b[0m \u001b[0;34m\u001b[0m\u001b[0m\n",
            "\u001b[0;32m/usr/local/lib/python3.10/dist-packages/matplotlib/image.py\u001b[0m in \u001b[0;36m_draw_list_compositing_images\u001b[0;34m(renderer, parent, artists, suppress_composite)\u001b[0m\n\u001b[1;32m    129\u001b[0m     \u001b[0;32mif\u001b[0m \u001b[0mnot_composite\u001b[0m \u001b[0;32mor\u001b[0m \u001b[0;32mnot\u001b[0m \u001b[0mhas_images\u001b[0m\u001b[0;34m:\u001b[0m\u001b[0;34m\u001b[0m\u001b[0;34m\u001b[0m\u001b[0m\n\u001b[1;32m    130\u001b[0m         \u001b[0;32mfor\u001b[0m \u001b[0ma\u001b[0m \u001b[0;32min\u001b[0m \u001b[0martists\u001b[0m\u001b[0;34m:\u001b[0m\u001b[0;34m\u001b[0m\u001b[0;34m\u001b[0m\u001b[0m\n\u001b[0;32m--> 131\u001b[0;31m             \u001b[0ma\u001b[0m\u001b[0;34m.\u001b[0m\u001b[0mdraw\u001b[0m\u001b[0;34m(\u001b[0m\u001b[0mrenderer\u001b[0m\u001b[0;34m)\u001b[0m\u001b[0;34m\u001b[0m\u001b[0;34m\u001b[0m\u001b[0m\n\u001b[0m\u001b[1;32m    132\u001b[0m     \u001b[0;32melse\u001b[0m\u001b[0;34m:\u001b[0m\u001b[0;34m\u001b[0m\u001b[0;34m\u001b[0m\u001b[0m\n\u001b[1;32m    133\u001b[0m         \u001b[0;31m# Composite any adjacent images together\u001b[0m\u001b[0;34m\u001b[0m\u001b[0;34m\u001b[0m\u001b[0m\n",
            "\u001b[0;32m/usr/local/lib/python3.10/dist-packages/matplotlib/artist.py\u001b[0m in \u001b[0;36mdraw_wrapper\u001b[0;34m(artist, renderer)\u001b[0m\n\u001b[1;32m     70\u001b[0m                 \u001b[0mrenderer\u001b[0m\u001b[0;34m.\u001b[0m\u001b[0mstart_filter\u001b[0m\u001b[0;34m(\u001b[0m\u001b[0;34m)\u001b[0m\u001b[0;34m\u001b[0m\u001b[0;34m\u001b[0m\u001b[0m\n\u001b[1;32m     71\u001b[0m \u001b[0;34m\u001b[0m\u001b[0m\n\u001b[0;32m---> 72\u001b[0;31m             \u001b[0;32mreturn\u001b[0m \u001b[0mdraw\u001b[0m\u001b[0;34m(\u001b[0m\u001b[0martist\u001b[0m\u001b[0;34m,\u001b[0m \u001b[0mrenderer\u001b[0m\u001b[0;34m)\u001b[0m\u001b[0;34m\u001b[0m\u001b[0;34m\u001b[0m\u001b[0m\n\u001b[0m\u001b[1;32m     73\u001b[0m         \u001b[0;32mfinally\u001b[0m\u001b[0;34m:\u001b[0m\u001b[0;34m\u001b[0m\u001b[0;34m\u001b[0m\u001b[0m\n\u001b[1;32m     74\u001b[0m             \u001b[0;32mif\u001b[0m \u001b[0martist\u001b[0m\u001b[0;34m.\u001b[0m\u001b[0mget_agg_filter\u001b[0m\u001b[0;34m(\u001b[0m\u001b[0;34m)\u001b[0m \u001b[0;32mis\u001b[0m \u001b[0;32mnot\u001b[0m \u001b[0;32mNone\u001b[0m\u001b[0;34m:\u001b[0m\u001b[0;34m\u001b[0m\u001b[0;34m\u001b[0m\u001b[0m\n",
            "\u001b[0;32m/usr/local/lib/python3.10/dist-packages/matplotlib/axes/_base.py\u001b[0m in \u001b[0;36mdraw\u001b[0;34m(self, renderer)\u001b[0m\n\u001b[1;32m   3062\u001b[0m             \u001b[0m_draw_rasterized\u001b[0m\u001b[0;34m(\u001b[0m\u001b[0mself\u001b[0m\u001b[0;34m.\u001b[0m\u001b[0mfigure\u001b[0m\u001b[0;34m,\u001b[0m \u001b[0martists_rasterized\u001b[0m\u001b[0;34m,\u001b[0m \u001b[0mrenderer\u001b[0m\u001b[0;34m)\u001b[0m\u001b[0;34m\u001b[0m\u001b[0;34m\u001b[0m\u001b[0m\n\u001b[1;32m   3063\u001b[0m \u001b[0;34m\u001b[0m\u001b[0m\n\u001b[0;32m-> 3064\u001b[0;31m         mimage._draw_list_compositing_images(\n\u001b[0m\u001b[1;32m   3065\u001b[0m             renderer, self, artists, self.figure.suppressComposite)\n\u001b[1;32m   3066\u001b[0m \u001b[0;34m\u001b[0m\u001b[0m\n",
            "\u001b[0;32m/usr/local/lib/python3.10/dist-packages/matplotlib/image.py\u001b[0m in \u001b[0;36m_draw_list_compositing_images\u001b[0;34m(renderer, parent, artists, suppress_composite)\u001b[0m\n\u001b[1;32m    129\u001b[0m     \u001b[0;32mif\u001b[0m \u001b[0mnot_composite\u001b[0m \u001b[0;32mor\u001b[0m \u001b[0;32mnot\u001b[0m \u001b[0mhas_images\u001b[0m\u001b[0;34m:\u001b[0m\u001b[0;34m\u001b[0m\u001b[0;34m\u001b[0m\u001b[0m\n\u001b[1;32m    130\u001b[0m         \u001b[0;32mfor\u001b[0m \u001b[0ma\u001b[0m \u001b[0;32min\u001b[0m \u001b[0martists\u001b[0m\u001b[0;34m:\u001b[0m\u001b[0;34m\u001b[0m\u001b[0;34m\u001b[0m\u001b[0m\n\u001b[0;32m--> 131\u001b[0;31m             \u001b[0ma\u001b[0m\u001b[0;34m.\u001b[0m\u001b[0mdraw\u001b[0m\u001b[0;34m(\u001b[0m\u001b[0mrenderer\u001b[0m\u001b[0;34m)\u001b[0m\u001b[0;34m\u001b[0m\u001b[0;34m\u001b[0m\u001b[0m\n\u001b[0m\u001b[1;32m    132\u001b[0m     \u001b[0;32melse\u001b[0m\u001b[0;34m:\u001b[0m\u001b[0;34m\u001b[0m\u001b[0;34m\u001b[0m\u001b[0m\n\u001b[1;32m    133\u001b[0m         \u001b[0;31m# Composite any adjacent images together\u001b[0m\u001b[0;34m\u001b[0m\u001b[0;34m\u001b[0m\u001b[0m\n",
            "\u001b[0;32m/usr/local/lib/python3.10/dist-packages/matplotlib/artist.py\u001b[0m in \u001b[0;36mdraw_wrapper\u001b[0;34m(artist, renderer)\u001b[0m\n\u001b[1;32m     70\u001b[0m                 \u001b[0mrenderer\u001b[0m\u001b[0;34m.\u001b[0m\u001b[0mstart_filter\u001b[0m\u001b[0;34m(\u001b[0m\u001b[0;34m)\u001b[0m\u001b[0;34m\u001b[0m\u001b[0;34m\u001b[0m\u001b[0m\n\u001b[1;32m     71\u001b[0m \u001b[0;34m\u001b[0m\u001b[0m\n\u001b[0;32m---> 72\u001b[0;31m             \u001b[0;32mreturn\u001b[0m \u001b[0mdraw\u001b[0m\u001b[0;34m(\u001b[0m\u001b[0martist\u001b[0m\u001b[0;34m,\u001b[0m \u001b[0mrenderer\u001b[0m\u001b[0;34m)\u001b[0m\u001b[0;34m\u001b[0m\u001b[0;34m\u001b[0m\u001b[0m\n\u001b[0m\u001b[1;32m     73\u001b[0m         \u001b[0;32mfinally\u001b[0m\u001b[0;34m:\u001b[0m\u001b[0;34m\u001b[0m\u001b[0;34m\u001b[0m\u001b[0m\n\u001b[1;32m     74\u001b[0m             \u001b[0;32mif\u001b[0m \u001b[0martist\u001b[0m\u001b[0;34m.\u001b[0m\u001b[0mget_agg_filter\u001b[0m\u001b[0;34m(\u001b[0m\u001b[0;34m)\u001b[0m \u001b[0;32mis\u001b[0m \u001b[0;32mnot\u001b[0m \u001b[0;32mNone\u001b[0m\u001b[0;34m:\u001b[0m\u001b[0;34m\u001b[0m\u001b[0;34m\u001b[0m\u001b[0m\n",
            "\u001b[0;32m/usr/local/lib/python3.10/dist-packages/matplotlib/lines.py\u001b[0m in \u001b[0;36mdraw\u001b[0;34m(self, renderer)\u001b[0m\n\u001b[1;32m    796\u001b[0m \u001b[0;34m\u001b[0m\u001b[0m\n\u001b[1;32m    797\u001b[0m                 \u001b[0mgc\u001b[0m\u001b[0;34m.\u001b[0m\u001b[0mset_dashes\u001b[0m\u001b[0;34m(\u001b[0m\u001b[0;34m*\u001b[0m\u001b[0mself\u001b[0m\u001b[0;34m.\u001b[0m\u001b[0m_dash_pattern\u001b[0m\u001b[0;34m)\u001b[0m\u001b[0;34m\u001b[0m\u001b[0;34m\u001b[0m\u001b[0m\n\u001b[0;32m--> 798\u001b[0;31m                 \u001b[0mrenderer\u001b[0m\u001b[0;34m.\u001b[0m\u001b[0mdraw_path\u001b[0m\u001b[0;34m(\u001b[0m\u001b[0mgc\u001b[0m\u001b[0;34m,\u001b[0m \u001b[0mtpath\u001b[0m\u001b[0;34m,\u001b[0m \u001b[0maffine\u001b[0m\u001b[0;34m.\u001b[0m\u001b[0mfrozen\u001b[0m\u001b[0;34m(\u001b[0m\u001b[0;34m)\u001b[0m\u001b[0;34m)\u001b[0m\u001b[0;34m\u001b[0m\u001b[0;34m\u001b[0m\u001b[0m\n\u001b[0m\u001b[1;32m    799\u001b[0m                 \u001b[0mgc\u001b[0m\u001b[0;34m.\u001b[0m\u001b[0mrestore\u001b[0m\u001b[0;34m(\u001b[0m\u001b[0;34m)\u001b[0m\u001b[0;34m\u001b[0m\u001b[0;34m\u001b[0m\u001b[0m\n\u001b[1;32m    800\u001b[0m \u001b[0;34m\u001b[0m\u001b[0m\n",
            "\u001b[0;32m/usr/local/lib/python3.10/dist-packages/matplotlib/backends/backend_agg.py\u001b[0m in \u001b[0;36mdraw_path\u001b[0;34m(self, gc, path, transform, rgbFace)\u001b[0m\n\u001b[1;32m    185\u001b[0m                         )\n\u001b[1;32m    186\u001b[0m \u001b[0;34m\u001b[0m\u001b[0m\n\u001b[0;32m--> 187\u001b[0;31m                 \u001b[0;32mraise\u001b[0m \u001b[0mOverflowError\u001b[0m\u001b[0;34m(\u001b[0m\u001b[0mmsg\u001b[0m\u001b[0;34m)\u001b[0m \u001b[0;32mfrom\u001b[0m \u001b[0;32mNone\u001b[0m\u001b[0;34m\u001b[0m\u001b[0;34m\u001b[0m\u001b[0m\n\u001b[0m\u001b[1;32m    188\u001b[0m \u001b[0;34m\u001b[0m\u001b[0m\n\u001b[1;32m    189\u001b[0m     \u001b[0;32mdef\u001b[0m \u001b[0mdraw_mathtext\u001b[0m\u001b[0;34m(\u001b[0m\u001b[0mself\u001b[0m\u001b[0;34m,\u001b[0m \u001b[0mgc\u001b[0m\u001b[0;34m,\u001b[0m \u001b[0mx\u001b[0m\u001b[0;34m,\u001b[0m \u001b[0my\u001b[0m\u001b[0;34m,\u001b[0m \u001b[0ms\u001b[0m\u001b[0;34m,\u001b[0m \u001b[0mprop\u001b[0m\u001b[0;34m,\u001b[0m \u001b[0mangle\u001b[0m\u001b[0;34m)\u001b[0m\u001b[0;34m:\u001b[0m\u001b[0;34m\u001b[0m\u001b[0;34m\u001b[0m\u001b[0m\n",
            "\u001b[0;31mOverflowError\u001b[0m: Exceeded cell block limit in Agg.  Please set the value of rcParams['agg.path.chunksize'], (currently 0) to be greater than 100 or increase the path simplification threshold(rcParams['path.simplify_threshold'] = 0.111111111111 by default and path.simplify_threshold = 0.111111111111 on the input)."
          ]
        },
        {
          "output_type": "display_data",
          "data": {
            "text/plain": [
              "<Figure size 640x480 with 1 Axes>"
            ]
          },
          "metadata": {}
        }
      ]
    },
    {
      "cell_type": "code",
      "source": [
        "plt.rcParams['agg.path.chunksize'] = 200\n",
        "fig, ax = plt.subplots()\n",
        "\n",
        "# Graficar los datos de entrenamiento y prueba\n",
        "ax.scatter(X_train['time'], y_train, color='m', label='Datos de entrenamiento')\n",
        "ax.scatter(X_test['time'], y_test, color='royalblue', label='Datos de prueba')\n",
        "\n",
        "# Graficar la recta de regresión obtenida por el modelo\n",
        "ax.plot(X_test['time'], y_pred, color='black',label='Regresión')\n",
        "\n",
        "#Etiquetas de los ejes 'x' y 'y'\n",
        "ax.set_xlabel('Tiempo')\n",
        "ax.set_ylabel('Edad')\n",
        "\n",
        "# Título\n",
        "ax.set_title('Regresión Lineal Múltiple en Base a la Edad de las Víctimas')\n",
        "#Leyenda\n",
        "ax.legend()\n",
        "plt.show()"
      ],
      "metadata": {
        "id": "x7iaeh1z9lSD"
      },
      "execution_count": null,
      "outputs": []
    },
    {
      "cell_type": "code",
      "source": [
        "# Gráfico 3d para observar las variables\n",
        "fig=plt.figure()\n",
        "ax1 = fig.add_subplot(111,projection='3d')\n",
        "ax1.scatter(X_train['district'],X_train['time'],y_train)\n",
        "ax1.scatter(X_test['district'],X_test['time'], y_test)\n",
        "ax1.plot(X_test['district'],X_test['time'], y_pred, c='black')\n",
        "\n",
        "plt.show"
      ],
      "metadata": {
        "id": "AntEsYiwPX5n"
      },
      "execution_count": null,
      "outputs": []
    },
    {
      "cell_type": "markdown",
      "source": [
        "De acuerdo a nuestros resultados, emplear un modelo de regresión lineal no sería lo más óptimo en este momento. Para nuestro dataset, no obtuvimos el resultado deseado que era predecir la edad de las víctimas de crímenes basándonos en las variables de distrito y tiempo."
      ],
      "metadata": {
        "id": "hqToAzDg85HY"
      }
    },
    {
      "cell_type": "markdown",
      "source": [
        "## Sección 7: Visualización de Datos Avanzada"
      ],
      "metadata": {
        "id": "6f8lYdss0GlO"
      }
    },
    {
      "cell_type": "markdown",
      "source": [
        "Se crea un treemap para visualizar datos jerárquicos, es decir, para presentar nuestros datos de manera organizada por niveles.\n",
        "\n",
        "El treemap organizado nos permite observar la relación entre el género de las víctimas, el área donde se registró el crimen y la descripción del delito cometido."
      ],
      "metadata": {
        "id": "v9lYNDHd9LTa"
      }
    },
    {
      "cell_type": "code",
      "source": [
        "# Realizamos una copia del dataframe original (crimenes registrados en Los Ángeles) para poder emplear\n",
        "df_crimenes_la = df_crimenes_la.copy()"
      ],
      "metadata": {
        "id": "ZnYs9xzBSIXk"
      },
      "execution_count": null,
      "outputs": []
    },
    {
      "cell_type": "code",
      "source": [
        "# Creamos una columna count que permite realizar el conteo para el treemap\n",
        "df_crimenes_la['count'] = 1"
      ],
      "metadata": {
        "id": "pFfK8hNOZpFm"
      },
      "execution_count": null,
      "outputs": []
    },
    {
      "cell_type": "markdown",
      "source": [
        "En este treemap, el nivel superior corresponde al área en la que fue registrado el crimen. El siguiente nivel corresponde a la descripción del crimen cometido, y el nivel inferior corresponde al sexo o género de las víctimas del crimen.\n",
        "\n",
        "De acuerdo a la página de la fuente de los datos, cada variable contiene lo siguiente:\n",
        "\n",
        "* area: Las 21 áreas geográficas o divisiones de patrulla, reciben la designación del nombre que hace referencia a la comunidad circundante de la que es responsable.\n",
        "* description: Descripción del crimen cometido.\n",
        "* sex: Contiene el sexo o género de las víctimas. F - Female, M - Male, X - Unknown, NA - Son los datos no registrados."
      ],
      "metadata": {
        "id": "S1V6glEQ9cc5"
      }
    },
    {
      "cell_type": "markdown",
      "source": [
        "Gracias al treemap, podemos identificar el área donde se han realizado más registros de crímenes, el cual sería en el area \"77th Street\" de Los Ángeles, el tipo de crimen más registrado, que es 'Batery - Simple Assault', y el sexo de las víctimas que más sufrieron ese tipo de crimen, Female (sexo femenino)."
      ],
      "metadata": {
        "id": "SN--zy0-9rWF"
      }
    },
    {
      "cell_type": "code",
      "source": [
        "# Treemap\n",
        "fig = px.treemap(df_crimenes_la, path=['area', 'description', 'sex'], values='count')\n",
        "\n",
        "#Configuración\n",
        "#fig.update_traces(marker=dict(cornerradius=5)) # Para redondear las esquinas\n",
        "fig.update_traces(root_color=\"lightgrey\")\n",
        "fig.show()"
      ],
      "metadata": {
        "id": "k23WuOGZSVx8"
      },
      "execution_count": null,
      "outputs": []
    },
    {
      "cell_type": "markdown",
      "source": [
        "### Gráfico de barra apiladas\n",
        "\n"
      ],
      "metadata": {
        "id": "hw4xKk8-gvfP"
      }
    },
    {
      "cell_type": "code",
      "source": [
        "# Observamos los valores unicos en la columna sex\n",
        "crimenes_reportados['sex'].unique()"
      ],
      "metadata": {
        "id": "NG0wMbeVEjRN"
      },
      "execution_count": null,
      "outputs": []
    },
    {
      "cell_type": "markdown",
      "source": [
        "Se realiza un análisis con el objetivo de visualizar mediante una gráfica de barras apiladas la cantidad de víctimas del crimen según el sexo y el estatus de los casos registrados en los que fueron víctimas.\n",
        "\n",
        "Para ello, nos enfocamos en los sexos F (Female) y M (Male)."
      ],
      "metadata": {
        "id": "lkE2L8EP-EH9"
      }
    },
    {
      "cell_type": "code",
      "source": [
        "# Realizamos un filtro en el datraframe para quedarnos con filas donde el valor en la columna 'sex' sea M o F\n",
        "df_crimenes_sex = crimenes_reportados[crimenes_reportados['sex'].isin(['M', 'F'])]\n",
        "\n",
        "# Se visualiza el dataframe resultante\n",
        "df_crimenes_sex.head()"
      ],
      "metadata": {
        "id": "iy6wj7nuEiUo"
      },
      "execution_count": null,
      "outputs": []
    },
    {
      "cell_type": "code",
      "source": [
        "# Observamos la cantidad de casos por estatus de los mismos\n",
        "df_crimenes_sex['case status'].value_counts()"
      ],
      "metadata": {
        "id": "h9Xr8-lsInpF"
      },
      "execution_count": null,
      "outputs": []
    },
    {
      "cell_type": "markdown",
      "source": [
        "Como se observa en la celda anterior, existen valores que son pequeños en comparación con los valores más grandes. Por ello, se realiza un filtrado de los datos para poder observar los tipos de casos en dos partes.\n",
        "\n",
        "Primero se visualizan los datos correspondientes a la cantidad de casos por el estatus de cada caso mediante una gráfica de barras simple."
      ],
      "metadata": {
        "id": "NFWqT_dr-bIP"
      }
    },
    {
      "cell_type": "code",
      "source": [
        "# Gráfica de barras\n",
        "# Filtro para observar los tres primeros tipos de estatus de los casos\n",
        "filtro_status_1 = df_crimenes_sex[df_crimenes_sex['case status'].isin(['Invest Cont', 'Adult Arrest', 'Adult Other'])]\n",
        "\n",
        "sns.set_style('darkgrid')\n",
        "sns.barplot(x = filtro_status_1['case status'].value_counts(), y = filtro_status_1['case status'].unique(), palette = 'Set2', linewidth = 2).set_title(\"Cantidad de casos por estatus de los casos\")"
      ],
      "metadata": {
        "id": "cdcKr0PK8m4s"
      },
      "execution_count": null,
      "outputs": []
    },
    {
      "cell_type": "code",
      "source": [
        "# Filtro para observar el estatus de los casos que contiene una cantidad pequeña de casos en dicho estatus\n",
        "# Se quiere observar todos los estatus por lo que no se eliminan y se gráfican aparte\n",
        "filtro_status_2 = df_crimenes_sex[df_crimenes_sex['case status'].isin(['Juv Arrest', 'Juv Other'])]\n",
        "\n",
        "sns.set_style('darkgrid')\n",
        "sns.barplot(x = filtro_status_2['case status'].value_counts(), y = filtro_status_2['case status'].unique(),palette = 'Set2', linewidth = 2).set_title(\"Cantidad de casos por estatus de los casos\")"
      ],
      "metadata": {
        "id": "dyKPn9WbHm8H"
      },
      "execution_count": null,
      "outputs": []
    },
    {
      "cell_type": "markdown",
      "source": [
        "Ahora se presenta una gráfica de barras apiladas para visualizar la cantidad de víctimas del crimen por sexo y el estatus de los casos registrados en los que fueron víctimas.\n",
        "\n",
        "En la gráfica, se destaca que el estatus con más registros es 'invest cont', que indica que la investigación del crimen sigue en curso. Esto parece ser predominante en los casos de víctimas del sexo masculino."
      ],
      "metadata": {
        "id": "zKb8FgDD-3_9"
      }
    },
    {
      "cell_type": "code",
      "source": [
        "# Calcular el conteo de casos por estatus de los casos y sexo de las víctimas\n",
        "conteo = filtro_status_1.groupby(['case status', 'sex']).size().unstack()\n",
        "\n",
        "# Gráfica de barras apiladas\n",
        "conteo.plot(kind = 'barh', stacked = True, color=['dodgerblue', 'royalblue'])\n",
        "\n",
        "# Configuración de la gráfica\n",
        "plt.title(\"Cantidad de casos por el estatus de los casos y el sexo de las víctimas\")\n",
        "plt.ylabel(\"Estatus de los casos de crímenes\")\n",
        "plt.xlabel(\"Cantidad de casos\")\n",
        "plt.legend(title = \"Sexo de la víctima\")\n",
        "plt.show()"
      ],
      "metadata": {
        "id": "xfY_vyTUOZmM"
      },
      "execution_count": null,
      "outputs": []
    },
    {
      "cell_type": "markdown",
      "source": [
        "En la siguiente gráfica podemos observar que el estatus con un mayor número de casos es el de 'Juv arrest', el cual hace referencia a que en esos casos se realizó un arresto juvenil, dando a entender que los criminales eran jóvenes. En cuanto al sexo de las víctimas con casos de dicho estatus, se observa que la mayoría de las víctimas eran del sexo masculino."
      ],
      "metadata": {
        "id": "mmdUwi2r_LFH"
      }
    },
    {
      "cell_type": "code",
      "source": [
        "# Calcular el conteo de casos por tipo y sexo\n",
        "\n",
        "conteo = filtro_status_2.groupby(['case status', 'sex']).size().unstack()\n",
        "# Graficar la gráfica de barras apiladas\n",
        "conteo.plot(kind = 'barh', stacked = True, color = ['dodgerblue', 'royalblue'])\n",
        "\n",
        "# Configuración de la gráfica\n",
        "plt.title(\"Cantidad de casos por el estatus de los casos y el sexo de las víctimas\")\n",
        "plt.ylabel(\"Estatus de los casos de crímenes\")\n",
        "plt.xlabel(\"Cantidad de casos\")\n",
        "plt.legend(title = \"Sexo de la víctima\")\n",
        "plt.show()"
      ],
      "metadata": {
        "id": "iHI6pAmtPdOc"
      },
      "execution_count": null,
      "outputs": []
    },
    {
      "cell_type": "markdown",
      "source": [
        "Ahora, se realiza un análisis para poder visualizar mediante la gráfica de barras apiladas la frecuencia del tipo de arma empleada para cometer los crímenes registrados visualizando la división por género de las víctimas que fueron atacadas por el tipo de arma (las 5 armas más empleadas). Esto es con el objetivo de observar como es que cada género (masculino o femenino) influye.\n",
        "\n",
        "Lo que se quiere observar es de acuerdo a los 5 tipos de armas más empleadas.\n"
      ],
      "metadata": {
        "id": "dJcWa-eCITl2"
      }
    },
    {
      "cell_type": "code",
      "source": [
        "# Observamos la cantidad por tipo de arma utilizada en el crimen\n",
        "df_crimenes_sex['weapon'].value_counts()"
      ],
      "metadata": {
        "id": "vlYahRInACUw"
      },
      "execution_count": null,
      "outputs": []
    },
    {
      "cell_type": "code",
      "source": [
        "# Seleccionar las 5 armas más empleadas en los crímenes\n",
        "# Filtro para seleccionar las 5 armas\n",
        "filtro_status_1 = df_crimenes_sex[df_crimenes_sex['weapon'].isin(['STRONG-ARM (HANDS, FIST, FEET OR BODILY FORCE)',\n",
        "                                                                       'VERBAL THREAT',\n",
        "                                                                       'UNKNOWN WEAPON/OTHER WEAPON',\n",
        "                                                                       'HAND GUN',\n",
        "                                                                       'KNIFE WITH BLADE 6INCHES OR LESS'])]\n"
      ],
      "metadata": {
        "id": "pOvk20a1BI6j"
      },
      "execution_count": null,
      "outputs": []
    },
    {
      "cell_type": "markdown",
      "source": [
        "Como resultado obtenemos la siguiente gráfica. De acuerdo a lo registrado al parecer el genero o sexo de las víctimas tiene una participación en el tipo de armas más utilizadas, en los casos en donde se suele emplear el tipo de arma \"strong-arm\" y \"verbal threat\" se registraron más casos en donde las mujeres eran las víctimas, mientras que en crimenes en donde se utilizaron los tipos de armas \"unknow weapon/ other weapon\", \"knif with blade 6inches or less\" y \"Hand gun\" fueron los hombres quienes sufrieron más casos en donde se utilizaron dichas armas."
      ],
      "metadata": {
        "id": "qUtX8FDALCD9"
      }
    },
    {
      "cell_type": "code",
      "source": [
        "# Calcular el conteo de casos por el tipo de arma utilizada y el sexo de las víctimas\n",
        "conteo = filtro_status_1.groupby(['weapon', 'sex']).size().unstack()\n",
        "\n",
        "# Gráfica de barras apiladas\n",
        "conteo.plot(kind = 'barh', stacked = True, color=['darkorange', 'firebrick'])\n",
        "\n",
        "# Configuración de la gráfica\n",
        "plt.title(\"Cantidad de crimenes por el tipo de arma y el sexo de las víctimas\")\n",
        "plt.xlabel(\"Cantidad de casos de crímenes\")\n",
        "plt.ylabel(\"Tipo de arma\")\n",
        "plt.legend(title = \"Sexo de la víctima\")\n",
        "plt.show()"
      ],
      "metadata": {
        "id": "tTgbtMHSCJVT"
      },
      "execution_count": null,
      "outputs": []
    },
    {
      "cell_type": "markdown",
      "source": [
        "## Sección 8: Pruebas A/B y Procesamiento de Lenguaje Natural"
      ],
      "metadata": {
        "id": "ZBWOfzA_0Pik"
      }
    },
    {
      "cell_type": "code",
      "source": [
        "ubicacion_crimenes = crimenes_reportados\n"
      ],
      "metadata": {
        "id": "aX6ZbPZb0WI3"
      },
      "execution_count": null,
      "outputs": []
    },
    {
      "cell_type": "code",
      "source": [
        "ubicacion_crimenes =ubicacion_crimenes.drop(columns=['date occured', 'time', 'area code', 'area', 'district', 'description', 'mocodes', 'age', 'sex', 'race', 'context', 'weapon', 'case status', 'ccd1', 'location', 'street'])\n",
        "#solo me interesan las columnas de latitud y longitud"
      ],
      "metadata": {
        "id": "dPA47xuG8eoD"
      },
      "execution_count": null,
      "outputs": []
    },
    {
      "cell_type": "code",
      "source": [
        "ubicacion_crimenes"
      ],
      "metadata": {
        "id": "5RcWtZJa8obc"
      },
      "execution_count": null,
      "outputs": []
    },
    {
      "cell_type": "code",
      "source": [
        "fig = plt.figure()\n",
        "ax = fig.add_subplot()\n",
        "\n",
        "ax.set_title('Ubicación de crímenes', pad=15)\n",
        "ax.set_xlabel('latitude')\n",
        "ax.set_ylabel('longitud')\n",
        "\n",
        "sns.scatterplot(x=ubicacion_crimenes['latitude'], y=ubicacion_crimenes['longitud'], ax=ax)\n",
        "\n",
        "\n",
        "ax.set_xlim([33, 35])\n",
        "ax.set_ylim([-119, -117])\n",
        "\n",
        "#tuve que modificar los límites ya que si usaba los de default, se veían muy amontonados los puntos"
      ],
      "metadata": {
        "id": "iDVOQGoZ8sxj"
      },
      "execution_count": null,
      "outputs": []
    },
    {
      "cell_type": "code",
      "source": [
        "from sklearn.cluster import KMeans"
      ],
      "metadata": {
        "id": "cB0PdzWk8zed"
      },
      "execution_count": null,
      "outputs": []
    },
    {
      "cell_type": "code",
      "source": [
        "k_means = KMeans(n_clusters=6, max_iter=10000)"
      ],
      "metadata": {
        "id": "bA5ubqmJ81wl"
      },
      "execution_count": null,
      "outputs": []
    },
    {
      "cell_type": "code",
      "source": [
        "k_means.fit(ubicacion_crimenes[['latitude', 'longitud']])"
      ],
      "metadata": {
        "id": "s0t0xwgq82c2"
      },
      "execution_count": null,
      "outputs": []
    },
    {
      "cell_type": "code",
      "source": [
        "centers = k_means.cluster_centers_\n",
        "\n",
        "centers"
      ],
      "metadata": {
        "id": "BeEimeHH84p8"
      },
      "execution_count": null,
      "outputs": []
    },
    {
      "cell_type": "code",
      "source": [
        "fig = plt.figure()\n",
        "ax = fig.add_subplot()\n",
        "\n",
        "ax.set_title('Ubicación de crímenes', pad=15)\n",
        "ax.set_xlabel('latitude')\n",
        "ax.set_ylabel('longitud')\n",
        "\n",
        "ax.set_xlim([33, 35])\n",
        "ax.set_ylim([-119, -117])\n",
        "\n",
        "sns.scatterplot(x=ubicacion_crimenes['latitude'], y=ubicacion_crimenes['longitud'], ax=ax, palette='rainbow');\n",
        "sns.scatterplot(x=centers[:,0], y=centers[:,1], ax=ax, s=100, color='black');"
      ],
      "metadata": {
        "id": "kRGuJhBu87gR"
      },
      "execution_count": null,
      "outputs": []
    },
    {
      "cell_type": "code",
      "source": [
        "clasificaciones = k_means.predict(ubicacion_crimenes[['latitude', 'longitud']])"
      ],
      "metadata": {
        "id": "xNC7IdfU89mn"
      },
      "execution_count": null,
      "outputs": []
    },
    {
      "cell_type": "code",
      "source": [
        "fig = plt.figure()\n",
        "ax = fig.add_subplot()\n",
        "\n",
        "ax.set_title('Locación de crímenes', pad=15)\n",
        "ax.set_xlabel('latitud')\n",
        "ax.set_ylabel('longitud')\n",
        "\n",
        "ax.set_xlim([33, 35])\n",
        "ax.set_ylim([-119, -117])\n",
        "\n",
        "sns.scatterplot(ubicacion_crimenes['latitude'], ubicacion_crimenes['longitud'], ax=ax, hue=clasificaciones, palette='rainbow');\n",
        "sns.scatterplot(centers[:,0], centers[:,1], ax=ax, s=100, color='black');\n",
        "\n",
        "ax.get_legend().remove()"
      ],
      "metadata": {
        "id": "ajMubFjO8-GV"
      },
      "execution_count": null,
      "outputs": []
    },
    {
      "cell_type": "markdown",
      "source": [
        "## Sección 9: Introducción a Machine Learning: Clasificación No Supervisada y Supervisada\n"
      ],
      "metadata": {
        "id": "7mXcGuxv0WSt"
      }
    },
    {
      "cell_type": "code",
      "source": [
        "#Tengo que cambiar la columna de la fecha en que ocurrió a números y sólo el año para poder hacer el análisis de regresión lógica\n",
        "crimenes_reportados_2 = crimenes_reportados\n",
        "crimenes_reportados_2"
      ],
      "metadata": {
        "id": "-NIVRfMM0eOr"
      },
      "execution_count": null,
      "outputs": []
    },
    {
      "cell_type": "code",
      "source": [
        "fechas_divididas = crimenes_reportados_2['date occured'].str.split(\"/\")\n",
        "crimenes_reportados_2['date occured'] = fechas_divididas.str.get(-1)\n",
        "crimenes_reportados_2"
      ],
      "metadata": {
        "id": "BRnQEsNf6zwU"
      },
      "execution_count": null,
      "outputs": []
    },
    {
      "cell_type": "code",
      "source": [
        "crimenes_reportados_2['date occured'] = crimenes_reportados_2['date occured'].astype(int)"
      ],
      "metadata": {
        "id": "xsqBu11o652K"
      },
      "execution_count": null,
      "outputs": []
    },
    {
      "cell_type": "code",
      "source": [
        "crimenes_reportados_2['weapon'].unique()"
      ],
      "metadata": {
        "id": "dp2EFw5g67RC"
      },
      "execution_count": null,
      "outputs": []
    },
    {
      "cell_type": "code",
      "source": [
        "#voy a usar la columa de weapon para hacer el análisis\n",
        "#las celdas que tienen NA las voy a poner en 0, indicando que NO se utilizó un arma\n",
        "#las celdas que si tienen un arma descrita llevarán un 1\n",
        "crimenes_reportados_2['weapon'] = crimenes_reportados['weapon'].apply(lambda x: 1 if x != 'NA' else 0)\n",
        "crimenes_reportados_2"
      ],
      "metadata": {
        "id": "F_FTF5Wm69xv"
      },
      "execution_count": null,
      "outputs": []
    },
    {
      "cell_type": "code",
      "source": [
        "#elimino todas las columnas que no llevan datos numéricos\n",
        "crimenes_reportados_2 = crimenes_reportados_2.drop(columns=['area code', 'area', 'description', 'sex', 'race', 'context', 'case status', 'ccd1', 'location', 'street'])"
      ],
      "metadata": {
        "id": "b1V8CGxR7Jd8"
      },
      "execution_count": null,
      "outputs": []
    },
    {
      "cell_type": "code",
      "source": [
        "crimenes_reportados_2"
      ],
      "metadata": {
        "id": "9Hlum_yS7PRT"
      },
      "execution_count": null,
      "outputs": []
    },
    {
      "cell_type": "code",
      "source": [
        "#después estuvbe batallando con mocodes así que decidí borrarla también, aparte de que no considero importante la información para el análisis\n",
        "crimenes_reportados_2 = crimenes_reportados_2.drop(columns=['mocodes'])"
      ],
      "metadata": {
        "id": "EMx3JI1G7Qxr"
      },
      "execution_count": null,
      "outputs": []
    },
    {
      "cell_type": "code",
      "source": [
        "crimenes_reportados_2 = crimenes_reportados_2.drop(columns=['time'])\n",
        "#tampoco la hora"
      ],
      "metadata": {
        "id": "7bf4n0Qv7ekf"
      },
      "execution_count": null,
      "outputs": []
    },
    {
      "cell_type": "code",
      "source": [
        "from sklearn.linear_model import LogisticRegression\n",
        "from sklearn.model_selection import train_test_split"
      ],
      "metadata": {
        "id": "O4jwgt8r7i4z"
      },
      "execution_count": null,
      "outputs": []
    },
    {
      "cell_type": "code",
      "source": [
        "X_train, X_test, y_train, y_test = train_test_split(X, y, test_size=0.3)"
      ],
      "metadata": {
        "id": "TBBlXAxC7p5Q"
      },
      "execution_count": null,
      "outputs": []
    },
    {
      "cell_type": "code",
      "source": [
        "modelo_logistico = LogisticRegression()"
      ],
      "metadata": {
        "id": "St2ZEtO57qkv"
      },
      "execution_count": null,
      "outputs": []
    },
    {
      "cell_type": "code",
      "source": [
        "modelo_logistico.fit(X_train, y_train)"
      ],
      "metadata": {
        "id": "naG7Ykd47s1B"
      },
      "execution_count": null,
      "outputs": []
    },
    {
      "cell_type": "code",
      "source": [
        "y_pred = modelo_logistico.predict(X_test)\n",
        "\n",
        "y_pred"
      ],
      "metadata": {
        "id": "cDMf8zXp7uzS"
      },
      "execution_count": null,
      "outputs": []
    },
    {
      "cell_type": "code",
      "source": [
        "from sklearn import metrics"
      ],
      "metadata": {
        "id": "4Tf-bPi07wV9"
      },
      "execution_count": null,
      "outputs": []
    },
    {
      "cell_type": "code",
      "source": [
        "cnf_matrix = metrics.confusion_matrix(y_test, y_pred)\n",
        "\n",
        "cnf_matrix"
      ],
      "metadata": {
        "id": "ZkHEjrwV7y6W"
      },
      "execution_count": null,
      "outputs": []
    },
    {
      "cell_type": "code",
      "source": [
        "class_names=[0,1] # name  of classes\n",
        "fig, ax = plt.subplots(figsize=(6, 6))\n",
        "tick_marks = np.arange(len(class_names))\n",
        "plt.xticks(tick_marks, class_names)\n",
        "plt.yticks(tick_marks, class_names)\n",
        "# create heatmap\n",
        "sns.heatmap(pd.DataFrame(cnf_matrix), annot=True, cmap=\"Blues\" ,fmt='g', cbar=False, annot_kws={\"size\": 20})\n",
        "ax.xaxis.set_label_position(\"top\")\n",
        "plt.tight_layout()\n",
        "plt.ylabel('Realidad', fontsize=15, y=0.5)\n",
        "plt.xlabel('Estimado por el modelo', fontsize=15);"
      ],
      "metadata": {
        "id": "FBYtfna-71JU"
      },
      "execution_count": null,
      "outputs": []
    },
    {
      "cell_type": "code",
      "source": [
        "tn, fp, fn, tp = cnf_matrix.ravel()\n",
        "\n",
        "print(\"Precision:\",metrics.precision_score(y_test, y_pred))\n",
        "print(\"Exactitud:\",metrics.accuracy_score(y_test, y_pred))\n",
        "print(\"Sensibilidad:\",metrics.recall_score(y_test, y_pred))\n",
        "print(\"Especificidad:\", tn / (tn + fp))"
      ],
      "metadata": {
        "id": "v5YgDAz37376"
      },
      "execution_count": null,
      "outputs": []
    },
    {
      "cell_type": "code",
      "source": [
        "#Los valores obtenidos no he podido interpretarlos de la manera más óptima\n",
        "#pero el valor de la exactitud es de 0.66, por ende se puede decir que no es tan bueno y que puede mejorar\n",
        "#no comprendo por qué se obtuvo un valor de sensibilidad de 3.288"
      ],
      "metadata": {
        "id": "RE5Q1DD774ab"
      },
      "execution_count": null,
      "outputs": []
    }
  ]
}